{
  "nbformat": 4,
  "nbformat_minor": 0,
  "metadata": {
    "colab": {
      "name": "data_wrangling_on_medication.ipynb",
      "provenance": [],
      "collapsed_sections": []
    },
    "kernelspec": {
      "name": "python3",
      "display_name": "Python 3"
    }
  },
  "cells": [
    {
      "cell_type": "code",
      "metadata": {
        "id": "GdaPAeEGc-NK"
      },
      "source": [
        "import numpy as np\n",
        "import pandas as pd\n",
        "import io\n",
        "from google.colab import files"
      ],
      "execution_count": null,
      "outputs": []
    },
    {
      "cell_type": "code",
      "metadata": {
        "id": "ItPnatl1Yo3e",
        "colab": {
          "resources": {
            "http://localhost:8080/nbextensions/google.colab/files.js": {
              "data": "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",
              "ok": true,
              "headers": [
                [
                  "content-type",
                  "application/javascript"
                ]
              ],
              "status": 200,
              "status_text": ""
            }
          },
          "base_uri": "https://localhost:8080/",
          "height": 626
        },
        "outputId": "e64ddf5c-5361-4f1a-bcf0-91619a75e672"
      },
      "source": [
        "uploaded = files.upload()\n",
        "patients = pd.read_csv(io.StringIO(uploaded['patients.csv'].decode('utf-8')))\n",
        "patients"
      ],
      "execution_count": null,
      "outputs": [
        {
          "output_type": "display_data",
          "data": {
            "text/html": [
              "\n",
              "     <input type=\"file\" id=\"files-d6b53ae4-20ef-4c80-9b47-8eb0be66f4ff\" name=\"files[]\" multiple disabled\n",
              "        style=\"border:none\" />\n",
              "     <output id=\"result-d6b53ae4-20ef-4c80-9b47-8eb0be66f4ff\">\n",
              "      Upload widget is only available when the cell has been executed in the\n",
              "      current browser session. Please rerun this cell to enable.\n",
              "      </output>\n",
              "      <script src=\"/nbextensions/google.colab/files.js\"></script> "
            ],
            "text/plain": [
              "<IPython.core.display.HTML object>"
            ]
          },
          "metadata": {
            "tags": []
          }
        },
        {
          "output_type": "stream",
          "text": [
            "Saving patients.csv to patients (2).csv\n"
          ],
          "name": "stdout"
        },
        {
          "output_type": "execute_result",
          "data": {
            "text/html": [
              "<div>\n",
              "<style scoped>\n",
              "    .dataframe tbody tr th:only-of-type {\n",
              "        vertical-align: middle;\n",
              "    }\n",
              "\n",
              "    .dataframe tbody tr th {\n",
              "        vertical-align: top;\n",
              "    }\n",
              "\n",
              "    .dataframe thead th {\n",
              "        text-align: right;\n",
              "    }\n",
              "</style>\n",
              "<table border=\"1\" class=\"dataframe\">\n",
              "  <thead>\n",
              "    <tr style=\"text-align: right;\">\n",
              "      <th></th>\n",
              "      <th>patient_id</th>\n",
              "      <th>assigned_sex</th>\n",
              "      <th>given_name</th>\n",
              "      <th>surname</th>\n",
              "      <th>address</th>\n",
              "      <th>city</th>\n",
              "      <th>state</th>\n",
              "      <th>zip_code</th>\n",
              "      <th>country</th>\n",
              "      <th>contact</th>\n",
              "      <th>birthdate</th>\n",
              "      <th>weight</th>\n",
              "      <th>height</th>\n",
              "      <th>bmi</th>\n",
              "    </tr>\n",
              "  </thead>\n",
              "  <tbody>\n",
              "    <tr>\n",
              "      <th>0</th>\n",
              "      <td>1</td>\n",
              "      <td>female</td>\n",
              "      <td>Zoe</td>\n",
              "      <td>Wellish</td>\n",
              "      <td>576 Brown Bear Drive</td>\n",
              "      <td>Rancho California</td>\n",
              "      <td>California</td>\n",
              "      <td>92390.0</td>\n",
              "      <td>United States</td>\n",
              "      <td>951-719-9170ZoeWellish@superrito.com</td>\n",
              "      <td>7/10/1976</td>\n",
              "      <td>121.7</td>\n",
              "      <td>66</td>\n",
              "      <td>19.6</td>\n",
              "    </tr>\n",
              "    <tr>\n",
              "      <th>1</th>\n",
              "      <td>2</td>\n",
              "      <td>female</td>\n",
              "      <td>Pamela</td>\n",
              "      <td>Hill</td>\n",
              "      <td>2370 University Hill Road</td>\n",
              "      <td>Armstrong</td>\n",
              "      <td>Illinois</td>\n",
              "      <td>61812.0</td>\n",
              "      <td>United States</td>\n",
              "      <td>PamelaSHill@cuvox.de+1 (217) 569-3204</td>\n",
              "      <td>4/3/1967</td>\n",
              "      <td>118.8</td>\n",
              "      <td>66</td>\n",
              "      <td>19.2</td>\n",
              "    </tr>\n",
              "    <tr>\n",
              "      <th>2</th>\n",
              "      <td>3</td>\n",
              "      <td>male</td>\n",
              "      <td>Jae</td>\n",
              "      <td>Debord</td>\n",
              "      <td>1493 Poling Farm Road</td>\n",
              "      <td>York</td>\n",
              "      <td>Nebraska</td>\n",
              "      <td>68467.0</td>\n",
              "      <td>United States</td>\n",
              "      <td>402-363-6804JaeMDebord@gustr.com</td>\n",
              "      <td>2/19/1980</td>\n",
              "      <td>177.8</td>\n",
              "      <td>71</td>\n",
              "      <td>24.8</td>\n",
              "    </tr>\n",
              "    <tr>\n",
              "      <th>3</th>\n",
              "      <td>4</td>\n",
              "      <td>male</td>\n",
              "      <td>Liêm</td>\n",
              "      <td>Phan</td>\n",
              "      <td>2335 Webster Street</td>\n",
              "      <td>Woodbridge</td>\n",
              "      <td>NJ</td>\n",
              "      <td>7095.0</td>\n",
              "      <td>United States</td>\n",
              "      <td>PhanBaLiem@jourrapide.com+1 (732) 636-8246</td>\n",
              "      <td>7/26/1951</td>\n",
              "      <td>220.9</td>\n",
              "      <td>70</td>\n",
              "      <td>31.7</td>\n",
              "    </tr>\n",
              "    <tr>\n",
              "      <th>4</th>\n",
              "      <td>5</td>\n",
              "      <td>male</td>\n",
              "      <td>Tim</td>\n",
              "      <td>Neudorf</td>\n",
              "      <td>1428 Turkey Pen Lane</td>\n",
              "      <td>Dothan</td>\n",
              "      <td>AL</td>\n",
              "      <td>36303.0</td>\n",
              "      <td>United States</td>\n",
              "      <td>334-515-7487TimNeudorf@cuvox.de</td>\n",
              "      <td>2/18/1928</td>\n",
              "      <td>192.3</td>\n",
              "      <td>27</td>\n",
              "      <td>26.1</td>\n",
              "    </tr>\n",
              "    <tr>\n",
              "      <th>...</th>\n",
              "      <td>...</td>\n",
              "      <td>...</td>\n",
              "      <td>...</td>\n",
              "      <td>...</td>\n",
              "      <td>...</td>\n",
              "      <td>...</td>\n",
              "      <td>...</td>\n",
              "      <td>...</td>\n",
              "      <td>...</td>\n",
              "      <td>...</td>\n",
              "      <td>...</td>\n",
              "      <td>...</td>\n",
              "      <td>...</td>\n",
              "      <td>...</td>\n",
              "    </tr>\n",
              "    <tr>\n",
              "      <th>498</th>\n",
              "      <td>499</td>\n",
              "      <td>male</td>\n",
              "      <td>Mustafa</td>\n",
              "      <td>Lindström</td>\n",
              "      <td>2530 Victoria Court</td>\n",
              "      <td>Milton Mills</td>\n",
              "      <td>ME</td>\n",
              "      <td>3852.0</td>\n",
              "      <td>United States</td>\n",
              "      <td>207-477-0579MustafaLindstrom@jourrapide.com</td>\n",
              "      <td>4/10/1959</td>\n",
              "      <td>181.1</td>\n",
              "      <td>72</td>\n",
              "      <td>24.6</td>\n",
              "    </tr>\n",
              "    <tr>\n",
              "      <th>499</th>\n",
              "      <td>500</td>\n",
              "      <td>male</td>\n",
              "      <td>Ruman</td>\n",
              "      <td>Bisliev</td>\n",
              "      <td>494 Clarksburg Park Road</td>\n",
              "      <td>Sedona</td>\n",
              "      <td>AZ</td>\n",
              "      <td>86341.0</td>\n",
              "      <td>United States</td>\n",
              "      <td>928-284-4492RumanBisliev@gustr.com</td>\n",
              "      <td>3/26/1948</td>\n",
              "      <td>239.6</td>\n",
              "      <td>70</td>\n",
              "      <td>34.4</td>\n",
              "    </tr>\n",
              "    <tr>\n",
              "      <th>500</th>\n",
              "      <td>501</td>\n",
              "      <td>female</td>\n",
              "      <td>Jinke</td>\n",
              "      <td>de Keizer</td>\n",
              "      <td>649 Nutter Street</td>\n",
              "      <td>Overland Park</td>\n",
              "      <td>MO</td>\n",
              "      <td>64110.0</td>\n",
              "      <td>United States</td>\n",
              "      <td>816-223-6007JinkedeKeizer@teleworm.us</td>\n",
              "      <td>1/13/1971</td>\n",
              "      <td>171.2</td>\n",
              "      <td>67</td>\n",
              "      <td>26.8</td>\n",
              "    </tr>\n",
              "    <tr>\n",
              "      <th>501</th>\n",
              "      <td>502</td>\n",
              "      <td>female</td>\n",
              "      <td>Chidalu</td>\n",
              "      <td>Onyekaozulu</td>\n",
              "      <td>3652 Boone Crockett Lane</td>\n",
              "      <td>Seattle</td>\n",
              "      <td>WA</td>\n",
              "      <td>98109.0</td>\n",
              "      <td>United States</td>\n",
              "      <td>ChidaluOnyekaozulu@jourrapide.com1 360 443 2060</td>\n",
              "      <td>2/13/1952</td>\n",
              "      <td>176.9</td>\n",
              "      <td>67</td>\n",
              "      <td>27.7</td>\n",
              "    </tr>\n",
              "    <tr>\n",
              "      <th>502</th>\n",
              "      <td>503</td>\n",
              "      <td>male</td>\n",
              "      <td>Pat</td>\n",
              "      <td>Gersten</td>\n",
              "      <td>2778 North Avenue</td>\n",
              "      <td>Burr</td>\n",
              "      <td>Nebraska</td>\n",
              "      <td>68324.0</td>\n",
              "      <td>United States</td>\n",
              "      <td>PatrickGersten@rhyta.com402-848-4923</td>\n",
              "      <td>5/3/1954</td>\n",
              "      <td>138.2</td>\n",
              "      <td>71</td>\n",
              "      <td>19.3</td>\n",
              "    </tr>\n",
              "  </tbody>\n",
              "</table>\n",
              "<p>503 rows × 14 columns</p>\n",
              "</div>"
            ],
            "text/plain": [
              "     patient_id assigned_sex given_name  ... weight height   bmi\n",
              "0             1       female        Zoe  ...  121.7     66  19.6\n",
              "1             2       female     Pamela  ...  118.8     66  19.2\n",
              "2             3         male        Jae  ...  177.8     71  24.8\n",
              "3             4         male       Liêm  ...  220.9     70  31.7\n",
              "4             5         male        Tim  ...  192.3     27  26.1\n",
              "..          ...          ...        ...  ...    ...    ...   ...\n",
              "498         499         male    Mustafa  ...  181.1     72  24.6\n",
              "499         500         male      Ruman  ...  239.6     70  34.4\n",
              "500         501       female      Jinke  ...  171.2     67  26.8\n",
              "501         502       female    Chidalu  ...  176.9     67  27.7\n",
              "502         503         male        Pat  ...  138.2     71  19.3\n",
              "\n",
              "[503 rows x 14 columns]"
            ]
          },
          "metadata": {
            "tags": []
          },
          "execution_count": 183
        }
      ]
    },
    {
      "cell_type": "code",
      "metadata": {
        "id": "QL-zy9JdYzMX",
        "colab": {
          "resources": {
            "http://localhost:8080/nbextensions/google.colab/files.js": {
              "data": "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",
              "ok": true,
              "headers": [
                [
                  "content-type",
                  "application/javascript"
                ]
              ],
              "status": 200,
              "status_text": ""
            }
          },
          "base_uri": "https://localhost:8080/",
          "height": 458
        },
        "outputId": "b7f32c26-e6fa-4ecb-c30a-a5bc4a9390ba"
      },
      "source": [
        "uploaded = files.upload()\n",
        "treatment = pd.read_csv(io.StringIO(uploaded['treatments.csv'].decode('utf-8')))\n",
        "treatment"
      ],
      "execution_count": null,
      "outputs": [
        {
          "output_type": "display_data",
          "data": {
            "text/html": [
              "\n",
              "     <input type=\"file\" id=\"files-d1b76a93-1bea-450b-89a6-64ed4dbc418f\" name=\"files[]\" multiple disabled\n",
              "        style=\"border:none\" />\n",
              "     <output id=\"result-d1b76a93-1bea-450b-89a6-64ed4dbc418f\">\n",
              "      Upload widget is only available when the cell has been executed in the\n",
              "      current browser session. Please rerun this cell to enable.\n",
              "      </output>\n",
              "      <script src=\"/nbextensions/google.colab/files.js\"></script> "
            ],
            "text/plain": [
              "<IPython.core.display.HTML object>"
            ]
          },
          "metadata": {
            "tags": []
          }
        },
        {
          "output_type": "stream",
          "text": [
            "Saving treatments.csv to treatments (2).csv\n"
          ],
          "name": "stdout"
        },
        {
          "output_type": "execute_result",
          "data": {
            "text/html": [
              "<div>\n",
              "<style scoped>\n",
              "    .dataframe tbody tr th:only-of-type {\n",
              "        vertical-align: middle;\n",
              "    }\n",
              "\n",
              "    .dataframe tbody tr th {\n",
              "        vertical-align: top;\n",
              "    }\n",
              "\n",
              "    .dataframe thead th {\n",
              "        text-align: right;\n",
              "    }\n",
              "</style>\n",
              "<table border=\"1\" class=\"dataframe\">\n",
              "  <thead>\n",
              "    <tr style=\"text-align: right;\">\n",
              "      <th></th>\n",
              "      <th>given_name</th>\n",
              "      <th>surname</th>\n",
              "      <th>auralin</th>\n",
              "      <th>novodra</th>\n",
              "      <th>hba1c_start</th>\n",
              "      <th>hba1c_end</th>\n",
              "      <th>hba1c_change</th>\n",
              "    </tr>\n",
              "  </thead>\n",
              "  <tbody>\n",
              "    <tr>\n",
              "      <th>0</th>\n",
              "      <td>veronika</td>\n",
              "      <td>jindrová</td>\n",
              "      <td>41u - 48u</td>\n",
              "      <td>-</td>\n",
              "      <td>7.63</td>\n",
              "      <td>7.20</td>\n",
              "      <td>NaN</td>\n",
              "    </tr>\n",
              "    <tr>\n",
              "      <th>1</th>\n",
              "      <td>elliot</td>\n",
              "      <td>richardson</td>\n",
              "      <td>-</td>\n",
              "      <td>40u - 45u</td>\n",
              "      <td>7.56</td>\n",
              "      <td>7.09</td>\n",
              "      <td>0.97</td>\n",
              "    </tr>\n",
              "    <tr>\n",
              "      <th>2</th>\n",
              "      <td>yukitaka</td>\n",
              "      <td>takenaka</td>\n",
              "      <td>-</td>\n",
              "      <td>39u - 36u</td>\n",
              "      <td>7.68</td>\n",
              "      <td>7.25</td>\n",
              "      <td>NaN</td>\n",
              "    </tr>\n",
              "    <tr>\n",
              "      <th>3</th>\n",
              "      <td>skye</td>\n",
              "      <td>gormanston</td>\n",
              "      <td>33u - 36u</td>\n",
              "      <td>-</td>\n",
              "      <td>7.97</td>\n",
              "      <td>7.62</td>\n",
              "      <td>0.35</td>\n",
              "    </tr>\n",
              "    <tr>\n",
              "      <th>4</th>\n",
              "      <td>alissa</td>\n",
              "      <td>montez</td>\n",
              "      <td>-</td>\n",
              "      <td>33u - 29u</td>\n",
              "      <td>7.78</td>\n",
              "      <td>7.46</td>\n",
              "      <td>0.32</td>\n",
              "    </tr>\n",
              "    <tr>\n",
              "      <th>...</th>\n",
              "      <td>...</td>\n",
              "      <td>...</td>\n",
              "      <td>...</td>\n",
              "      <td>...</td>\n",
              "      <td>...</td>\n",
              "      <td>...</td>\n",
              "      <td>...</td>\n",
              "    </tr>\n",
              "    <tr>\n",
              "      <th>275</th>\n",
              "      <td>albina</td>\n",
              "      <td>zetticci</td>\n",
              "      <td>45u - 51u</td>\n",
              "      <td>-</td>\n",
              "      <td>7.93</td>\n",
              "      <td>7.73</td>\n",
              "      <td>0.20</td>\n",
              "    </tr>\n",
              "    <tr>\n",
              "      <th>276</th>\n",
              "      <td>john</td>\n",
              "      <td>teichelmann</td>\n",
              "      <td>-</td>\n",
              "      <td>49u - 49u</td>\n",
              "      <td>7.90</td>\n",
              "      <td>7.58</td>\n",
              "      <td>NaN</td>\n",
              "    </tr>\n",
              "    <tr>\n",
              "      <th>277</th>\n",
              "      <td>mathea</td>\n",
              "      <td>lillebø</td>\n",
              "      <td>23u - 36u</td>\n",
              "      <td>-</td>\n",
              "      <td>9.04</td>\n",
              "      <td>8.67</td>\n",
              "      <td>0.37</td>\n",
              "    </tr>\n",
              "    <tr>\n",
              "      <th>278</th>\n",
              "      <td>vallie</td>\n",
              "      <td>prince</td>\n",
              "      <td>31u - 38u</td>\n",
              "      <td>-</td>\n",
              "      <td>7.64</td>\n",
              "      <td>7.28</td>\n",
              "      <td>0.36</td>\n",
              "    </tr>\n",
              "    <tr>\n",
              "      <th>279</th>\n",
              "      <td>samúel</td>\n",
              "      <td>guðbrandsson</td>\n",
              "      <td>53u - 56u</td>\n",
              "      <td>-</td>\n",
              "      <td>8.00</td>\n",
              "      <td>7.64</td>\n",
              "      <td>0.36</td>\n",
              "    </tr>\n",
              "  </tbody>\n",
              "</table>\n",
              "<p>280 rows × 7 columns</p>\n",
              "</div>"
            ],
            "text/plain": [
              "    given_name       surname    auralin  ... hba1c_start  hba1c_end  hba1c_change\n",
              "0     veronika      jindrová  41u - 48u  ...        7.63       7.20           NaN\n",
              "1       elliot    richardson          -  ...        7.56       7.09          0.97\n",
              "2     yukitaka      takenaka          -  ...        7.68       7.25           NaN\n",
              "3         skye    gormanston  33u - 36u  ...        7.97       7.62          0.35\n",
              "4       alissa        montez          -  ...        7.78       7.46          0.32\n",
              "..         ...           ...        ...  ...         ...        ...           ...\n",
              "275     albina      zetticci  45u - 51u  ...        7.93       7.73          0.20\n",
              "276       john   teichelmann          -  ...        7.90       7.58           NaN\n",
              "277     mathea       lillebø  23u - 36u  ...        9.04       8.67          0.37\n",
              "278     vallie        prince  31u - 38u  ...        7.64       7.28          0.36\n",
              "279     samúel  guðbrandsson  53u - 56u  ...        8.00       7.64          0.36\n",
              "\n",
              "[280 rows x 7 columns]"
            ]
          },
          "metadata": {
            "tags": []
          },
          "execution_count": 184
        }
      ]
    },
    {
      "cell_type": "code",
      "metadata": {
        "id": "eqhy148yZDwD",
        "colab": {
          "resources": {
            "http://localhost:8080/nbextensions/google.colab/files.js": {
              "data": "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",
              "ok": true,
              "headers": [
                [
                  "content-type",
                  "application/javascript"
                ]
              ],
              "status": 200,
              "status_text": ""
            }
          },
          "base_uri": "https://localhost:8080/",
          "height": 1000
        },
        "outputId": "6009da1f-2d80-49ad-f842-74626e50653c"
      },
      "source": [
        "uploaded = files.upload()\n",
        "adverse = pd.read_csv(io.StringIO(uploaded['adverse_reactions.csv'].decode('utf-8')))\n",
        "adverse"
      ],
      "execution_count": null,
      "outputs": [
        {
          "output_type": "display_data",
          "data": {
            "text/html": [
              "\n",
              "     <input type=\"file\" id=\"files-66750a0b-c0b3-4376-8311-0008ed7e482f\" name=\"files[]\" multiple disabled\n",
              "        style=\"border:none\" />\n",
              "     <output id=\"result-66750a0b-c0b3-4376-8311-0008ed7e482f\">\n",
              "      Upload widget is only available when the cell has been executed in the\n",
              "      current browser session. Please rerun this cell to enable.\n",
              "      </output>\n",
              "      <script src=\"/nbextensions/google.colab/files.js\"></script> "
            ],
            "text/plain": [
              "<IPython.core.display.HTML object>"
            ]
          },
          "metadata": {
            "tags": []
          }
        },
        {
          "output_type": "stream",
          "text": [
            "Saving adverse_reactions.csv to adverse_reactions (2).csv\n"
          ],
          "name": "stdout"
        },
        {
          "output_type": "execute_result",
          "data": {
            "text/html": [
              "<div>\n",
              "<style scoped>\n",
              "    .dataframe tbody tr th:only-of-type {\n",
              "        vertical-align: middle;\n",
              "    }\n",
              "\n",
              "    .dataframe tbody tr th {\n",
              "        vertical-align: top;\n",
              "    }\n",
              "\n",
              "    .dataframe thead th {\n",
              "        text-align: right;\n",
              "    }\n",
              "</style>\n",
              "<table border=\"1\" class=\"dataframe\">\n",
              "  <thead>\n",
              "    <tr style=\"text-align: right;\">\n",
              "      <th></th>\n",
              "      <th>given_name</th>\n",
              "      <th>surname</th>\n",
              "      <th>adverse_reaction</th>\n",
              "    </tr>\n",
              "  </thead>\n",
              "  <tbody>\n",
              "    <tr>\n",
              "      <th>0</th>\n",
              "      <td>berta</td>\n",
              "      <td>napolitani</td>\n",
              "      <td>injection site discomfort</td>\n",
              "    </tr>\n",
              "    <tr>\n",
              "      <th>1</th>\n",
              "      <td>lena</td>\n",
              "      <td>baer</td>\n",
              "      <td>hypoglycemia</td>\n",
              "    </tr>\n",
              "    <tr>\n",
              "      <th>2</th>\n",
              "      <td>joseph</td>\n",
              "      <td>day</td>\n",
              "      <td>hypoglycemia</td>\n",
              "    </tr>\n",
              "    <tr>\n",
              "      <th>3</th>\n",
              "      <td>flavia</td>\n",
              "      <td>fiorentino</td>\n",
              "      <td>cough</td>\n",
              "    </tr>\n",
              "    <tr>\n",
              "      <th>4</th>\n",
              "      <td>manouck</td>\n",
              "      <td>wubbels</td>\n",
              "      <td>throat irritation</td>\n",
              "    </tr>\n",
              "    <tr>\n",
              "      <th>5</th>\n",
              "      <td>jasmine</td>\n",
              "      <td>sykes</td>\n",
              "      <td>hypoglycemia</td>\n",
              "    </tr>\n",
              "    <tr>\n",
              "      <th>6</th>\n",
              "      <td>louise</td>\n",
              "      <td>johnson</td>\n",
              "      <td>hypoglycemia</td>\n",
              "    </tr>\n",
              "    <tr>\n",
              "      <th>7</th>\n",
              "      <td>albinca</td>\n",
              "      <td>komavec</td>\n",
              "      <td>hypoglycemia</td>\n",
              "    </tr>\n",
              "    <tr>\n",
              "      <th>8</th>\n",
              "      <td>noe</td>\n",
              "      <td>aranda</td>\n",
              "      <td>hypoglycemia</td>\n",
              "    </tr>\n",
              "    <tr>\n",
              "      <th>9</th>\n",
              "      <td>sofia</td>\n",
              "      <td>hermansen</td>\n",
              "      <td>injection site discomfort</td>\n",
              "    </tr>\n",
              "    <tr>\n",
              "      <th>10</th>\n",
              "      <td>tegan</td>\n",
              "      <td>johnson</td>\n",
              "      <td>headache</td>\n",
              "    </tr>\n",
              "    <tr>\n",
              "      <th>11</th>\n",
              "      <td>abel</td>\n",
              "      <td>yonatan</td>\n",
              "      <td>cough</td>\n",
              "    </tr>\n",
              "    <tr>\n",
              "      <th>12</th>\n",
              "      <td>abdul-nur</td>\n",
              "      <td>isa</td>\n",
              "      <td>hypoglycemia</td>\n",
              "    </tr>\n",
              "    <tr>\n",
              "      <th>13</th>\n",
              "      <td>leon</td>\n",
              "      <td>scholz</td>\n",
              "      <td>injection site discomfort</td>\n",
              "    </tr>\n",
              "    <tr>\n",
              "      <th>14</th>\n",
              "      <td>gabriele</td>\n",
              "      <td>saenger</td>\n",
              "      <td>hypoglycemia</td>\n",
              "    </tr>\n",
              "    <tr>\n",
              "      <th>15</th>\n",
              "      <td>jia li</td>\n",
              "      <td>teng</td>\n",
              "      <td>nausea</td>\n",
              "    </tr>\n",
              "    <tr>\n",
              "      <th>16</th>\n",
              "      <td>jakob</td>\n",
              "      <td>jakobsen</td>\n",
              "      <td>hypoglycemia</td>\n",
              "    </tr>\n",
              "    <tr>\n",
              "      <th>17</th>\n",
              "      <td>christopher</td>\n",
              "      <td>woodward</td>\n",
              "      <td>nausea</td>\n",
              "    </tr>\n",
              "    <tr>\n",
              "      <th>18</th>\n",
              "      <td>ole</td>\n",
              "      <td>petersen</td>\n",
              "      <td>hypoglycemia</td>\n",
              "    </tr>\n",
              "    <tr>\n",
              "      <th>19</th>\n",
              "      <td>finley</td>\n",
              "      <td>chandler</td>\n",
              "      <td>headache</td>\n",
              "    </tr>\n",
              "    <tr>\n",
              "      <th>20</th>\n",
              "      <td>anenechi</td>\n",
              "      <td>chidi</td>\n",
              "      <td>hypoglycemia</td>\n",
              "    </tr>\n",
              "    <tr>\n",
              "      <th>21</th>\n",
              "      <td>miłosław</td>\n",
              "      <td>wiśniewski</td>\n",
              "      <td>injection site discomfort</td>\n",
              "    </tr>\n",
              "    <tr>\n",
              "      <th>22</th>\n",
              "      <td>lixue</td>\n",
              "      <td>hsueh</td>\n",
              "      <td>injection site discomfort</td>\n",
              "    </tr>\n",
              "    <tr>\n",
              "      <th>23</th>\n",
              "      <td>merci</td>\n",
              "      <td>leroux</td>\n",
              "      <td>hypoglycemia</td>\n",
              "    </tr>\n",
              "    <tr>\n",
              "      <th>24</th>\n",
              "      <td>kang</td>\n",
              "      <td>mai</td>\n",
              "      <td>injection site discomfort</td>\n",
              "    </tr>\n",
              "    <tr>\n",
              "      <th>25</th>\n",
              "      <td>elliot</td>\n",
              "      <td>richardson</td>\n",
              "      <td>hypoglycemia</td>\n",
              "    </tr>\n",
              "    <tr>\n",
              "      <th>26</th>\n",
              "      <td>clinton</td>\n",
              "      <td>miller</td>\n",
              "      <td>throat irritation</td>\n",
              "    </tr>\n",
              "    <tr>\n",
              "      <th>27</th>\n",
              "      <td>idalia</td>\n",
              "      <td>moore</td>\n",
              "      <td>hypoglycemia</td>\n",
              "    </tr>\n",
              "    <tr>\n",
              "      <th>28</th>\n",
              "      <td>xiuxiu</td>\n",
              "      <td>chang</td>\n",
              "      <td>hypoglycemia</td>\n",
              "    </tr>\n",
              "    <tr>\n",
              "      <th>29</th>\n",
              "      <td>alex</td>\n",
              "      <td>crawford</td>\n",
              "      <td>hypoglycemia</td>\n",
              "    </tr>\n",
              "    <tr>\n",
              "      <th>30</th>\n",
              "      <td>monika</td>\n",
              "      <td>lončar</td>\n",
              "      <td>hypoglycemia</td>\n",
              "    </tr>\n",
              "    <tr>\n",
              "      <th>31</th>\n",
              "      <td>steven</td>\n",
              "      <td>roy</td>\n",
              "      <td>headache</td>\n",
              "    </tr>\n",
              "    <tr>\n",
              "      <th>32</th>\n",
              "      <td>cecilie</td>\n",
              "      <td>nilsen</td>\n",
              "      <td>hypoglycemia</td>\n",
              "    </tr>\n",
              "    <tr>\n",
              "      <th>33</th>\n",
              "      <td>krisztina</td>\n",
              "      <td>magyar</td>\n",
              "      <td>hypoglycemia</td>\n",
              "    </tr>\n",
              "  </tbody>\n",
              "</table>\n",
              "</div>"
            ],
            "text/plain": [
              "     given_name     surname           adverse_reaction\n",
              "0         berta  napolitani  injection site discomfort\n",
              "1          lena        baer               hypoglycemia\n",
              "2        joseph         day               hypoglycemia\n",
              "3        flavia  fiorentino                      cough\n",
              "4       manouck     wubbels          throat irritation\n",
              "5       jasmine       sykes               hypoglycemia\n",
              "6        louise     johnson               hypoglycemia\n",
              "7       albinca     komavec               hypoglycemia\n",
              "8           noe      aranda               hypoglycemia\n",
              "9         sofia   hermansen  injection site discomfort\n",
              "10        tegan     johnson                   headache\n",
              "11         abel     yonatan                      cough\n",
              "12    abdul-nur         isa               hypoglycemia\n",
              "13         leon      scholz  injection site discomfort\n",
              "14     gabriele     saenger               hypoglycemia\n",
              "15       jia li        teng                     nausea\n",
              "16        jakob    jakobsen               hypoglycemia\n",
              "17  christopher    woodward                     nausea\n",
              "18          ole    petersen               hypoglycemia\n",
              "19       finley    chandler                   headache\n",
              "20     anenechi       chidi               hypoglycemia\n",
              "21     miłosław  wiśniewski  injection site discomfort\n",
              "22        lixue       hsueh  injection site discomfort\n",
              "23        merci      leroux               hypoglycemia\n",
              "24         kang         mai  injection site discomfort\n",
              "25       elliot  richardson               hypoglycemia\n",
              "26      clinton      miller          throat irritation\n",
              "27       idalia       moore               hypoglycemia\n",
              "28       xiuxiu       chang               hypoglycemia\n",
              "29         alex    crawford               hypoglycemia\n",
              "30       monika      lončar               hypoglycemia\n",
              "31       steven         roy                   headache\n",
              "32      cecilie      nilsen               hypoglycemia\n",
              "33    krisztina      magyar               hypoglycemia"
            ]
          },
          "metadata": {
            "tags": []
          },
          "execution_count": 187
        }
      ]
    },
    {
      "cell_type": "code",
      "metadata": {
        "id": "decmCMS6ZRhg",
        "colab": {
          "base_uri": "https://localhost:8080/",
          "height": 34
        },
        "outputId": "6334e431-0d5b-44a2-ba9d-4bf7d4d3ea27"
      },
      "source": [
        "patients.shape"
      ],
      "execution_count": null,
      "outputs": [
        {
          "output_type": "execute_result",
          "data": {
            "text/plain": [
              "(503, 14)"
            ]
          },
          "metadata": {
            "tags": []
          },
          "execution_count": 188
        }
      ]
    },
    {
      "cell_type": "code",
      "metadata": {
        "id": "Ph-kTd44Zfy4",
        "colab": {
          "base_uri": "https://localhost:8080/",
          "height": 34
        },
        "outputId": "c602744e-c36c-4357-b513-a260fe3b9015"
      },
      "source": [
        "treatment.shape"
      ],
      "execution_count": null,
      "outputs": [
        {
          "output_type": "execute_result",
          "data": {
            "text/plain": [
              "(280, 7)"
            ]
          },
          "metadata": {
            "tags": []
          },
          "execution_count": 189
        }
      ]
    },
    {
      "cell_type": "code",
      "metadata": {
        "id": "4sKHRsXnZirz",
        "colab": {
          "base_uri": "https://localhost:8080/",
          "height": 34
        },
        "outputId": "8515fae4-75c6-41c8-ea69-91293fb58fa2"
      },
      "source": [
        "adverse.shape"
      ],
      "execution_count": null,
      "outputs": [
        {
          "output_type": "execute_result",
          "data": {
            "text/plain": [
              "(34, 3)"
            ]
          },
          "metadata": {
            "tags": []
          },
          "execution_count": 190
        }
      ]
    },
    {
      "cell_type": "code",
      "metadata": {
        "id": "NfTFj_jjZk0J",
        "colab": {
          "base_uri": "https://localhost:8080/",
          "height": 279
        },
        "outputId": "8ef028c3-61e8-478a-bc71-ab8677aa597a"
      },
      "source": [
        "patients.sample(5)"
      ],
      "execution_count": null,
      "outputs": [
        {
          "output_type": "execute_result",
          "data": {
            "text/html": [
              "<div>\n",
              "<style scoped>\n",
              "    .dataframe tbody tr th:only-of-type {\n",
              "        vertical-align: middle;\n",
              "    }\n",
              "\n",
              "    .dataframe tbody tr th {\n",
              "        vertical-align: top;\n",
              "    }\n",
              "\n",
              "    .dataframe thead th {\n",
              "        text-align: right;\n",
              "    }\n",
              "</style>\n",
              "<table border=\"1\" class=\"dataframe\">\n",
              "  <thead>\n",
              "    <tr style=\"text-align: right;\">\n",
              "      <th></th>\n",
              "      <th>patient_id</th>\n",
              "      <th>assigned_sex</th>\n",
              "      <th>given_name</th>\n",
              "      <th>surname</th>\n",
              "      <th>address</th>\n",
              "      <th>city</th>\n",
              "      <th>state</th>\n",
              "      <th>zip_code</th>\n",
              "      <th>country</th>\n",
              "      <th>contact</th>\n",
              "      <th>birthdate</th>\n",
              "      <th>weight</th>\n",
              "      <th>height</th>\n",
              "      <th>bmi</th>\n",
              "    </tr>\n",
              "  </thead>\n",
              "  <tbody>\n",
              "    <tr>\n",
              "      <th>489</th>\n",
              "      <td>490</td>\n",
              "      <td>female</td>\n",
              "      <td>Jasmine</td>\n",
              "      <td>Sykes</td>\n",
              "      <td>2607 Water Street</td>\n",
              "      <td>Lafayette</td>\n",
              "      <td>California</td>\n",
              "      <td>94549.0</td>\n",
              "      <td>United States</td>\n",
              "      <td>JasmineSykes@jourrapide.com925-283-5425</td>\n",
              "      <td>12/1/1988</td>\n",
              "      <td>187.2</td>\n",
              "      <td>63</td>\n",
              "      <td>33.2</td>\n",
              "    </tr>\n",
              "    <tr>\n",
              "      <th>31</th>\n",
              "      <td>32</td>\n",
              "      <td>male</td>\n",
              "      <td>Tomáš</td>\n",
              "      <td>Navrátil</td>\n",
              "      <td>4870 Corbin Branch Road</td>\n",
              "      <td>Bluff City</td>\n",
              "      <td>TN</td>\n",
              "      <td>37618.0</td>\n",
              "      <td>United States</td>\n",
              "      <td>423-538-4887TomasNavratil@dayrep.com</td>\n",
              "      <td>4/8/1935</td>\n",
              "      <td>133.3</td>\n",
              "      <td>70</td>\n",
              "      <td>19.1</td>\n",
              "    </tr>\n",
              "    <tr>\n",
              "      <th>255</th>\n",
              "      <td>256</td>\n",
              "      <td>female</td>\n",
              "      <td>Mette</td>\n",
              "      <td>Sandgreen</td>\n",
              "      <td>2324 Benson Street</td>\n",
              "      <td>Elk Lake</td>\n",
              "      <td>WI</td>\n",
              "      <td>54739.0</td>\n",
              "      <td>United States</td>\n",
              "      <td>MetteSandgreen@gustr.com715-231-3508</td>\n",
              "      <td>5/13/1938</td>\n",
              "      <td>187.1</td>\n",
              "      <td>60</td>\n",
              "      <td>36.5</td>\n",
              "    </tr>\n",
              "    <tr>\n",
              "      <th>427</th>\n",
              "      <td>428</td>\n",
              "      <td>female</td>\n",
              "      <td>Tecla</td>\n",
              "      <td>Onio</td>\n",
              "      <td>3730 Seth Street</td>\n",
              "      <td>Abilene</td>\n",
              "      <td>TX</td>\n",
              "      <td>79601.0</td>\n",
              "      <td>United States</td>\n",
              "      <td>325-513-8964TeclaOnio@jourrapide.com</td>\n",
              "      <td>12/16/1990</td>\n",
              "      <td>174.7</td>\n",
              "      <td>61</td>\n",
              "      <td>33.0</td>\n",
              "    </tr>\n",
              "    <tr>\n",
              "      <th>30</th>\n",
              "      <td>31</td>\n",
              "      <td>female</td>\n",
              "      <td>Janina</td>\n",
              "      <td>Bazarova</td>\n",
              "      <td>3259 Roy Alley</td>\n",
              "      <td>Englewood</td>\n",
              "      <td>CO</td>\n",
              "      <td>80112.0</td>\n",
              "      <td>United States</td>\n",
              "      <td>303-910-2058JaninaBazarova@superrito.com</td>\n",
              "      <td>6/29/1964</td>\n",
              "      <td>156.9</td>\n",
              "      <td>65</td>\n",
              "      <td>26.1</td>\n",
              "    </tr>\n",
              "  </tbody>\n",
              "</table>\n",
              "</div>"
            ],
            "text/plain": [
              "     patient_id assigned_sex given_name  ... weight height   bmi\n",
              "489         490       female    Jasmine  ...  187.2     63  33.2\n",
              "31           32         male      Tomáš  ...  133.3     70  19.1\n",
              "255         256       female      Mette  ...  187.1     60  36.5\n",
              "427         428       female      Tecla  ...  174.7     61  33.0\n",
              "30           31       female     Janina  ...  156.9     65  26.1\n",
              "\n",
              "[5 rows x 14 columns]"
            ]
          },
          "metadata": {
            "tags": []
          },
          "execution_count": 191
        }
      ]
    },
    {
      "cell_type": "code",
      "metadata": {
        "id": "2PiiKz1AZnPW",
        "colab": {
          "base_uri": "https://localhost:8080/",
          "height": 370
        },
        "outputId": "9b07ae1f-29ad-472b-c1cb-dff810923522"
      },
      "source": [
        "patients.info()"
      ],
      "execution_count": null,
      "outputs": [
        {
          "output_type": "stream",
          "text": [
            "<class 'pandas.core.frame.DataFrame'>\n",
            "RangeIndex: 503 entries, 0 to 502\n",
            "Data columns (total 14 columns):\n",
            " #   Column        Non-Null Count  Dtype  \n",
            "---  ------        --------------  -----  \n",
            " 0   patient_id    503 non-null    int64  \n",
            " 1   assigned_sex  503 non-null    object \n",
            " 2   given_name    503 non-null    object \n",
            " 3   surname       503 non-null    object \n",
            " 4   address       491 non-null    object \n",
            " 5   city          491 non-null    object \n",
            " 6   state         491 non-null    object \n",
            " 7   zip_code      491 non-null    float64\n",
            " 8   country       491 non-null    object \n",
            " 9   contact       491 non-null    object \n",
            " 10  birthdate     503 non-null    object \n",
            " 11  weight        503 non-null    float64\n",
            " 12  height        503 non-null    int64  \n",
            " 13  bmi           503 non-null    float64\n",
            "dtypes: float64(3), int64(2), object(9)\n",
            "memory usage: 55.1+ KB\n"
          ],
          "name": "stdout"
        }
      ]
    },
    {
      "cell_type": "code",
      "metadata": {
        "id": "YKGhDz3KZp0v",
        "colab": {
          "base_uri": "https://localhost:8080/",
          "height": 744
        },
        "outputId": "66541f31-f620-441a-b1a3-c9f6b2f48acd"
      },
      "source": [
        "patients[patients['address'].duplicated()]"
      ],
      "execution_count": null,
      "outputs": [
        {
          "output_type": "execute_result",
          "data": {
            "text/html": [
              "<div>\n",
              "<style scoped>\n",
              "    .dataframe tbody tr th:only-of-type {\n",
              "        vertical-align: middle;\n",
              "    }\n",
              "\n",
              "    .dataframe tbody tr th {\n",
              "        vertical-align: top;\n",
              "    }\n",
              "\n",
              "    .dataframe thead th {\n",
              "        text-align: right;\n",
              "    }\n",
              "</style>\n",
              "<table border=\"1\" class=\"dataframe\">\n",
              "  <thead>\n",
              "    <tr style=\"text-align: right;\">\n",
              "      <th></th>\n",
              "      <th>patient_id</th>\n",
              "      <th>assigned_sex</th>\n",
              "      <th>given_name</th>\n",
              "      <th>surname</th>\n",
              "      <th>address</th>\n",
              "      <th>city</th>\n",
              "      <th>state</th>\n",
              "      <th>zip_code</th>\n",
              "      <th>country</th>\n",
              "      <th>contact</th>\n",
              "      <th>birthdate</th>\n",
              "      <th>weight</th>\n",
              "      <th>height</th>\n",
              "      <th>bmi</th>\n",
              "    </tr>\n",
              "  </thead>\n",
              "  <tbody>\n",
              "    <tr>\n",
              "      <th>29</th>\n",
              "      <td>30</td>\n",
              "      <td>male</td>\n",
              "      <td>Jake</td>\n",
              "      <td>Jakobsen</td>\n",
              "      <td>648 Old Dear Lane</td>\n",
              "      <td>Port Jervis</td>\n",
              "      <td>New York</td>\n",
              "      <td>12771.0</td>\n",
              "      <td>United States</td>\n",
              "      <td>JakobCJakobsen@einrot.com+1 (845) 858-7707</td>\n",
              "      <td>8/1/1985</td>\n",
              "      <td>155.8</td>\n",
              "      <td>67</td>\n",
              "      <td>24.4</td>\n",
              "    </tr>\n",
              "    <tr>\n",
              "      <th>219</th>\n",
              "      <td>220</td>\n",
              "      <td>male</td>\n",
              "      <td>Mỹ</td>\n",
              "      <td>Quynh</td>\n",
              "      <td>NaN</td>\n",
              "      <td>NaN</td>\n",
              "      <td>NaN</td>\n",
              "      <td>NaN</td>\n",
              "      <td>NaN</td>\n",
              "      <td>NaN</td>\n",
              "      <td>4/9/1978</td>\n",
              "      <td>237.8</td>\n",
              "      <td>69</td>\n",
              "      <td>35.1</td>\n",
              "    </tr>\n",
              "    <tr>\n",
              "      <th>229</th>\n",
              "      <td>230</td>\n",
              "      <td>male</td>\n",
              "      <td>John</td>\n",
              "      <td>Doe</td>\n",
              "      <td>123 Main Street</td>\n",
              "      <td>New York</td>\n",
              "      <td>NY</td>\n",
              "      <td>12345.0</td>\n",
              "      <td>United States</td>\n",
              "      <td>johndoe@email.com1234567890</td>\n",
              "      <td>1/1/1975</td>\n",
              "      <td>180.0</td>\n",
              "      <td>72</td>\n",
              "      <td>24.4</td>\n",
              "    </tr>\n",
              "    <tr>\n",
              "      <th>230</th>\n",
              "      <td>231</td>\n",
              "      <td>female</td>\n",
              "      <td>Elisabeth</td>\n",
              "      <td>Knudsen</td>\n",
              "      <td>NaN</td>\n",
              "      <td>NaN</td>\n",
              "      <td>NaN</td>\n",
              "      <td>NaN</td>\n",
              "      <td>NaN</td>\n",
              "      <td>NaN</td>\n",
              "      <td>9/23/1976</td>\n",
              "      <td>165.9</td>\n",
              "      <td>63</td>\n",
              "      <td>29.4</td>\n",
              "    </tr>\n",
              "    <tr>\n",
              "      <th>234</th>\n",
              "      <td>235</td>\n",
              "      <td>female</td>\n",
              "      <td>Martina</td>\n",
              "      <td>Tománková</td>\n",
              "      <td>NaN</td>\n",
              "      <td>NaN</td>\n",
              "      <td>NaN</td>\n",
              "      <td>NaN</td>\n",
              "      <td>NaN</td>\n",
              "      <td>NaN</td>\n",
              "      <td>4/7/1936</td>\n",
              "      <td>199.5</td>\n",
              "      <td>65</td>\n",
              "      <td>33.2</td>\n",
              "    </tr>\n",
              "    <tr>\n",
              "      <th>237</th>\n",
              "      <td>238</td>\n",
              "      <td>male</td>\n",
              "      <td>John</td>\n",
              "      <td>Doe</td>\n",
              "      <td>123 Main Street</td>\n",
              "      <td>New York</td>\n",
              "      <td>NY</td>\n",
              "      <td>12345.0</td>\n",
              "      <td>United States</td>\n",
              "      <td>johndoe@email.com1234567890</td>\n",
              "      <td>1/1/1975</td>\n",
              "      <td>180.0</td>\n",
              "      <td>72</td>\n",
              "      <td>24.4</td>\n",
              "    </tr>\n",
              "    <tr>\n",
              "      <th>242</th>\n",
              "      <td>243</td>\n",
              "      <td>male</td>\n",
              "      <td>John</td>\n",
              "      <td>O'Brian</td>\n",
              "      <td>NaN</td>\n",
              "      <td>NaN</td>\n",
              "      <td>NaN</td>\n",
              "      <td>NaN</td>\n",
              "      <td>NaN</td>\n",
              "      <td>NaN</td>\n",
              "      <td>2/25/1957</td>\n",
              "      <td>205.3</td>\n",
              "      <td>74</td>\n",
              "      <td>26.4</td>\n",
              "    </tr>\n",
              "    <tr>\n",
              "      <th>244</th>\n",
              "      <td>245</td>\n",
              "      <td>male</td>\n",
              "      <td>John</td>\n",
              "      <td>Doe</td>\n",
              "      <td>123 Main Street</td>\n",
              "      <td>New York</td>\n",
              "      <td>NY</td>\n",
              "      <td>12345.0</td>\n",
              "      <td>United States</td>\n",
              "      <td>johndoe@email.com1234567890</td>\n",
              "      <td>1/1/1975</td>\n",
              "      <td>180.0</td>\n",
              "      <td>72</td>\n",
              "      <td>24.4</td>\n",
              "    </tr>\n",
              "    <tr>\n",
              "      <th>249</th>\n",
              "      <td>250</td>\n",
              "      <td>male</td>\n",
              "      <td>Benjamin</td>\n",
              "      <td>Mehler</td>\n",
              "      <td>NaN</td>\n",
              "      <td>NaN</td>\n",
              "      <td>NaN</td>\n",
              "      <td>NaN</td>\n",
              "      <td>NaN</td>\n",
              "      <td>NaN</td>\n",
              "      <td>10/30/1951</td>\n",
              "      <td>146.5</td>\n",
              "      <td>69</td>\n",
              "      <td>21.6</td>\n",
              "    </tr>\n",
              "    <tr>\n",
              "      <th>251</th>\n",
              "      <td>252</td>\n",
              "      <td>male</td>\n",
              "      <td>John</td>\n",
              "      <td>Doe</td>\n",
              "      <td>123 Main Street</td>\n",
              "      <td>New York</td>\n",
              "      <td>NY</td>\n",
              "      <td>12345.0</td>\n",
              "      <td>United States</td>\n",
              "      <td>johndoe@email.com1234567890</td>\n",
              "      <td>1/1/1975</td>\n",
              "      <td>180.0</td>\n",
              "      <td>72</td>\n",
              "      <td>24.4</td>\n",
              "    </tr>\n",
              "    <tr>\n",
              "      <th>257</th>\n",
              "      <td>258</td>\n",
              "      <td>male</td>\n",
              "      <td>Jin</td>\n",
              "      <td>Kung</td>\n",
              "      <td>NaN</td>\n",
              "      <td>NaN</td>\n",
              "      <td>NaN</td>\n",
              "      <td>NaN</td>\n",
              "      <td>NaN</td>\n",
              "      <td>NaN</td>\n",
              "      <td>5/17/1995</td>\n",
              "      <td>231.7</td>\n",
              "      <td>69</td>\n",
              "      <td>34.2</td>\n",
              "    </tr>\n",
              "    <tr>\n",
              "      <th>264</th>\n",
              "      <td>265</td>\n",
              "      <td>female</td>\n",
              "      <td>Wafiyyah</td>\n",
              "      <td>Asfour</td>\n",
              "      <td>NaN</td>\n",
              "      <td>NaN</td>\n",
              "      <td>NaN</td>\n",
              "      <td>NaN</td>\n",
              "      <td>NaN</td>\n",
              "      <td>NaN</td>\n",
              "      <td>11/3/1989</td>\n",
              "      <td>158.6</td>\n",
              "      <td>63</td>\n",
              "      <td>28.1</td>\n",
              "    </tr>\n",
              "    <tr>\n",
              "      <th>269</th>\n",
              "      <td>270</td>\n",
              "      <td>female</td>\n",
              "      <td>Flavia</td>\n",
              "      <td>Fiorentino</td>\n",
              "      <td>NaN</td>\n",
              "      <td>NaN</td>\n",
              "      <td>NaN</td>\n",
              "      <td>NaN</td>\n",
              "      <td>NaN</td>\n",
              "      <td>NaN</td>\n",
              "      <td>10/9/1937</td>\n",
              "      <td>175.2</td>\n",
              "      <td>61</td>\n",
              "      <td>33.1</td>\n",
              "    </tr>\n",
              "    <tr>\n",
              "      <th>277</th>\n",
              "      <td>278</td>\n",
              "      <td>male</td>\n",
              "      <td>John</td>\n",
              "      <td>Doe</td>\n",
              "      <td>123 Main Street</td>\n",
              "      <td>New York</td>\n",
              "      <td>NY</td>\n",
              "      <td>12345.0</td>\n",
              "      <td>United States</td>\n",
              "      <td>johndoe@email.com1234567890</td>\n",
              "      <td>1/1/1975</td>\n",
              "      <td>180.0</td>\n",
              "      <td>72</td>\n",
              "      <td>24.4</td>\n",
              "    </tr>\n",
              "    <tr>\n",
              "      <th>278</th>\n",
              "      <td>279</td>\n",
              "      <td>female</td>\n",
              "      <td>Generosa</td>\n",
              "      <td>Cabán</td>\n",
              "      <td>NaN</td>\n",
              "      <td>NaN</td>\n",
              "      <td>NaN</td>\n",
              "      <td>NaN</td>\n",
              "      <td>NaN</td>\n",
              "      <td>NaN</td>\n",
              "      <td>12/16/1962</td>\n",
              "      <td>124.3</td>\n",
              "      <td>69</td>\n",
              "      <td>18.4</td>\n",
              "    </tr>\n",
              "    <tr>\n",
              "      <th>282</th>\n",
              "      <td>283</td>\n",
              "      <td>female</td>\n",
              "      <td>Sandy</td>\n",
              "      <td>Taylor</td>\n",
              "      <td>2476 Fulton Street</td>\n",
              "      <td>Rainelle</td>\n",
              "      <td>WV</td>\n",
              "      <td>25962.0</td>\n",
              "      <td>United States</td>\n",
              "      <td>304-438-2648SandraCTaylor@dayrep.com</td>\n",
              "      <td>10/23/1960</td>\n",
              "      <td>206.1</td>\n",
              "      <td>64</td>\n",
              "      <td>35.4</td>\n",
              "    </tr>\n",
              "    <tr>\n",
              "      <th>286</th>\n",
              "      <td>287</td>\n",
              "      <td>male</td>\n",
              "      <td>Lewis</td>\n",
              "      <td>Webb</td>\n",
              "      <td>NaN</td>\n",
              "      <td>NaN</td>\n",
              "      <td>NaN</td>\n",
              "      <td>NaN</td>\n",
              "      <td>NaN</td>\n",
              "      <td>NaN</td>\n",
              "      <td>4/1/1979</td>\n",
              "      <td>155.3</td>\n",
              "      <td>68</td>\n",
              "      <td>23.6</td>\n",
              "    </tr>\n",
              "    <tr>\n",
              "      <th>296</th>\n",
              "      <td>297</td>\n",
              "      <td>female</td>\n",
              "      <td>Chỉ</td>\n",
              "      <td>Lâm</td>\n",
              "      <td>NaN</td>\n",
              "      <td>NaN</td>\n",
              "      <td>NaN</td>\n",
              "      <td>NaN</td>\n",
              "      <td>NaN</td>\n",
              "      <td>NaN</td>\n",
              "      <td>5/14/1990</td>\n",
              "      <td>181.1</td>\n",
              "      <td>63</td>\n",
              "      <td>32.1</td>\n",
              "    </tr>\n",
              "    <tr>\n",
              "      <th>502</th>\n",
              "      <td>503</td>\n",
              "      <td>male</td>\n",
              "      <td>Pat</td>\n",
              "      <td>Gersten</td>\n",
              "      <td>2778 North Avenue</td>\n",
              "      <td>Burr</td>\n",
              "      <td>Nebraska</td>\n",
              "      <td>68324.0</td>\n",
              "      <td>United States</td>\n",
              "      <td>PatrickGersten@rhyta.com402-848-4923</td>\n",
              "      <td>5/3/1954</td>\n",
              "      <td>138.2</td>\n",
              "      <td>71</td>\n",
              "      <td>19.3</td>\n",
              "    </tr>\n",
              "  </tbody>\n",
              "</table>\n",
              "</div>"
            ],
            "text/plain": [
              "     patient_id assigned_sex given_name  ... weight height   bmi\n",
              "29           30         male       Jake  ...  155.8     67  24.4\n",
              "219         220         male         Mỹ  ...  237.8     69  35.1\n",
              "229         230         male       John  ...  180.0     72  24.4\n",
              "230         231       female  Elisabeth  ...  165.9     63  29.4\n",
              "234         235       female    Martina  ...  199.5     65  33.2\n",
              "237         238         male       John  ...  180.0     72  24.4\n",
              "242         243         male       John  ...  205.3     74  26.4\n",
              "244         245         male       John  ...  180.0     72  24.4\n",
              "249         250         male   Benjamin  ...  146.5     69  21.6\n",
              "251         252         male       John  ...  180.0     72  24.4\n",
              "257         258         male        Jin  ...  231.7     69  34.2\n",
              "264         265       female   Wafiyyah  ...  158.6     63  28.1\n",
              "269         270       female     Flavia  ...  175.2     61  33.1\n",
              "277         278         male       John  ...  180.0     72  24.4\n",
              "278         279       female   Generosa  ...  124.3     69  18.4\n",
              "282         283       female      Sandy  ...  206.1     64  35.4\n",
              "286         287         male      Lewis  ...  155.3     68  23.6\n",
              "296         297       female        Chỉ  ...  181.1     63  32.1\n",
              "502         503         male        Pat  ...  138.2     71  19.3\n",
              "\n",
              "[19 rows x 14 columns]"
            ]
          },
          "metadata": {
            "tags": []
          },
          "execution_count": 193
        }
      ]
    },
    {
      "cell_type": "code",
      "metadata": {
        "id": "8GRRhIQsZsbZ",
        "colab": {
          "base_uri": "https://localhost:8080/",
          "height": 343
        },
        "outputId": "f3a23a48-ea47-4dda-c0ae-f04228e9939f"
      },
      "source": [
        "treatment.sample(10)"
      ],
      "execution_count": null,
      "outputs": [
        {
          "output_type": "execute_result",
          "data": {
            "text/html": [
              "<div>\n",
              "<style scoped>\n",
              "    .dataframe tbody tr th:only-of-type {\n",
              "        vertical-align: middle;\n",
              "    }\n",
              "\n",
              "    .dataframe tbody tr th {\n",
              "        vertical-align: top;\n",
              "    }\n",
              "\n",
              "    .dataframe thead th {\n",
              "        text-align: right;\n",
              "    }\n",
              "</style>\n",
              "<table border=\"1\" class=\"dataframe\">\n",
              "  <thead>\n",
              "    <tr style=\"text-align: right;\">\n",
              "      <th></th>\n",
              "      <th>given_name</th>\n",
              "      <th>surname</th>\n",
              "      <th>auralin</th>\n",
              "      <th>novodra</th>\n",
              "      <th>hba1c_start</th>\n",
              "      <th>hba1c_end</th>\n",
              "      <th>hba1c_change</th>\n",
              "    </tr>\n",
              "  </thead>\n",
              "  <tbody>\n",
              "    <tr>\n",
              "      <th>130</th>\n",
              "      <td>kamila</td>\n",
              "      <td>pecinová</td>\n",
              "      <td>-</td>\n",
              "      <td>54u - 51u</td>\n",
              "      <td>7.77</td>\n",
              "      <td>7.39</td>\n",
              "      <td>0.38</td>\n",
              "    </tr>\n",
              "    <tr>\n",
              "      <th>237</th>\n",
              "      <td>manouck</td>\n",
              "      <td>wubbels</td>\n",
              "      <td>55u - 62u</td>\n",
              "      <td>-</td>\n",
              "      <td>7.66</td>\n",
              "      <td>7.40</td>\n",
              "      <td>0.26</td>\n",
              "    </tr>\n",
              "    <tr>\n",
              "      <th>110</th>\n",
              "      <td>suoma</td>\n",
              "      <td>koivunen</td>\n",
              "      <td>-</td>\n",
              "      <td>26u - 25u</td>\n",
              "      <td>7.59</td>\n",
              "      <td>7.13</td>\n",
              "      <td>NaN</td>\n",
              "    </tr>\n",
              "    <tr>\n",
              "      <th>85</th>\n",
              "      <td>nilton</td>\n",
              "      <td>quintanilla</td>\n",
              "      <td>42u - 49u</td>\n",
              "      <td>-</td>\n",
              "      <td>7.86</td>\n",
              "      <td>7.48</td>\n",
              "      <td>0.38</td>\n",
              "    </tr>\n",
              "    <tr>\n",
              "      <th>95</th>\n",
              "      <td>jaakko</td>\n",
              "      <td>eskelinen</td>\n",
              "      <td>39u - 45u</td>\n",
              "      <td>-</td>\n",
              "      <td>7.73</td>\n",
              "      <td>7.42</td>\n",
              "      <td>0.31</td>\n",
              "    </tr>\n",
              "    <tr>\n",
              "      <th>137</th>\n",
              "      <td>ivona</td>\n",
              "      <td>jakšić</td>\n",
              "      <td>-</td>\n",
              "      <td>41u - 41u</td>\n",
              "      <td>7.98</td>\n",
              "      <td>7.54</td>\n",
              "      <td>NaN</td>\n",
              "    </tr>\n",
              "    <tr>\n",
              "      <th>232</th>\n",
              "      <td>pamela</td>\n",
              "      <td>hill</td>\n",
              "      <td>-</td>\n",
              "      <td>27u - 29u</td>\n",
              "      <td>9.53</td>\n",
              "      <td>9.10</td>\n",
              "      <td>0.93</td>\n",
              "    </tr>\n",
              "    <tr>\n",
              "      <th>161</th>\n",
              "      <td>rebecca</td>\n",
              "      <td>priest</td>\n",
              "      <td>40u - 42u</td>\n",
              "      <td>-</td>\n",
              "      <td>7.87</td>\n",
              "      <td>7.57</td>\n",
              "      <td>0.30</td>\n",
              "    </tr>\n",
              "    <tr>\n",
              "      <th>172</th>\n",
              "      <td>malina</td>\n",
              "      <td>balagić</td>\n",
              "      <td>-</td>\n",
              "      <td>48u - 50u</td>\n",
              "      <td>7.65</td>\n",
              "      <td>7.30</td>\n",
              "      <td>NaN</td>\n",
              "    </tr>\n",
              "    <tr>\n",
              "      <th>267</th>\n",
              "      <td>leon</td>\n",
              "      <td>scholz</td>\n",
              "      <td>-</td>\n",
              "      <td>38u - 32u</td>\n",
              "      <td>7.72</td>\n",
              "      <td>7.29</td>\n",
              "      <td>0.93</td>\n",
              "    </tr>\n",
              "  </tbody>\n",
              "</table>\n",
              "</div>"
            ],
            "text/plain": [
              "    given_name      surname    auralin  ... hba1c_start  hba1c_end  hba1c_change\n",
              "130     kamila     pecinová          -  ...        7.77       7.39          0.38\n",
              "237    manouck      wubbels  55u - 62u  ...        7.66       7.40          0.26\n",
              "110      suoma     koivunen          -  ...        7.59       7.13           NaN\n",
              "85      nilton  quintanilla  42u - 49u  ...        7.86       7.48          0.38\n",
              "95      jaakko    eskelinen  39u - 45u  ...        7.73       7.42          0.31\n",
              "137      ivona       jakšić          -  ...        7.98       7.54           NaN\n",
              "232     pamela         hill          -  ...        9.53       9.10          0.93\n",
              "161    rebecca       priest  40u - 42u  ...        7.87       7.57          0.30\n",
              "172     malina      balagić          -  ...        7.65       7.30           NaN\n",
              "267       leon       scholz          -  ...        7.72       7.29          0.93\n",
              "\n",
              "[10 rows x 7 columns]"
            ]
          },
          "metadata": {
            "tags": []
          },
          "execution_count": 194
        }
      ]
    },
    {
      "cell_type": "code",
      "metadata": {
        "id": "UwLmiMVLZvZ0",
        "colab": {
          "base_uri": "https://localhost:8080/",
          "height": 252
        },
        "outputId": "d9b95878-9a7d-492e-de3b-305bddf05c66"
      },
      "source": [
        "treatment.info()"
      ],
      "execution_count": null,
      "outputs": [
        {
          "output_type": "stream",
          "text": [
            "<class 'pandas.core.frame.DataFrame'>\n",
            "RangeIndex: 280 entries, 0 to 279\n",
            "Data columns (total 7 columns):\n",
            " #   Column        Non-Null Count  Dtype  \n",
            "---  ------        --------------  -----  \n",
            " 0   given_name    280 non-null    object \n",
            " 1   surname       280 non-null    object \n",
            " 2   auralin       280 non-null    object \n",
            " 3   novodra       280 non-null    object \n",
            " 4   hba1c_start   280 non-null    float64\n",
            " 5   hba1c_end     280 non-null    float64\n",
            " 6   hba1c_change  171 non-null    float64\n",
            "dtypes: float64(3), object(4)\n",
            "memory usage: 15.4+ KB\n"
          ],
          "name": "stdout"
        }
      ]
    },
    {
      "cell_type": "code",
      "metadata": {
        "id": "NE-97jVWZ0NN",
        "colab": {
          "base_uri": "https://localhost:8080/",
          "height": 77
        },
        "outputId": "9742f3c6-fcb0-4536-c071-31bdbf6f720f"
      },
      "source": [
        "treatment[treatment.duplicated()]"
      ],
      "execution_count": null,
      "outputs": [
        {
          "output_type": "execute_result",
          "data": {
            "text/html": [
              "<div>\n",
              "<style scoped>\n",
              "    .dataframe tbody tr th:only-of-type {\n",
              "        vertical-align: middle;\n",
              "    }\n",
              "\n",
              "    .dataframe tbody tr th {\n",
              "        vertical-align: top;\n",
              "    }\n",
              "\n",
              "    .dataframe thead th {\n",
              "        text-align: right;\n",
              "    }\n",
              "</style>\n",
              "<table border=\"1\" class=\"dataframe\">\n",
              "  <thead>\n",
              "    <tr style=\"text-align: right;\">\n",
              "      <th></th>\n",
              "      <th>given_name</th>\n",
              "      <th>surname</th>\n",
              "      <th>auralin</th>\n",
              "      <th>novodra</th>\n",
              "      <th>hba1c_start</th>\n",
              "      <th>hba1c_end</th>\n",
              "      <th>hba1c_change</th>\n",
              "    </tr>\n",
              "  </thead>\n",
              "  <tbody>\n",
              "    <tr>\n",
              "      <th>136</th>\n",
              "      <td>joseph</td>\n",
              "      <td>day</td>\n",
              "      <td>29u - 36u</td>\n",
              "      <td>-</td>\n",
              "      <td>7.7</td>\n",
              "      <td>7.19</td>\n",
              "      <td>NaN</td>\n",
              "    </tr>\n",
              "  </tbody>\n",
              "</table>\n",
              "</div>"
            ],
            "text/plain": [
              "    given_name surname    auralin novodra  hba1c_start  hba1c_end  hba1c_change\n",
              "136     joseph     day  29u - 36u       -          7.7       7.19           NaN"
            ]
          },
          "metadata": {
            "tags": []
          },
          "execution_count": 196
        }
      ]
    },
    {
      "cell_type": "code",
      "metadata": {
        "id": "DK3FPIpWZ2eF",
        "colab": {
          "base_uri": "https://localhost:8080/",
          "height": 195
        },
        "outputId": "68056105-265e-43e1-ea6f-8018589e5e4d"
      },
      "source": [
        "adverse.sample(5)"
      ],
      "execution_count": null,
      "outputs": [
        {
          "output_type": "execute_result",
          "data": {
            "text/html": [
              "<div>\n",
              "<style scoped>\n",
              "    .dataframe tbody tr th:only-of-type {\n",
              "        vertical-align: middle;\n",
              "    }\n",
              "\n",
              "    .dataframe tbody tr th {\n",
              "        vertical-align: top;\n",
              "    }\n",
              "\n",
              "    .dataframe thead th {\n",
              "        text-align: right;\n",
              "    }\n",
              "</style>\n",
              "<table border=\"1\" class=\"dataframe\">\n",
              "  <thead>\n",
              "    <tr style=\"text-align: right;\">\n",
              "      <th></th>\n",
              "      <th>given_name</th>\n",
              "      <th>surname</th>\n",
              "      <th>adverse_reaction</th>\n",
              "    </tr>\n",
              "  </thead>\n",
              "  <tbody>\n",
              "    <tr>\n",
              "      <th>14</th>\n",
              "      <td>gabriele</td>\n",
              "      <td>saenger</td>\n",
              "      <td>hypoglycemia</td>\n",
              "    </tr>\n",
              "    <tr>\n",
              "      <th>15</th>\n",
              "      <td>jia li</td>\n",
              "      <td>teng</td>\n",
              "      <td>nausea</td>\n",
              "    </tr>\n",
              "    <tr>\n",
              "      <th>6</th>\n",
              "      <td>louise</td>\n",
              "      <td>johnson</td>\n",
              "      <td>hypoglycemia</td>\n",
              "    </tr>\n",
              "    <tr>\n",
              "      <th>18</th>\n",
              "      <td>ole</td>\n",
              "      <td>petersen</td>\n",
              "      <td>hypoglycemia</td>\n",
              "    </tr>\n",
              "    <tr>\n",
              "      <th>4</th>\n",
              "      <td>manouck</td>\n",
              "      <td>wubbels</td>\n",
              "      <td>throat irritation</td>\n",
              "    </tr>\n",
              "  </tbody>\n",
              "</table>\n",
              "</div>"
            ],
            "text/plain": [
              "   given_name   surname   adverse_reaction\n",
              "14   gabriele   saenger       hypoglycemia\n",
              "15     jia li      teng             nausea\n",
              "6      louise   johnson       hypoglycemia\n",
              "18        ole  petersen       hypoglycemia\n",
              "4     manouck   wubbels  throat irritation"
            ]
          },
          "metadata": {
            "tags": []
          },
          "execution_count": 197
        }
      ]
    },
    {
      "cell_type": "code",
      "metadata": {
        "id": "cGCivgreZ5Zs",
        "colab": {
          "base_uri": "https://localhost:8080/",
          "height": 185
        },
        "outputId": "dba6a498-cc6a-42ea-a5a2-146175af6a93"
      },
      "source": [
        "adverse.info()"
      ],
      "execution_count": null,
      "outputs": [
        {
          "output_type": "stream",
          "text": [
            "<class 'pandas.core.frame.DataFrame'>\n",
            "RangeIndex: 34 entries, 0 to 33\n",
            "Data columns (total 3 columns):\n",
            " #   Column            Non-Null Count  Dtype \n",
            "---  ------            --------------  ----- \n",
            " 0   given_name        34 non-null     object\n",
            " 1   surname           34 non-null     object\n",
            " 2   adverse_reaction  34 non-null     object\n",
            "dtypes: object(3)\n",
            "memory usage: 944.0+ bytes\n"
          ],
          "name": "stdout"
        }
      ]
    },
    {
      "cell_type": "code",
      "metadata": {
        "id": "jV52ZB45Z7vn",
        "colab": {
          "base_uri": "https://localhost:8080/",
          "height": 284
        },
        "outputId": "440e3885-bf8e-41e5-b51d-3a4de85292d3"
      },
      "source": [
        "patients.describe()"
      ],
      "execution_count": null,
      "outputs": [
        {
          "output_type": "execute_result",
          "data": {
            "text/html": [
              "<div>\n",
              "<style scoped>\n",
              "    .dataframe tbody tr th:only-of-type {\n",
              "        vertical-align: middle;\n",
              "    }\n",
              "\n",
              "    .dataframe tbody tr th {\n",
              "        vertical-align: top;\n",
              "    }\n",
              "\n",
              "    .dataframe thead th {\n",
              "        text-align: right;\n",
              "    }\n",
              "</style>\n",
              "<table border=\"1\" class=\"dataframe\">\n",
              "  <thead>\n",
              "    <tr style=\"text-align: right;\">\n",
              "      <th></th>\n",
              "      <th>patient_id</th>\n",
              "      <th>zip_code</th>\n",
              "      <th>weight</th>\n",
              "      <th>height</th>\n",
              "      <th>bmi</th>\n",
              "    </tr>\n",
              "  </thead>\n",
              "  <tbody>\n",
              "    <tr>\n",
              "      <th>count</th>\n",
              "      <td>503.000000</td>\n",
              "      <td>491.000000</td>\n",
              "      <td>503.000000</td>\n",
              "      <td>503.000000</td>\n",
              "      <td>503.000000</td>\n",
              "    </tr>\n",
              "    <tr>\n",
              "      <th>mean</th>\n",
              "      <td>252.000000</td>\n",
              "      <td>49084.118126</td>\n",
              "      <td>173.434990</td>\n",
              "      <td>66.634195</td>\n",
              "      <td>27.483897</td>\n",
              "    </tr>\n",
              "    <tr>\n",
              "      <th>std</th>\n",
              "      <td>145.347859</td>\n",
              "      <td>30265.807442</td>\n",
              "      <td>33.916741</td>\n",
              "      <td>4.411297</td>\n",
              "      <td>5.276438</td>\n",
              "    </tr>\n",
              "    <tr>\n",
              "      <th>min</th>\n",
              "      <td>1.000000</td>\n",
              "      <td>1002.000000</td>\n",
              "      <td>48.800000</td>\n",
              "      <td>27.000000</td>\n",
              "      <td>17.100000</td>\n",
              "    </tr>\n",
              "    <tr>\n",
              "      <th>25%</th>\n",
              "      <td>126.500000</td>\n",
              "      <td>21920.500000</td>\n",
              "      <td>149.300000</td>\n",
              "      <td>63.000000</td>\n",
              "      <td>23.300000</td>\n",
              "    </tr>\n",
              "    <tr>\n",
              "      <th>50%</th>\n",
              "      <td>252.000000</td>\n",
              "      <td>48057.000000</td>\n",
              "      <td>175.300000</td>\n",
              "      <td>67.000000</td>\n",
              "      <td>27.200000</td>\n",
              "    </tr>\n",
              "    <tr>\n",
              "      <th>75%</th>\n",
              "      <td>377.500000</td>\n",
              "      <td>75679.000000</td>\n",
              "      <td>199.500000</td>\n",
              "      <td>70.000000</td>\n",
              "      <td>31.750000</td>\n",
              "    </tr>\n",
              "    <tr>\n",
              "      <th>max</th>\n",
              "      <td>503.000000</td>\n",
              "      <td>99701.000000</td>\n",
              "      <td>255.900000</td>\n",
              "      <td>79.000000</td>\n",
              "      <td>37.700000</td>\n",
              "    </tr>\n",
              "  </tbody>\n",
              "</table>\n",
              "</div>"
            ],
            "text/plain": [
              "       patient_id      zip_code      weight      height         bmi\n",
              "count  503.000000    491.000000  503.000000  503.000000  503.000000\n",
              "mean   252.000000  49084.118126  173.434990   66.634195   27.483897\n",
              "std    145.347859  30265.807442   33.916741    4.411297    5.276438\n",
              "min      1.000000   1002.000000   48.800000   27.000000   17.100000\n",
              "25%    126.500000  21920.500000  149.300000   63.000000   23.300000\n",
              "50%    252.000000  48057.000000  175.300000   67.000000   27.200000\n",
              "75%    377.500000  75679.000000  199.500000   70.000000   31.750000\n",
              "max    503.000000  99701.000000  255.900000   79.000000   37.700000"
            ]
          },
          "metadata": {
            "tags": []
          },
          "execution_count": 199
        }
      ]
    },
    {
      "cell_type": "code",
      "metadata": {
        "id": "5AqFxpdGZ94A",
        "colab": {
          "base_uri": "https://localhost:8080/",
          "height": 284
        },
        "outputId": "539441d8-bf24-4fcd-bc64-e8e90e3566f2"
      },
      "source": [
        "treatment.describe()"
      ],
      "execution_count": null,
      "outputs": [
        {
          "output_type": "execute_result",
          "data": {
            "text/html": [
              "<div>\n",
              "<style scoped>\n",
              "    .dataframe tbody tr th:only-of-type {\n",
              "        vertical-align: middle;\n",
              "    }\n",
              "\n",
              "    .dataframe tbody tr th {\n",
              "        vertical-align: top;\n",
              "    }\n",
              "\n",
              "    .dataframe thead th {\n",
              "        text-align: right;\n",
              "    }\n",
              "</style>\n",
              "<table border=\"1\" class=\"dataframe\">\n",
              "  <thead>\n",
              "    <tr style=\"text-align: right;\">\n",
              "      <th></th>\n",
              "      <th>hba1c_start</th>\n",
              "      <th>hba1c_end</th>\n",
              "      <th>hba1c_change</th>\n",
              "    </tr>\n",
              "  </thead>\n",
              "  <tbody>\n",
              "    <tr>\n",
              "      <th>count</th>\n",
              "      <td>280.000000</td>\n",
              "      <td>280.000000</td>\n",
              "      <td>171.000000</td>\n",
              "    </tr>\n",
              "    <tr>\n",
              "      <th>mean</th>\n",
              "      <td>7.985929</td>\n",
              "      <td>7.589286</td>\n",
              "      <td>0.546023</td>\n",
              "    </tr>\n",
              "    <tr>\n",
              "      <th>std</th>\n",
              "      <td>0.568638</td>\n",
              "      <td>0.569672</td>\n",
              "      <td>0.279555</td>\n",
              "    </tr>\n",
              "    <tr>\n",
              "      <th>min</th>\n",
              "      <td>7.500000</td>\n",
              "      <td>7.010000</td>\n",
              "      <td>0.200000</td>\n",
              "    </tr>\n",
              "    <tr>\n",
              "      <th>25%</th>\n",
              "      <td>7.660000</td>\n",
              "      <td>7.270000</td>\n",
              "      <td>0.340000</td>\n",
              "    </tr>\n",
              "    <tr>\n",
              "      <th>50%</th>\n",
              "      <td>7.800000</td>\n",
              "      <td>7.420000</td>\n",
              "      <td>0.380000</td>\n",
              "    </tr>\n",
              "    <tr>\n",
              "      <th>75%</th>\n",
              "      <td>7.970000</td>\n",
              "      <td>7.570000</td>\n",
              "      <td>0.920000</td>\n",
              "    </tr>\n",
              "    <tr>\n",
              "      <th>max</th>\n",
              "      <td>9.950000</td>\n",
              "      <td>9.580000</td>\n",
              "      <td>0.990000</td>\n",
              "    </tr>\n",
              "  </tbody>\n",
              "</table>\n",
              "</div>"
            ],
            "text/plain": [
              "       hba1c_start   hba1c_end  hba1c_change\n",
              "count   280.000000  280.000000    171.000000\n",
              "mean      7.985929    7.589286      0.546023\n",
              "std       0.568638    0.569672      0.279555\n",
              "min       7.500000    7.010000      0.200000\n",
              "25%       7.660000    7.270000      0.340000\n",
              "50%       7.800000    7.420000      0.380000\n",
              "75%       7.970000    7.570000      0.920000\n",
              "max       9.950000    9.580000      0.990000"
            ]
          },
          "metadata": {
            "tags": []
          },
          "execution_count": 200
        }
      ]
    },
    {
      "cell_type": "markdown",
      "metadata": {
        "id": "hoDm4bE3aBcl"
      },
      "source": [
        "# **Quality**\n",
        "\n",
        "[Completeness issue(C), Validity issue(V), Accurate issue(A), Consistent issue(IC)] "
      ]
    },
    {
      "cell_type": "markdown",
      "metadata": {
        "id": "n5UWwUAFaHpl"
      },
      "source": [
        "**Patients**\n",
        "\n",
        "1. Certain zip codes have 4 digits.(V)\n",
        "2. Incorrect data types for assigned_sex, zip_code, birthdate.(V)\n",
        "3. For the state column sometimes full names are used and other times short forms are used.(IC)\n",
        "4. Contact details of 12 patients are missing.(C)\n",
        "5. Inconsistent way of storing phone numbers in contact column.(IC)\n",
        "6. Errorness data for weights and heights.(A)\n",
        "7. There are 19 duplicates in patients dataframe.(IC)\n",
        "8. Data types of patient_id, weight and bmi can be changed to reduce the memory storage.(A)"
      ]
    },
    {
      "cell_type": "markdown",
      "metadata": {
        "id": "3UXM7aPkaMnT"
      },
      "source": [
        " **Treatments**\n",
        "1. hba1c_change has NaN values.(C)\n",
        "2. given_name and surname has first letter in lowercase.(IC)\n",
        "3. auralin and novodra has u attached with numbers.(V)\n",
        "4. Only 280 rows are there instead of 350.(C)\n",
        "5. Use of dashes in auralin and novodra column instead of NaN elements.(IC)\n",
        "6. Incorrect data type for auralin and novadra columns.(V)\n",
        "7. Data types of hba1c_start, hba1c_end, hba1c_change can be changed to 32-bit to reduce the memory storage.(A)\n",
        "8. There is 1 duplicate in treatment dataframe.(IC)\n",
        "9. hba1c_change has 9 instead of 4.(A)"
      ]
    },
    {
      "cell_type": "markdown",
      "metadata": {
        "id": "8_WETmBmaScH"
      },
      "source": [
        "**Adverse Reactions**\n",
        "1. given_name and surname has first letter in lowercase.(IC)"
      ]
    },
    {
      "cell_type": "markdown",
      "metadata": {
        "id": "42mSb8sbaXZZ"
      },
      "source": [
        "# **Tidiness**"
      ]
    },
    {
      "cell_type": "markdown",
      "metadata": {
        "id": "kQUHq3SPaa92"
      },
      "source": [
        "**Patients**\n",
        "1. Phone number and email in the same column i.e. the contact column."
      ]
    },
    {
      "cell_type": "markdown",
      "metadata": {
        "id": "_KLQoAajaggT"
      },
      "source": [
        "**Treatments**\n",
        "1. Three variables(informations) stored in auralin and novodra columns."
      ]
    },
    {
      "cell_type": "markdown",
      "metadata": {
        "id": "cdqJkVyWaj0x"
      },
      "source": [
        "**Adverse Reactions**\n",
        "1. No point of using adverse_reaction column."
      ]
    },
    {
      "cell_type": "markdown",
      "metadata": {
        "id": "bfprHf5Tanr2"
      },
      "source": [
        "# **Cleaning Data**"
      ]
    },
    {
      "cell_type": "code",
      "metadata": {
        "id": "NNqIEdseZ_1X"
      },
      "source": [
        "# Creating copies of the dataframes\n",
        "\n",
        "patients_copy=patients.copy()\n",
        "treatment_copy=treatment.copy()\n",
        "adverse_copy=adverse.copy()"
      ],
      "execution_count": null,
      "outputs": []
    },
    {
      "cell_type": "markdown",
      "metadata": {
        "id": "k51vSxkqazNR"
      },
      "source": [
        "**1. Completeness Issues**\n",
        "        \n",
        "        a. Contact details of 12 patients are missing. [Done]\n",
        "        b. hba1c_change has NaN values.[Done]\n",
        "        c. Only 280 rows are there instead of 350. [Done]"
      ]
    },
    {
      "cell_type": "code",
      "metadata": {
        "id": "xrvCVWyoatRq",
        "colab": {
          "base_uri": "https://localhost:8080/",
          "height": 402
        },
        "outputId": "e3b79131-352b-4490-c127-884b82dd19c1"
      },
      "source": [
        "patients_copy[patients_copy['address'].isnull()]"
      ],
      "execution_count": null,
      "outputs": [
        {
          "output_type": "execute_result",
          "data": {
            "text/html": [
              "<div>\n",
              "<style scoped>\n",
              "    .dataframe tbody tr th:only-of-type {\n",
              "        vertical-align: middle;\n",
              "    }\n",
              "\n",
              "    .dataframe tbody tr th {\n",
              "        vertical-align: top;\n",
              "    }\n",
              "\n",
              "    .dataframe thead th {\n",
              "        text-align: right;\n",
              "    }\n",
              "</style>\n",
              "<table border=\"1\" class=\"dataframe\">\n",
              "  <thead>\n",
              "    <tr style=\"text-align: right;\">\n",
              "      <th></th>\n",
              "      <th>patient_id</th>\n",
              "      <th>assigned_sex</th>\n",
              "      <th>given_name</th>\n",
              "      <th>surname</th>\n",
              "      <th>address</th>\n",
              "      <th>city</th>\n",
              "      <th>state</th>\n",
              "      <th>zip_code</th>\n",
              "      <th>country</th>\n",
              "      <th>contact</th>\n",
              "      <th>birthdate</th>\n",
              "      <th>weight</th>\n",
              "      <th>height</th>\n",
              "      <th>bmi</th>\n",
              "    </tr>\n",
              "  </thead>\n",
              "  <tbody>\n",
              "    <tr>\n",
              "      <th>209</th>\n",
              "      <td>210</td>\n",
              "      <td>female</td>\n",
              "      <td>Lalita</td>\n",
              "      <td>Eldarkhanov</td>\n",
              "      <td>NaN</td>\n",
              "      <td>NaN</td>\n",
              "      <td>NaN</td>\n",
              "      <td>NaN</td>\n",
              "      <td>NaN</td>\n",
              "      <td>NaN</td>\n",
              "      <td>8/14/1950</td>\n",
              "      <td>143.4</td>\n",
              "      <td>62</td>\n",
              "      <td>26.2</td>\n",
              "    </tr>\n",
              "    <tr>\n",
              "      <th>219</th>\n",
              "      <td>220</td>\n",
              "      <td>male</td>\n",
              "      <td>Mỹ</td>\n",
              "      <td>Quynh</td>\n",
              "      <td>NaN</td>\n",
              "      <td>NaN</td>\n",
              "      <td>NaN</td>\n",
              "      <td>NaN</td>\n",
              "      <td>NaN</td>\n",
              "      <td>NaN</td>\n",
              "      <td>4/9/1978</td>\n",
              "      <td>237.8</td>\n",
              "      <td>69</td>\n",
              "      <td>35.1</td>\n",
              "    </tr>\n",
              "    <tr>\n",
              "      <th>230</th>\n",
              "      <td>231</td>\n",
              "      <td>female</td>\n",
              "      <td>Elisabeth</td>\n",
              "      <td>Knudsen</td>\n",
              "      <td>NaN</td>\n",
              "      <td>NaN</td>\n",
              "      <td>NaN</td>\n",
              "      <td>NaN</td>\n",
              "      <td>NaN</td>\n",
              "      <td>NaN</td>\n",
              "      <td>9/23/1976</td>\n",
              "      <td>165.9</td>\n",
              "      <td>63</td>\n",
              "      <td>29.4</td>\n",
              "    </tr>\n",
              "    <tr>\n",
              "      <th>234</th>\n",
              "      <td>235</td>\n",
              "      <td>female</td>\n",
              "      <td>Martina</td>\n",
              "      <td>Tománková</td>\n",
              "      <td>NaN</td>\n",
              "      <td>NaN</td>\n",
              "      <td>NaN</td>\n",
              "      <td>NaN</td>\n",
              "      <td>NaN</td>\n",
              "      <td>NaN</td>\n",
              "      <td>4/7/1936</td>\n",
              "      <td>199.5</td>\n",
              "      <td>65</td>\n",
              "      <td>33.2</td>\n",
              "    </tr>\n",
              "    <tr>\n",
              "      <th>242</th>\n",
              "      <td>243</td>\n",
              "      <td>male</td>\n",
              "      <td>John</td>\n",
              "      <td>O'Brian</td>\n",
              "      <td>NaN</td>\n",
              "      <td>NaN</td>\n",
              "      <td>NaN</td>\n",
              "      <td>NaN</td>\n",
              "      <td>NaN</td>\n",
              "      <td>NaN</td>\n",
              "      <td>2/25/1957</td>\n",
              "      <td>205.3</td>\n",
              "      <td>74</td>\n",
              "      <td>26.4</td>\n",
              "    </tr>\n",
              "    <tr>\n",
              "      <th>249</th>\n",
              "      <td>250</td>\n",
              "      <td>male</td>\n",
              "      <td>Benjamin</td>\n",
              "      <td>Mehler</td>\n",
              "      <td>NaN</td>\n",
              "      <td>NaN</td>\n",
              "      <td>NaN</td>\n",
              "      <td>NaN</td>\n",
              "      <td>NaN</td>\n",
              "      <td>NaN</td>\n",
              "      <td>10/30/1951</td>\n",
              "      <td>146.5</td>\n",
              "      <td>69</td>\n",
              "      <td>21.6</td>\n",
              "    </tr>\n",
              "    <tr>\n",
              "      <th>257</th>\n",
              "      <td>258</td>\n",
              "      <td>male</td>\n",
              "      <td>Jin</td>\n",
              "      <td>Kung</td>\n",
              "      <td>NaN</td>\n",
              "      <td>NaN</td>\n",
              "      <td>NaN</td>\n",
              "      <td>NaN</td>\n",
              "      <td>NaN</td>\n",
              "      <td>NaN</td>\n",
              "      <td>5/17/1995</td>\n",
              "      <td>231.7</td>\n",
              "      <td>69</td>\n",
              "      <td>34.2</td>\n",
              "    </tr>\n",
              "    <tr>\n",
              "      <th>264</th>\n",
              "      <td>265</td>\n",
              "      <td>female</td>\n",
              "      <td>Wafiyyah</td>\n",
              "      <td>Asfour</td>\n",
              "      <td>NaN</td>\n",
              "      <td>NaN</td>\n",
              "      <td>NaN</td>\n",
              "      <td>NaN</td>\n",
              "      <td>NaN</td>\n",
              "      <td>NaN</td>\n",
              "      <td>11/3/1989</td>\n",
              "      <td>158.6</td>\n",
              "      <td>63</td>\n",
              "      <td>28.1</td>\n",
              "    </tr>\n",
              "    <tr>\n",
              "      <th>269</th>\n",
              "      <td>270</td>\n",
              "      <td>female</td>\n",
              "      <td>Flavia</td>\n",
              "      <td>Fiorentino</td>\n",
              "      <td>NaN</td>\n",
              "      <td>NaN</td>\n",
              "      <td>NaN</td>\n",
              "      <td>NaN</td>\n",
              "      <td>NaN</td>\n",
              "      <td>NaN</td>\n",
              "      <td>10/9/1937</td>\n",
              "      <td>175.2</td>\n",
              "      <td>61</td>\n",
              "      <td>33.1</td>\n",
              "    </tr>\n",
              "    <tr>\n",
              "      <th>278</th>\n",
              "      <td>279</td>\n",
              "      <td>female</td>\n",
              "      <td>Generosa</td>\n",
              "      <td>Cabán</td>\n",
              "      <td>NaN</td>\n",
              "      <td>NaN</td>\n",
              "      <td>NaN</td>\n",
              "      <td>NaN</td>\n",
              "      <td>NaN</td>\n",
              "      <td>NaN</td>\n",
              "      <td>12/16/1962</td>\n",
              "      <td>124.3</td>\n",
              "      <td>69</td>\n",
              "      <td>18.4</td>\n",
              "    </tr>\n",
              "    <tr>\n",
              "      <th>286</th>\n",
              "      <td>287</td>\n",
              "      <td>male</td>\n",
              "      <td>Lewis</td>\n",
              "      <td>Webb</td>\n",
              "      <td>NaN</td>\n",
              "      <td>NaN</td>\n",
              "      <td>NaN</td>\n",
              "      <td>NaN</td>\n",
              "      <td>NaN</td>\n",
              "      <td>NaN</td>\n",
              "      <td>4/1/1979</td>\n",
              "      <td>155.3</td>\n",
              "      <td>68</td>\n",
              "      <td>23.6</td>\n",
              "    </tr>\n",
              "    <tr>\n",
              "      <th>296</th>\n",
              "      <td>297</td>\n",
              "      <td>female</td>\n",
              "      <td>Chỉ</td>\n",
              "      <td>Lâm</td>\n",
              "      <td>NaN</td>\n",
              "      <td>NaN</td>\n",
              "      <td>NaN</td>\n",
              "      <td>NaN</td>\n",
              "      <td>NaN</td>\n",
              "      <td>NaN</td>\n",
              "      <td>5/14/1990</td>\n",
              "      <td>181.1</td>\n",
              "      <td>63</td>\n",
              "      <td>32.1</td>\n",
              "    </tr>\n",
              "  </tbody>\n",
              "</table>\n",
              "</div>"
            ],
            "text/plain": [
              "     patient_id assigned_sex given_name  ... weight height   bmi\n",
              "209         210       female     Lalita  ...  143.4     62  26.2\n",
              "219         220         male         Mỹ  ...  237.8     69  35.1\n",
              "230         231       female  Elisabeth  ...  165.9     63  29.4\n",
              "234         235       female    Martina  ...  199.5     65  33.2\n",
              "242         243         male       John  ...  205.3     74  26.4\n",
              "249         250         male   Benjamin  ...  146.5     69  21.6\n",
              "257         258         male        Jin  ...  231.7     69  34.2\n",
              "264         265       female   Wafiyyah  ...  158.6     63  28.1\n",
              "269         270       female     Flavia  ...  175.2     61  33.1\n",
              "278         279       female   Generosa  ...  124.3     69  18.4\n",
              "286         287         male      Lewis  ...  155.3     68  23.6\n",
              "296         297       female        Chỉ  ...  181.1     63  32.1\n",
              "\n",
              "[12 rows x 14 columns]"
            ]
          },
          "metadata": {
            "tags": []
          },
          "execution_count": 202
        }
      ]
    },
    {
      "cell_type": "markdown",
      "metadata": {
        "id": "nmX6SaERbNX1"
      },
      "source": [
        "**Define**\n",
        "\n",
        "70 rows are missing in treatment dataframe so we will concatenate it with treatments_cut dataframe."
      ]
    },
    {
      "cell_type": "code",
      "metadata": {
        "id": "GhIrqa8ybLor",
        "colab": {
          "resources": {
            "http://localhost:8080/nbextensions/google.colab/files.js": {
              "data": "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",
              "ok": true,
              "headers": [
                [
                  "content-type",
                  "application/javascript"
                ]
              ],
              "status": 200,
              "status_text": ""
            }
          },
          "base_uri": "https://localhost:8080/",
          "height": 458
        },
        "outputId": "6e78bec5-008d-45fc-b584-f8dffbaa5134"
      },
      "source": [
        "uploaded = files.upload()\n",
        "treatments_cut = pd.read_csv(io.StringIO(uploaded['treatments_cut.csv'].decode('utf-8')))\n",
        "treatments_cut"
      ],
      "execution_count": null,
      "outputs": [
        {
          "output_type": "display_data",
          "data": {
            "text/html": [
              "\n",
              "     <input type=\"file\" id=\"files-dc3b58be-d907-4efb-b79e-5a5ba02204aa\" name=\"files[]\" multiple disabled\n",
              "        style=\"border:none\" />\n",
              "     <output id=\"result-dc3b58be-d907-4efb-b79e-5a5ba02204aa\">\n",
              "      Upload widget is only available when the cell has been executed in the\n",
              "      current browser session. Please rerun this cell to enable.\n",
              "      </output>\n",
              "      <script src=\"/nbextensions/google.colab/files.js\"></script> "
            ],
            "text/plain": [
              "<IPython.core.display.HTML object>"
            ]
          },
          "metadata": {
            "tags": []
          }
        },
        {
          "output_type": "stream",
          "text": [
            "Saving treatments_cut.csv to treatments_cut (2).csv\n"
          ],
          "name": "stdout"
        },
        {
          "output_type": "execute_result",
          "data": {
            "text/html": [
              "<div>\n",
              "<style scoped>\n",
              "    .dataframe tbody tr th:only-of-type {\n",
              "        vertical-align: middle;\n",
              "    }\n",
              "\n",
              "    .dataframe tbody tr th {\n",
              "        vertical-align: top;\n",
              "    }\n",
              "\n",
              "    .dataframe thead th {\n",
              "        text-align: right;\n",
              "    }\n",
              "</style>\n",
              "<table border=\"1\" class=\"dataframe\">\n",
              "  <thead>\n",
              "    <tr style=\"text-align: right;\">\n",
              "      <th></th>\n",
              "      <th>given_name</th>\n",
              "      <th>surname</th>\n",
              "      <th>auralin</th>\n",
              "      <th>novodra</th>\n",
              "      <th>hba1c_start</th>\n",
              "      <th>hba1c_end</th>\n",
              "      <th>hba1c_change</th>\n",
              "    </tr>\n",
              "  </thead>\n",
              "  <tbody>\n",
              "    <tr>\n",
              "      <th>0</th>\n",
              "      <td>jožka</td>\n",
              "      <td>resanovič</td>\n",
              "      <td>22u - 30u</td>\n",
              "      <td>-</td>\n",
              "      <td>7.56</td>\n",
              "      <td>7.22</td>\n",
              "      <td>0.34</td>\n",
              "    </tr>\n",
              "    <tr>\n",
              "      <th>1</th>\n",
              "      <td>inunnguaq</td>\n",
              "      <td>heilmann</td>\n",
              "      <td>57u - 67u</td>\n",
              "      <td>-</td>\n",
              "      <td>7.85</td>\n",
              "      <td>7.45</td>\n",
              "      <td>NaN</td>\n",
              "    </tr>\n",
              "    <tr>\n",
              "      <th>2</th>\n",
              "      <td>alwin</td>\n",
              "      <td>svensson</td>\n",
              "      <td>36u - 39u</td>\n",
              "      <td>-</td>\n",
              "      <td>7.78</td>\n",
              "      <td>7.34</td>\n",
              "      <td>NaN</td>\n",
              "    </tr>\n",
              "    <tr>\n",
              "      <th>3</th>\n",
              "      <td>thể</td>\n",
              "      <td>lương</td>\n",
              "      <td>-</td>\n",
              "      <td>61u - 64u</td>\n",
              "      <td>7.64</td>\n",
              "      <td>7.22</td>\n",
              "      <td>0.92</td>\n",
              "    </tr>\n",
              "    <tr>\n",
              "      <th>4</th>\n",
              "      <td>amanda</td>\n",
              "      <td>ribeiro</td>\n",
              "      <td>36u - 44u</td>\n",
              "      <td>-</td>\n",
              "      <td>7.85</td>\n",
              "      <td>7.47</td>\n",
              "      <td>0.38</td>\n",
              "    </tr>\n",
              "    <tr>\n",
              "      <th>...</th>\n",
              "      <td>...</td>\n",
              "      <td>...</td>\n",
              "      <td>...</td>\n",
              "      <td>...</td>\n",
              "      <td>...</td>\n",
              "      <td>...</td>\n",
              "      <td>...</td>\n",
              "    </tr>\n",
              "    <tr>\n",
              "      <th>65</th>\n",
              "      <td>rovzan</td>\n",
              "      <td>kishiev</td>\n",
              "      <td>32u - 37u</td>\n",
              "      <td>-</td>\n",
              "      <td>7.75</td>\n",
              "      <td>7.41</td>\n",
              "      <td>0.34</td>\n",
              "    </tr>\n",
              "    <tr>\n",
              "      <th>66</th>\n",
              "      <td>jakob</td>\n",
              "      <td>jakobsen</td>\n",
              "      <td>-</td>\n",
              "      <td>28u - 26u</td>\n",
              "      <td>7.96</td>\n",
              "      <td>7.51</td>\n",
              "      <td>0.95</td>\n",
              "    </tr>\n",
              "    <tr>\n",
              "      <th>67</th>\n",
              "      <td>bernd</td>\n",
              "      <td>schneider</td>\n",
              "      <td>48u - 56u</td>\n",
              "      <td>-</td>\n",
              "      <td>7.74</td>\n",
              "      <td>7.44</td>\n",
              "      <td>0.30</td>\n",
              "    </tr>\n",
              "    <tr>\n",
              "      <th>68</th>\n",
              "      <td>berta</td>\n",
              "      <td>napolitani</td>\n",
              "      <td>-</td>\n",
              "      <td>42u - 44u</td>\n",
              "      <td>7.68</td>\n",
              "      <td>7.21</td>\n",
              "      <td>NaN</td>\n",
              "    </tr>\n",
              "    <tr>\n",
              "      <th>69</th>\n",
              "      <td>armina</td>\n",
              "      <td>sauvé</td>\n",
              "      <td>36u - 46u</td>\n",
              "      <td>-</td>\n",
              "      <td>7.86</td>\n",
              "      <td>7.40</td>\n",
              "      <td>NaN</td>\n",
              "    </tr>\n",
              "  </tbody>\n",
              "</table>\n",
              "<p>70 rows × 7 columns</p>\n",
              "</div>"
            ],
            "text/plain": [
              "   given_name     surname    auralin  ... hba1c_start  hba1c_end  hba1c_change\n",
              "0       jožka   resanovič  22u - 30u  ...        7.56       7.22          0.34\n",
              "1   inunnguaq    heilmann  57u - 67u  ...        7.85       7.45           NaN\n",
              "2       alwin    svensson  36u - 39u  ...        7.78       7.34           NaN\n",
              "3         thể       lương          -  ...        7.64       7.22          0.92\n",
              "4      amanda     ribeiro  36u - 44u  ...        7.85       7.47          0.38\n",
              "..        ...         ...        ...  ...         ...        ...           ...\n",
              "65     rovzan     kishiev  32u - 37u  ...        7.75       7.41          0.34\n",
              "66      jakob    jakobsen          -  ...        7.96       7.51          0.95\n",
              "67      bernd   schneider  48u - 56u  ...        7.74       7.44          0.30\n",
              "68      berta  napolitani          -  ...        7.68       7.21           NaN\n",
              "69     armina       sauvé  36u - 46u  ...        7.86       7.40           NaN\n",
              "\n",
              "[70 rows x 7 columns]"
            ]
          },
          "metadata": {
            "tags": []
          },
          "execution_count": 203
        }
      ]
    },
    {
      "cell_type": "markdown",
      "metadata": {
        "id": "N4i5Lqgfbtn4"
      },
      "source": [
        "**Code**"
      ]
    },
    {
      "cell_type": "code",
      "metadata": {
        "id": "_49R26Vebbb4"
      },
      "source": [
        "frames = [treatment_copy, treatments_cut]\n",
        "treatment_copy = pd.concat(frames)"
      ],
      "execution_count": null,
      "outputs": []
    },
    {
      "cell_type": "markdown",
      "metadata": {
        "id": "XNscKGJHb0d3"
      },
      "source": [
        "**Test**"
      ]
    },
    {
      "cell_type": "code",
      "metadata": {
        "id": "JrxFVk5_bzOA",
        "colab": {
          "base_uri": "https://localhost:8080/",
          "height": 252
        },
        "outputId": "c474b3d4-e59d-4c28-8767-ee08b4c97fb5"
      },
      "source": [
        "treatment_copy.info()"
      ],
      "execution_count": null,
      "outputs": [
        {
          "output_type": "stream",
          "text": [
            "<class 'pandas.core.frame.DataFrame'>\n",
            "Int64Index: 350 entries, 0 to 69\n",
            "Data columns (total 7 columns):\n",
            " #   Column        Non-Null Count  Dtype  \n",
            "---  ------        --------------  -----  \n",
            " 0   given_name    350 non-null    object \n",
            " 1   surname       350 non-null    object \n",
            " 2   auralin       350 non-null    object \n",
            " 3   novodra       350 non-null    object \n",
            " 4   hba1c_start   350 non-null    float64\n",
            " 5   hba1c_end     350 non-null    float64\n",
            " 6   hba1c_change  213 non-null    float64\n",
            "dtypes: float64(3), object(4)\n",
            "memory usage: 21.9+ KB\n"
          ],
          "name": "stdout"
        }
      ]
    },
    {
      "cell_type": "markdown",
      "metadata": {
        "id": "kxqq9XU4b9MB"
      },
      "source": [
        "**Define**\n",
        "\n",
        "Subtract hba1c_end from hba1c_start to get hba1c_change."
      ]
    },
    {
      "cell_type": "markdown",
      "metadata": {
        "id": "qEPLnPTNb-j7"
      },
      "source": [
        "**Code**"
      ]
    },
    {
      "cell_type": "code",
      "metadata": {
        "id": "PXarVNNrb5Wr"
      },
      "source": [
        "treatment_copy['hba1c_change']=treatment_copy['hba1c_start']-treatment_copy['hba1c_end']"
      ],
      "execution_count": null,
      "outputs": []
    },
    {
      "cell_type": "markdown",
      "metadata": {
        "id": "o4SPTtJCcHiA"
      },
      "source": [
        "**Test**"
      ]
    },
    {
      "cell_type": "code",
      "metadata": {
        "id": "Ft-XpjaccDIa",
        "colab": {
          "base_uri": "https://localhost:8080/",
          "height": 252
        },
        "outputId": "33d461c5-f852-486d-db12-83fb4067c713"
      },
      "source": [
        "treatment_copy.info()"
      ],
      "execution_count": null,
      "outputs": [
        {
          "output_type": "stream",
          "text": [
            "<class 'pandas.core.frame.DataFrame'>\n",
            "Int64Index: 350 entries, 0 to 69\n",
            "Data columns (total 7 columns):\n",
            " #   Column        Non-Null Count  Dtype  \n",
            "---  ------        --------------  -----  \n",
            " 0   given_name    350 non-null    object \n",
            " 1   surname       350 non-null    object \n",
            " 2   auralin       350 non-null    object \n",
            " 3   novodra       350 non-null    object \n",
            " 4   hba1c_start   350 non-null    float64\n",
            " 5   hba1c_end     350 non-null    float64\n",
            " 6   hba1c_change  350 non-null    float64\n",
            "dtypes: float64(3), object(4)\n",
            "memory usage: 21.9+ KB\n"
          ],
          "name": "stdout"
        }
      ]
    },
    {
      "cell_type": "markdown",
      "metadata": {
        "id": "i4MwcRpocPA1"
      },
      "source": [
        "# **2. Tidiness Issue**\n",
        "     a. Phone number and email in the same column i.e. the contact column.\n",
        "     b. Three variables(informations) stored in auralin and novodra columns.\n",
        "     c. No point of using adverse_reaction column."
      ]
    },
    {
      "cell_type": "markdown",
      "metadata": {
        "id": "zXmUB27XcSfv"
      },
      "source": [
        "**Define**\n",
        "\n",
        "Making separate columns for phone numbers and email and dropping the contact column and keeping the formats of the phone number as it is, because US has various formats for local,domestic,international etc."
      ]
    },
    {
      "cell_type": "markdown",
      "metadata": {
        "id": "kyvReEjocWay"
      },
      "source": [
        "**Code**"
      ]
    },
    {
      "cell_type": "code",
      "metadata": {
        "id": "nM7DfncKcM8U"
      },
      "source": [
        "patients_copy['phone_number']=patients_copy.contact.str.extract('((?:\\+\\d{1,2}\\s)?\\(?\\d{3}\\)?[\\s.-]?\\d{3}[\\s.-]?\\d{4})', expand=True)"
      ],
      "execution_count": null,
      "outputs": []
    },
    {
      "cell_type": "code",
      "metadata": {
        "id": "A1sI6qKhceOu"
      },
      "source": [
        "patients_copy['email']=patients_copy.contact.str.extract('([a-zA-Z][a-zA-Z0-9_.+-]+@[a-zA-Z0-9-]+\\.[a-zA-Z0-9-.]+[a-zA-Z])', expand=True)"
      ],
      "execution_count": null,
      "outputs": []
    },
    {
      "cell_type": "code",
      "metadata": {
        "id": "Bxt0yvrtchJo"
      },
      "source": [
        "patients_copy = patients_copy.drop('contact', axis=1)"
      ],
      "execution_count": null,
      "outputs": []
    },
    {
      "cell_type": "markdown",
      "metadata": {
        "id": "7PjshuRdcmff"
      },
      "source": [
        "**Test**"
      ]
    },
    {
      "cell_type": "code",
      "metadata": {
        "id": "5NdXlMVqcj7G",
        "colab": {
          "base_uri": "https://localhost:8080/",
          "height": 279
        },
        "outputId": "77c98c44-7a09-4ebe-c8bf-0aae8291b6ab"
      },
      "source": [
        "patients_copy.head()"
      ],
      "execution_count": null,
      "outputs": [
        {
          "output_type": "execute_result",
          "data": {
            "text/html": [
              "<div>\n",
              "<style scoped>\n",
              "    .dataframe tbody tr th:only-of-type {\n",
              "        vertical-align: middle;\n",
              "    }\n",
              "\n",
              "    .dataframe tbody tr th {\n",
              "        vertical-align: top;\n",
              "    }\n",
              "\n",
              "    .dataframe thead th {\n",
              "        text-align: right;\n",
              "    }\n",
              "</style>\n",
              "<table border=\"1\" class=\"dataframe\">\n",
              "  <thead>\n",
              "    <tr style=\"text-align: right;\">\n",
              "      <th></th>\n",
              "      <th>patient_id</th>\n",
              "      <th>assigned_sex</th>\n",
              "      <th>given_name</th>\n",
              "      <th>surname</th>\n",
              "      <th>address</th>\n",
              "      <th>city</th>\n",
              "      <th>state</th>\n",
              "      <th>zip_code</th>\n",
              "      <th>country</th>\n",
              "      <th>birthdate</th>\n",
              "      <th>weight</th>\n",
              "      <th>height</th>\n",
              "      <th>bmi</th>\n",
              "      <th>phone_number</th>\n",
              "      <th>email</th>\n",
              "    </tr>\n",
              "  </thead>\n",
              "  <tbody>\n",
              "    <tr>\n",
              "      <th>0</th>\n",
              "      <td>1</td>\n",
              "      <td>female</td>\n",
              "      <td>Zoe</td>\n",
              "      <td>Wellish</td>\n",
              "      <td>576 Brown Bear Drive</td>\n",
              "      <td>Rancho California</td>\n",
              "      <td>California</td>\n",
              "      <td>92390.0</td>\n",
              "      <td>United States</td>\n",
              "      <td>7/10/1976</td>\n",
              "      <td>121.7</td>\n",
              "      <td>66</td>\n",
              "      <td>19.6</td>\n",
              "      <td>951-719-9170</td>\n",
              "      <td>ZoeWellish@superrito.com</td>\n",
              "    </tr>\n",
              "    <tr>\n",
              "      <th>1</th>\n",
              "      <td>2</td>\n",
              "      <td>female</td>\n",
              "      <td>Pamela</td>\n",
              "      <td>Hill</td>\n",
              "      <td>2370 University Hill Road</td>\n",
              "      <td>Armstrong</td>\n",
              "      <td>Illinois</td>\n",
              "      <td>61812.0</td>\n",
              "      <td>United States</td>\n",
              "      <td>4/3/1967</td>\n",
              "      <td>118.8</td>\n",
              "      <td>66</td>\n",
              "      <td>19.2</td>\n",
              "      <td>+1 (217) 569-3204</td>\n",
              "      <td>PamelaSHill@cuvox.de</td>\n",
              "    </tr>\n",
              "    <tr>\n",
              "      <th>2</th>\n",
              "      <td>3</td>\n",
              "      <td>male</td>\n",
              "      <td>Jae</td>\n",
              "      <td>Debord</td>\n",
              "      <td>1493 Poling Farm Road</td>\n",
              "      <td>York</td>\n",
              "      <td>Nebraska</td>\n",
              "      <td>68467.0</td>\n",
              "      <td>United States</td>\n",
              "      <td>2/19/1980</td>\n",
              "      <td>177.8</td>\n",
              "      <td>71</td>\n",
              "      <td>24.8</td>\n",
              "      <td>402-363-6804</td>\n",
              "      <td>JaeMDebord@gustr.com</td>\n",
              "    </tr>\n",
              "    <tr>\n",
              "      <th>3</th>\n",
              "      <td>4</td>\n",
              "      <td>male</td>\n",
              "      <td>Liêm</td>\n",
              "      <td>Phan</td>\n",
              "      <td>2335 Webster Street</td>\n",
              "      <td>Woodbridge</td>\n",
              "      <td>NJ</td>\n",
              "      <td>7095.0</td>\n",
              "      <td>United States</td>\n",
              "      <td>7/26/1951</td>\n",
              "      <td>220.9</td>\n",
              "      <td>70</td>\n",
              "      <td>31.7</td>\n",
              "      <td>+1 (732) 636-8246</td>\n",
              "      <td>PhanBaLiem@jourrapide.com</td>\n",
              "    </tr>\n",
              "    <tr>\n",
              "      <th>4</th>\n",
              "      <td>5</td>\n",
              "      <td>male</td>\n",
              "      <td>Tim</td>\n",
              "      <td>Neudorf</td>\n",
              "      <td>1428 Turkey Pen Lane</td>\n",
              "      <td>Dothan</td>\n",
              "      <td>AL</td>\n",
              "      <td>36303.0</td>\n",
              "      <td>United States</td>\n",
              "      <td>2/18/1928</td>\n",
              "      <td>192.3</td>\n",
              "      <td>27</td>\n",
              "      <td>26.1</td>\n",
              "      <td>334-515-7487</td>\n",
              "      <td>TimNeudorf@cuvox.de</td>\n",
              "    </tr>\n",
              "  </tbody>\n",
              "</table>\n",
              "</div>"
            ],
            "text/plain": [
              "   patient_id assigned_sex  ...       phone_number                      email\n",
              "0           1       female  ...       951-719-9170   ZoeWellish@superrito.com\n",
              "1           2       female  ...  +1 (217) 569-3204       PamelaSHill@cuvox.de\n",
              "2           3         male  ...       402-363-6804       JaeMDebord@gustr.com\n",
              "3           4         male  ...  +1 (732) 636-8246  PhanBaLiem@jourrapide.com\n",
              "4           5         male  ...       334-515-7487        TimNeudorf@cuvox.de\n",
              "\n",
              "[5 rows x 15 columns]"
            ]
          },
          "metadata": {
            "tags": []
          },
          "execution_count": 211
        }
      ]
    },
    {
      "cell_type": "markdown",
      "metadata": {
        "id": "Xb3leez5cyKm"
      },
      "source": [
        "**Define**\n",
        "\n",
        "Creating one column for auralin and novodra by the melt function and creating two separate column for the start and end dose."
      ]
    },
    {
      "cell_type": "markdown",
      "metadata": {
        "id": "HFpw0EM3c1jf"
      },
      "source": [
        "**Code**"
      ]
    },
    {
      "cell_type": "code",
      "metadata": {
        "id": "saPvglnGcsRh"
      },
      "source": [
        "treatment_copy=pd.melt(treatment_copy, id_vars=['given_name', 'surname', 'hba1c_start', 'hba1c_end', 'hba1c_change'],var_name='treatment', value_name='dose')"
      ],
      "execution_count": null,
      "outputs": []
    },
    {
      "cell_type": "code",
      "metadata": {
        "id": "ajA4NVk9c6o7"
      },
      "source": [
        "treatment_copy=treatment_copy[treatment_copy['dose']!='-']"
      ],
      "execution_count": null,
      "outputs": []
    },
    {
      "cell_type": "code",
      "metadata": {
        "id": "44JLGZ1bc9Go",
        "colab": {
          "base_uri": "https://localhost:8080/",
          "height": 50
        },
        "outputId": "4eca1d8e-1d63-4e07-d0e3-f5f2fa71b31b"
      },
      "source": [
        "treatment_copy['start'],treatment_copy['end']=treatment_copy['dose'].str.split('-').str"
      ],
      "execution_count": null,
      "outputs": [
        {
          "output_type": "stream",
          "text": [
            "/usr/local/lib/python3.6/dist-packages/ipykernel_launcher.py:1: FutureWarning: Columnar iteration over characters will be deprecated in future releases.\n",
            "  \"\"\"Entry point for launching an IPython kernel.\n"
          ],
          "name": "stderr"
        }
      ]
    },
    {
      "cell_type": "code",
      "metadata": {
        "id": "Tgq96loic_t6"
      },
      "source": [
        "treatment_copy.drop(columns={'dose'}, inplace=True)"
      ],
      "execution_count": null,
      "outputs": []
    },
    {
      "cell_type": "markdown",
      "metadata": {
        "id": "4N8VkZfEdDKm"
      },
      "source": [
        "**Test**"
      ]
    },
    {
      "cell_type": "code",
      "metadata": {
        "id": "LZeiPk21dCRq",
        "colab": {
          "base_uri": "https://localhost:8080/",
          "height": 195
        },
        "outputId": "3891e71a-196d-4720-bfa3-6e4ad4697e3e"
      },
      "source": [
        "treatment_copy.tail(5)"
      ],
      "execution_count": null,
      "outputs": [
        {
          "output_type": "execute_result",
          "data": {
            "text/html": [
              "<div>\n",
              "<style scoped>\n",
              "    .dataframe tbody tr th:only-of-type {\n",
              "        vertical-align: middle;\n",
              "    }\n",
              "\n",
              "    .dataframe tbody tr th {\n",
              "        vertical-align: top;\n",
              "    }\n",
              "\n",
              "    .dataframe thead th {\n",
              "        text-align: right;\n",
              "    }\n",
              "</style>\n",
              "<table border=\"1\" class=\"dataframe\">\n",
              "  <thead>\n",
              "    <tr style=\"text-align: right;\">\n",
              "      <th></th>\n",
              "      <th>given_name</th>\n",
              "      <th>surname</th>\n",
              "      <th>hba1c_start</th>\n",
              "      <th>hba1c_end</th>\n",
              "      <th>hba1c_change</th>\n",
              "      <th>treatment</th>\n",
              "      <th>start</th>\n",
              "      <th>end</th>\n",
              "    </tr>\n",
              "  </thead>\n",
              "  <tbody>\n",
              "    <tr>\n",
              "      <th>688</th>\n",
              "      <td>christopher</td>\n",
              "      <td>woodward</td>\n",
              "      <td>7.51</td>\n",
              "      <td>7.06</td>\n",
              "      <td>0.45</td>\n",
              "      <td>novodra</td>\n",
              "      <td>55u</td>\n",
              "      <td>51u</td>\n",
              "    </tr>\n",
              "    <tr>\n",
              "      <th>690</th>\n",
              "      <td>maret</td>\n",
              "      <td>sultygov</td>\n",
              "      <td>7.67</td>\n",
              "      <td>7.30</td>\n",
              "      <td>0.37</td>\n",
              "      <td>novodra</td>\n",
              "      <td>26u</td>\n",
              "      <td>23u</td>\n",
              "    </tr>\n",
              "    <tr>\n",
              "      <th>694</th>\n",
              "      <td>lixue</td>\n",
              "      <td>hsueh</td>\n",
              "      <td>9.21</td>\n",
              "      <td>8.80</td>\n",
              "      <td>0.41</td>\n",
              "      <td>novodra</td>\n",
              "      <td>22u</td>\n",
              "      <td>23u</td>\n",
              "    </tr>\n",
              "    <tr>\n",
              "      <th>696</th>\n",
              "      <td>jakob</td>\n",
              "      <td>jakobsen</td>\n",
              "      <td>7.96</td>\n",
              "      <td>7.51</td>\n",
              "      <td>0.45</td>\n",
              "      <td>novodra</td>\n",
              "      <td>28u</td>\n",
              "      <td>26u</td>\n",
              "    </tr>\n",
              "    <tr>\n",
              "      <th>698</th>\n",
              "      <td>berta</td>\n",
              "      <td>napolitani</td>\n",
              "      <td>7.68</td>\n",
              "      <td>7.21</td>\n",
              "      <td>0.47</td>\n",
              "      <td>novodra</td>\n",
              "      <td>42u</td>\n",
              "      <td>44u</td>\n",
              "    </tr>\n",
              "  </tbody>\n",
              "</table>\n",
              "</div>"
            ],
            "text/plain": [
              "      given_name     surname  hba1c_start  ...  treatment  start   end\n",
              "688  christopher    woodward         7.51  ...    novodra   55u    51u\n",
              "690        maret    sultygov         7.67  ...    novodra   26u    23u\n",
              "694        lixue       hsueh         9.21  ...    novodra   22u    23u\n",
              "696        jakob    jakobsen         7.96  ...    novodra   28u    26u\n",
              "698        berta  napolitani         7.68  ...    novodra   42u    44u\n",
              "\n",
              "[5 rows x 8 columns]"
            ]
          },
          "metadata": {
            "tags": []
          },
          "execution_count": 216
        }
      ]
    },
    {
      "cell_type": "code",
      "metadata": {
        "id": "16xWdPDzdIJK",
        "colab": {
          "base_uri": "https://localhost:8080/",
          "height": 269
        },
        "outputId": "68964707-c81f-475e-9c5a-ca93ff02d41d"
      },
      "source": [
        "treatment_copy.info()"
      ],
      "execution_count": null,
      "outputs": [
        {
          "output_type": "stream",
          "text": [
            "<class 'pandas.core.frame.DataFrame'>\n",
            "Int64Index: 350 entries, 0 to 698\n",
            "Data columns (total 8 columns):\n",
            " #   Column        Non-Null Count  Dtype  \n",
            "---  ------        --------------  -----  \n",
            " 0   given_name    350 non-null    object \n",
            " 1   surname       350 non-null    object \n",
            " 2   hba1c_start   350 non-null    float64\n",
            " 3   hba1c_end     350 non-null    float64\n",
            " 4   hba1c_change  350 non-null    float64\n",
            " 5   treatment     350 non-null    object \n",
            " 6   start         350 non-null    object \n",
            " 7   end           350 non-null    object \n",
            "dtypes: float64(3), object(5)\n",
            "memory usage: 24.6+ KB\n"
          ],
          "name": "stdout"
        }
      ]
    },
    {
      "cell_type": "markdown",
      "metadata": {
        "id": "dqjAWKcJdQ4M"
      },
      "source": [
        "**Define**\n",
        "\n",
        "Merging the adverse_reaction column in treatment dataframe."
      ]
    },
    {
      "cell_type": "markdown",
      "metadata": {
        "id": "iipxgp7-dUAS"
      },
      "source": [
        "**Code**"
      ]
    },
    {
      "cell_type": "code",
      "metadata": {
        "id": "yMOoxEf_dPLP"
      },
      "source": [
        "treatment_copy=pd.merge(treatment_copy, adverse_copy,on=['given_name', 'surname'],how='left')"
      ],
      "execution_count": null,
      "outputs": []
    },
    {
      "cell_type": "markdown",
      "metadata": {
        "id": "UBytAExIda_9"
      },
      "source": [
        "**Test**"
      ]
    },
    {
      "cell_type": "code",
      "metadata": {
        "id": "0Zk6R6kFdaA4",
        "colab": {
          "base_uri": "https://localhost:8080/",
          "height": 195
        },
        "outputId": "8002cb8e-7360-4bf9-82a5-d8edd0490668"
      },
      "source": [
        "treatment_copy.head()"
      ],
      "execution_count": null,
      "outputs": [
        {
          "output_type": "execute_result",
          "data": {
            "text/html": [
              "<div>\n",
              "<style scoped>\n",
              "    .dataframe tbody tr th:only-of-type {\n",
              "        vertical-align: middle;\n",
              "    }\n",
              "\n",
              "    .dataframe tbody tr th {\n",
              "        vertical-align: top;\n",
              "    }\n",
              "\n",
              "    .dataframe thead th {\n",
              "        text-align: right;\n",
              "    }\n",
              "</style>\n",
              "<table border=\"1\" class=\"dataframe\">\n",
              "  <thead>\n",
              "    <tr style=\"text-align: right;\">\n",
              "      <th></th>\n",
              "      <th>given_name</th>\n",
              "      <th>surname</th>\n",
              "      <th>hba1c_start</th>\n",
              "      <th>hba1c_end</th>\n",
              "      <th>hba1c_change</th>\n",
              "      <th>treatment</th>\n",
              "      <th>start</th>\n",
              "      <th>end</th>\n",
              "      <th>adverse_reaction</th>\n",
              "    </tr>\n",
              "  </thead>\n",
              "  <tbody>\n",
              "    <tr>\n",
              "      <th>0</th>\n",
              "      <td>veronika</td>\n",
              "      <td>jindrová</td>\n",
              "      <td>7.63</td>\n",
              "      <td>7.20</td>\n",
              "      <td>0.43</td>\n",
              "      <td>auralin</td>\n",
              "      <td>41u</td>\n",
              "      <td>48u</td>\n",
              "      <td>NaN</td>\n",
              "    </tr>\n",
              "    <tr>\n",
              "      <th>1</th>\n",
              "      <td>skye</td>\n",
              "      <td>gormanston</td>\n",
              "      <td>7.97</td>\n",
              "      <td>7.62</td>\n",
              "      <td>0.35</td>\n",
              "      <td>auralin</td>\n",
              "      <td>33u</td>\n",
              "      <td>36u</td>\n",
              "      <td>NaN</td>\n",
              "    </tr>\n",
              "    <tr>\n",
              "      <th>2</th>\n",
              "      <td>sophia</td>\n",
              "      <td>haugen</td>\n",
              "      <td>7.65</td>\n",
              "      <td>7.27</td>\n",
              "      <td>0.38</td>\n",
              "      <td>auralin</td>\n",
              "      <td>37u</td>\n",
              "      <td>42u</td>\n",
              "      <td>NaN</td>\n",
              "    </tr>\n",
              "    <tr>\n",
              "      <th>3</th>\n",
              "      <td>eddie</td>\n",
              "      <td>archer</td>\n",
              "      <td>7.89</td>\n",
              "      <td>7.55</td>\n",
              "      <td>0.34</td>\n",
              "      <td>auralin</td>\n",
              "      <td>31u</td>\n",
              "      <td>38u</td>\n",
              "      <td>NaN</td>\n",
              "    </tr>\n",
              "    <tr>\n",
              "      <th>4</th>\n",
              "      <td>asia</td>\n",
              "      <td>woźniak</td>\n",
              "      <td>7.76</td>\n",
              "      <td>7.37</td>\n",
              "      <td>0.39</td>\n",
              "      <td>auralin</td>\n",
              "      <td>30u</td>\n",
              "      <td>36u</td>\n",
              "      <td>NaN</td>\n",
              "    </tr>\n",
              "  </tbody>\n",
              "</table>\n",
              "</div>"
            ],
            "text/plain": [
              "  given_name     surname  hba1c_start  ...  start   end adverse_reaction\n",
              "0   veronika    jindrová         7.63  ...   41u    48u              NaN\n",
              "1       skye  gormanston         7.97  ...   33u    36u              NaN\n",
              "2     sophia      haugen         7.65  ...   37u    42u              NaN\n",
              "3      eddie      archer         7.89  ...   31u    38u              NaN\n",
              "4       asia     woźniak         7.76  ...   30u    36u              NaN\n",
              "\n",
              "[5 rows x 9 columns]"
            ]
          },
          "metadata": {
            "tags": []
          },
          "execution_count": 219
        }
      ]
    },
    {
      "cell_type": "markdown",
      "metadata": {
        "id": "jHxqbLVudmYy"
      },
      "source": [
        "# **3.Quality Issues**\n",
        "        a. Certain zip codes have 4 digits.(V)\n",
        "        b. Incorrect data types for assigned_sex, zip_code, birthdate.(V)\n",
        "        c. For the state column sometimes full names are used and other times short forms are used.(IC)\n",
        "        d. Errorness data for weights and heights.(A)\n",
        "        e. given_name and surname has first letter in lowercase.(IC)\n",
        "        f. There is 1 duplicate in treatment dataframe.(IC)\n",
        "        g. There are certain John Doe records in patients_copy dataframe."
      ]
    },
    {
      "cell_type": "markdown",
      "metadata": {
        "id": "M6_dSHAydqbH"
      },
      "source": [
        "**Define**\n",
        "\n",
        "Converting the zip code from float to string using astype\n",
        "Removing .0 from the zip code and making the zip codes to 5-digit"
      ]
    },
    {
      "cell_type": "markdown",
      "metadata": {
        "id": "JbhylCyidxZp"
      },
      "source": [
        "**Code**"
      ]
    },
    {
      "cell_type": "code",
      "metadata": {
        "id": "ZxPfmKmkdiTY"
      },
      "source": [
        "patients_copy['zip_code']=patients_copy['zip_code'].astype('str').str[:-2].str.pad(5, fillchar='0')"
      ],
      "execution_count": null,
      "outputs": []
    },
    {
      "cell_type": "code",
      "metadata": {
        "id": "ek3EVlRmd14P"
      },
      "source": [
        "patients_copy['zip_code']=patients_copy['zip_code'].replace('0000n',np.nan)"
      ],
      "execution_count": null,
      "outputs": []
    },
    {
      "cell_type": "markdown",
      "metadata": {
        "id": "9aZR_wc3d5yc"
      },
      "source": [
        "**Test**"
      ]
    },
    {
      "cell_type": "code",
      "metadata": {
        "id": "4LiQQDrcd5Ei",
        "colab": {
          "base_uri": "https://localhost:8080/",
          "height": 511
        },
        "outputId": "8d8b4840-27cd-4aab-9033-bb58e1b4e682"
      },
      "source": [
        "patients_copy.sample(10)"
      ],
      "execution_count": null,
      "outputs": [
        {
          "output_type": "execute_result",
          "data": {
            "text/html": [
              "<div>\n",
              "<style scoped>\n",
              "    .dataframe tbody tr th:only-of-type {\n",
              "        vertical-align: middle;\n",
              "    }\n",
              "\n",
              "    .dataframe tbody tr th {\n",
              "        vertical-align: top;\n",
              "    }\n",
              "\n",
              "    .dataframe thead th {\n",
              "        text-align: right;\n",
              "    }\n",
              "</style>\n",
              "<table border=\"1\" class=\"dataframe\">\n",
              "  <thead>\n",
              "    <tr style=\"text-align: right;\">\n",
              "      <th></th>\n",
              "      <th>patient_id</th>\n",
              "      <th>assigned_sex</th>\n",
              "      <th>given_name</th>\n",
              "      <th>surname</th>\n",
              "      <th>address</th>\n",
              "      <th>city</th>\n",
              "      <th>state</th>\n",
              "      <th>zip_code</th>\n",
              "      <th>country</th>\n",
              "      <th>birthdate</th>\n",
              "      <th>weight</th>\n",
              "      <th>height</th>\n",
              "      <th>bmi</th>\n",
              "      <th>phone_number</th>\n",
              "      <th>email</th>\n",
              "    </tr>\n",
              "  </thead>\n",
              "  <tbody>\n",
              "    <tr>\n",
              "      <th>276</th>\n",
              "      <td>277</td>\n",
              "      <td>male</td>\n",
              "      <td>Alex</td>\n",
              "      <td>Crawford</td>\n",
              "      <td>373 Fantages Way</td>\n",
              "      <td>Hope</td>\n",
              "      <td>ID</td>\n",
              "      <td>83836</td>\n",
              "      <td>United States</td>\n",
              "      <td>7/7/1924</td>\n",
              "      <td>223.1</td>\n",
              "      <td>70</td>\n",
              "      <td>32.0</td>\n",
              "      <td>+1 (208) 264-9063</td>\n",
              "      <td>AlexCrawford@dayrep.com</td>\n",
              "    </tr>\n",
              "    <tr>\n",
              "      <th>430</th>\n",
              "      <td>431</td>\n",
              "      <td>male</td>\n",
              "      <td>Timothy</td>\n",
              "      <td>Cotton</td>\n",
              "      <td>4243 Hidden Meadow Drive</td>\n",
              "      <td>Devils Lake</td>\n",
              "      <td>ND</td>\n",
              "      <td>58301</td>\n",
              "      <td>United States</td>\n",
              "      <td>12/12/1995</td>\n",
              "      <td>135.7</td>\n",
              "      <td>68</td>\n",
              "      <td>20.6</td>\n",
              "      <td>701-662-1983</td>\n",
              "      <td>TimothyJCotton@dayrep.com</td>\n",
              "    </tr>\n",
              "    <tr>\n",
              "      <th>118</th>\n",
              "      <td>119</td>\n",
              "      <td>male</td>\n",
              "      <td>Adib</td>\n",
              "      <td>Ghanem</td>\n",
              "      <td>3457 Bridge Avenue</td>\n",
              "      <td>Delcambre</td>\n",
              "      <td>LA</td>\n",
              "      <td>70528</td>\n",
              "      <td>United States</td>\n",
              "      <td>12/31/1967</td>\n",
              "      <td>254.5</td>\n",
              "      <td>72</td>\n",
              "      <td>34.5</td>\n",
              "      <td>337-685-4885</td>\n",
              "      <td>AdibMutazzGhanem@fleckens.hu</td>\n",
              "    </tr>\n",
              "    <tr>\n",
              "      <th>32</th>\n",
              "      <td>33</td>\n",
              "      <td>female</td>\n",
              "      <td>Một</td>\n",
              "      <td>Phạm</td>\n",
              "      <td>2690 Pin Oak Drive</td>\n",
              "      <td>Long Beach</td>\n",
              "      <td>CA</td>\n",
              "      <td>90815</td>\n",
              "      <td>United States</td>\n",
              "      <td>1/30/1997</td>\n",
              "      <td>147.6</td>\n",
              "      <td>69</td>\n",
              "      <td>21.8</td>\n",
              "      <td>562-985-4582</td>\n",
              "      <td>PhamThiBichMot@dayrep.com</td>\n",
              "    </tr>\n",
              "    <tr>\n",
              "      <th>158</th>\n",
              "      <td>159</td>\n",
              "      <td>male</td>\n",
              "      <td>Chibuzo</td>\n",
              "      <td>Okoli</td>\n",
              "      <td>4291 Patton Lane</td>\n",
              "      <td>Tulsa</td>\n",
              "      <td>OK</td>\n",
              "      <td>74136</td>\n",
              "      <td>United States</td>\n",
              "      <td>6/14/1983</td>\n",
              "      <td>142.8</td>\n",
              "      <td>73</td>\n",
              "      <td>18.8</td>\n",
              "      <td>+1 (918) 971-5864</td>\n",
              "      <td>ChibuzoOkoli@einrot.com</td>\n",
              "    </tr>\n",
              "    <tr>\n",
              "      <th>353</th>\n",
              "      <td>354</td>\n",
              "      <td>male</td>\n",
              "      <td>Ole</td>\n",
              "      <td>Petersen</td>\n",
              "      <td>3650 Graystone Lakes</td>\n",
              "      <td>Dudley</td>\n",
              "      <td>GA</td>\n",
              "      <td>31022</td>\n",
              "      <td>United States</td>\n",
              "      <td>7/14/1931</td>\n",
              "      <td>136.8</td>\n",
              "      <td>69</td>\n",
              "      <td>20.2</td>\n",
              "      <td>478-676-7058</td>\n",
              "      <td>OlePetersen@armyspy.com</td>\n",
              "    </tr>\n",
              "    <tr>\n",
              "      <th>480</th>\n",
              "      <td>481</td>\n",
              "      <td>male</td>\n",
              "      <td>Nasser</td>\n",
              "      <td>Mansour</td>\n",
              "      <td>547 Weekley Street</td>\n",
              "      <td>San Antonio</td>\n",
              "      <td>TX</td>\n",
              "      <td>78212</td>\n",
              "      <td>United States</td>\n",
              "      <td>3/25/1938</td>\n",
              "      <td>183.5</td>\n",
              "      <td>66</td>\n",
              "      <td>29.6</td>\n",
              "      <td>210 326 5509</td>\n",
              "      <td>NasserMazinMansour@fleckens.hu</td>\n",
              "    </tr>\n",
              "    <tr>\n",
              "      <th>435</th>\n",
              "      <td>436</td>\n",
              "      <td>female</td>\n",
              "      <td>Ivana</td>\n",
              "      <td>Kašná</td>\n",
              "      <td>3343 Jefferson Street</td>\n",
              "      <td>Newport News</td>\n",
              "      <td>VA</td>\n",
              "      <td>23601</td>\n",
              "      <td>United States</td>\n",
              "      <td>8/15/1995</td>\n",
              "      <td>173.8</td>\n",
              "      <td>67</td>\n",
              "      <td>27.2</td>\n",
              "      <td>+1 (757) 736-7026</td>\n",
              "      <td>IvanaKasna@teleworm.us</td>\n",
              "    </tr>\n",
              "    <tr>\n",
              "      <th>383</th>\n",
              "      <td>384</td>\n",
              "      <td>male</td>\n",
              "      <td>Torben</td>\n",
              "      <td>Mortensen</td>\n",
              "      <td>4682 Science Center Drive</td>\n",
              "      <td>Monteview</td>\n",
              "      <td>ID</td>\n",
              "      <td>83435</td>\n",
              "      <td>United States</td>\n",
              "      <td>7/24/1943</td>\n",
              "      <td>168.7</td>\n",
              "      <td>69</td>\n",
              "      <td>24.9</td>\n",
              "      <td>208 657 2473</td>\n",
              "      <td>TorbenMMortensen@einrot.com</td>\n",
              "    </tr>\n",
              "    <tr>\n",
              "      <th>7</th>\n",
              "      <td>8</td>\n",
              "      <td>female</td>\n",
              "      <td>Xiuxiu</td>\n",
              "      <td>Chang</td>\n",
              "      <td>2687 Black Oak Hollow Road</td>\n",
              "      <td>Morgan Hill</td>\n",
              "      <td>CA</td>\n",
              "      <td>95037</td>\n",
              "      <td>United States</td>\n",
              "      <td>8/13/1958</td>\n",
              "      <td>158.0</td>\n",
              "      <td>60</td>\n",
              "      <td>30.9</td>\n",
              "      <td>408 778 3236</td>\n",
              "      <td>XiuxiuChang@einrot.com</td>\n",
              "    </tr>\n",
              "  </tbody>\n",
              "</table>\n",
              "</div>"
            ],
            "text/plain": [
              "     patient_id assigned_sex  ...       phone_number                           email\n",
              "276         277         male  ...  +1 (208) 264-9063         AlexCrawford@dayrep.com\n",
              "430         431         male  ...       701-662-1983       TimothyJCotton@dayrep.com\n",
              "118         119         male  ...       337-685-4885    AdibMutazzGhanem@fleckens.hu\n",
              "32           33       female  ...       562-985-4582       PhamThiBichMot@dayrep.com\n",
              "158         159         male  ...  +1 (918) 971-5864         ChibuzoOkoli@einrot.com\n",
              "353         354         male  ...       478-676-7058         OlePetersen@armyspy.com\n",
              "480         481         male  ...       210 326 5509  NasserMazinMansour@fleckens.hu\n",
              "435         436       female  ...  +1 (757) 736-7026          IvanaKasna@teleworm.us\n",
              "383         384         male  ...       208 657 2473     TorbenMMortensen@einrot.com\n",
              "7             8       female  ...       408 778 3236          XiuxiuChang@einrot.com\n",
              "\n",
              "[10 rows x 15 columns]"
            ]
          },
          "metadata": {
            "tags": []
          },
          "execution_count": 222
        }
      ]
    },
    {
      "cell_type": "code",
      "metadata": {
        "id": "cv4PnE2Qd_4S",
        "colab": {
          "base_uri": "https://localhost:8080/",
          "height": 386
        },
        "outputId": "c0f5b02e-94da-4d95-b60f-a0b75a1b7baa"
      },
      "source": [
        "patients_copy.info()"
      ],
      "execution_count": null,
      "outputs": [
        {
          "output_type": "stream",
          "text": [
            "<class 'pandas.core.frame.DataFrame'>\n",
            "RangeIndex: 503 entries, 0 to 502\n",
            "Data columns (total 15 columns):\n",
            " #   Column        Non-Null Count  Dtype  \n",
            "---  ------        --------------  -----  \n",
            " 0   patient_id    503 non-null    int64  \n",
            " 1   assigned_sex  503 non-null    object \n",
            " 2   given_name    503 non-null    object \n",
            " 3   surname       503 non-null    object \n",
            " 4   address       491 non-null    object \n",
            " 5   city          491 non-null    object \n",
            " 6   state         491 non-null    object \n",
            " 7   zip_code      491 non-null    object \n",
            " 8   country       491 non-null    object \n",
            " 9   birthdate     503 non-null    object \n",
            " 10  weight        503 non-null    float64\n",
            " 11  height        503 non-null    int64  \n",
            " 12  bmi           503 non-null    float64\n",
            " 13  phone_number  491 non-null    object \n",
            " 14  email         491 non-null    object \n",
            "dtypes: float64(2), int64(2), object(11)\n",
            "memory usage: 59.1+ KB\n"
          ],
          "name": "stdout"
        }
      ]
    },
    {
      "cell_type": "markdown",
      "metadata": {
        "id": "NING_aJmeIAB"
      },
      "source": [
        "**Define**\n",
        "\n",
        "The incorrect datatypes of assigned_sex and birthdate has been corrected."
      ]
    },
    {
      "cell_type": "markdown",
      "metadata": {
        "id": "L8WcYpo7eLE_"
      },
      "source": [
        "**Code**"
      ]
    },
    {
      "cell_type": "code",
      "metadata": {
        "id": "XcbTYNcVeGCN"
      },
      "source": [
        "patients_copy['assigned_sex']=patients_copy['assigned_sex'].astype('category')"
      ],
      "execution_count": null,
      "outputs": []
    },
    {
      "cell_type": "code",
      "metadata": {
        "id": "YrNng_6RePRU"
      },
      "source": [
        "patients_copy['birthdate']=pd.to_datetime(patients_copy['birthdate'])"
      ],
      "execution_count": null,
      "outputs": []
    },
    {
      "cell_type": "markdown",
      "metadata": {
        "id": "cXa8K7taeS0c"
      },
      "source": [
        "**Test**"
      ]
    },
    {
      "cell_type": "code",
      "metadata": {
        "id": "goHzcIxBeRX_",
        "colab": {
          "base_uri": "https://localhost:8080/",
          "height": 386
        },
        "outputId": "56032e8d-57c4-4cd5-f31a-3010aa5c66bc"
      },
      "source": [
        "patients_copy.info()"
      ],
      "execution_count": null,
      "outputs": [
        {
          "output_type": "stream",
          "text": [
            "<class 'pandas.core.frame.DataFrame'>\n",
            "RangeIndex: 503 entries, 0 to 502\n",
            "Data columns (total 15 columns):\n",
            " #   Column        Non-Null Count  Dtype         \n",
            "---  ------        --------------  -----         \n",
            " 0   patient_id    503 non-null    int64         \n",
            " 1   assigned_sex  503 non-null    category      \n",
            " 2   given_name    503 non-null    object        \n",
            " 3   surname       503 non-null    object        \n",
            " 4   address       491 non-null    object        \n",
            " 5   city          491 non-null    object        \n",
            " 6   state         491 non-null    object        \n",
            " 7   zip_code      491 non-null    object        \n",
            " 8   country       491 non-null    object        \n",
            " 9   birthdate     503 non-null    datetime64[ns]\n",
            " 10  weight        503 non-null    float64       \n",
            " 11  height        503 non-null    int64         \n",
            " 12  bmi           503 non-null    float64       \n",
            " 13  phone_number  491 non-null    object        \n",
            " 14  email         491 non-null    object        \n",
            "dtypes: category(1), datetime64[ns](1), float64(2), int64(2), object(9)\n",
            "memory usage: 55.7+ KB\n"
          ],
          "name": "stdout"
        }
      ]
    },
    {
      "cell_type": "markdown",
      "metadata": {
        "id": "RMq9LOyueYk8"
      },
      "source": [
        "**Define**\n",
        "\n",
        "Certain states which are in full form can be converted to shortforms by applying function."
      ]
    },
    {
      "cell_type": "markdown",
      "metadata": {
        "id": "e0pqr_U4edT6"
      },
      "source": [
        "**Code**"
      ]
    },
    {
      "cell_type": "code",
      "metadata": {
        "id": "d_KnafGTeWqx",
        "colab": {
          "base_uri": "https://localhost:8080/",
          "height": 941
        },
        "outputId": "a66243d1-89e0-41fe-c21f-c7b50dff3a23"
      },
      "source": [
        "patients_copy['state'].value_counts()"
      ],
      "execution_count": null,
      "outputs": [
        {
          "output_type": "execute_result",
          "data": {
            "text/plain": [
              "California    36\n",
              "TX            32\n",
              "New York      25\n",
              "CA            24\n",
              "NY            22\n",
              "MA            22\n",
              "PA            18\n",
              "GA            15\n",
              "Illinois      14\n",
              "OH            14\n",
              "Florida       13\n",
              "MI            13\n",
              "LA            13\n",
              "OK            13\n",
              "NJ            12\n",
              "VA            11\n",
              "IL            10\n",
              "WI            10\n",
              "MS            10\n",
              "TN             9\n",
              "MN             9\n",
              "IN             9\n",
              "AL             9\n",
              "FL             9\n",
              "WA             8\n",
              "KY             8\n",
              "NC             8\n",
              "MO             7\n",
              "NV             6\n",
              "KS             6\n",
              "ID             6\n",
              "SC             5\n",
              "IA             5\n",
              "CT             5\n",
              "ME             4\n",
              "Nebraska       4\n",
              "CO             4\n",
              "AZ             4\n",
              "AR             4\n",
              "RI             4\n",
              "ND             4\n",
              "WV             3\n",
              "MD             3\n",
              "OR             3\n",
              "SD             3\n",
              "DE             3\n",
              "VT             2\n",
              "NE             2\n",
              "DC             2\n",
              "MT             2\n",
              "NH             1\n",
              "WY             1\n",
              "NM             1\n",
              "AK             1\n",
              "Name: state, dtype: int64"
            ]
          },
          "metadata": {
            "tags": []
          },
          "execution_count": 227
        }
      ]
    },
    {
      "cell_type": "code",
      "metadata": {
        "id": "cGjKeOigeiuA"
      },
      "source": [
        "state_short={'California':'CA','New York':'NY','Illinois':'IL','Florida':'FL','Nebraska':'NE'}"
      ],
      "execution_count": null,
      "outputs": []
    },
    {
      "cell_type": "code",
      "metadata": {
        "id": "oNkt5NRielss"
      },
      "source": [
        "def state_abbv(patient):\n",
        "    if patient['state'] in state_short.keys():\n",
        "        abbv = state_short[patient['state']]\n",
        "        return abbv\n",
        "    else:\n",
        "        return patient['state']"
      ],
      "execution_count": null,
      "outputs": []
    },
    {
      "cell_type": "code",
      "metadata": {
        "id": "NcTDr1D7eoXW"
      },
      "source": [
        "patients_copy['state']=patients_copy.apply(state_abbv, axis=1)"
      ],
      "execution_count": null,
      "outputs": []
    },
    {
      "cell_type": "markdown",
      "metadata": {
        "id": "jcCzJ5z1er2B"
      },
      "source": [
        "**Test**"
      ]
    },
    {
      "cell_type": "code",
      "metadata": {
        "id": "BAw0B_gEeqfI",
        "colab": {
          "base_uri": "https://localhost:8080/",
          "height": 528
        },
        "outputId": "2fe7f90e-6b2b-49b3-ec67-9cb61b661cb7"
      },
      "source": [
        "patients_copy.sample(10)"
      ],
      "execution_count": null,
      "outputs": [
        {
          "output_type": "execute_result",
          "data": {
            "text/html": [
              "<div>\n",
              "<style scoped>\n",
              "    .dataframe tbody tr th:only-of-type {\n",
              "        vertical-align: middle;\n",
              "    }\n",
              "\n",
              "    .dataframe tbody tr th {\n",
              "        vertical-align: top;\n",
              "    }\n",
              "\n",
              "    .dataframe thead th {\n",
              "        text-align: right;\n",
              "    }\n",
              "</style>\n",
              "<table border=\"1\" class=\"dataframe\">\n",
              "  <thead>\n",
              "    <tr style=\"text-align: right;\">\n",
              "      <th></th>\n",
              "      <th>patient_id</th>\n",
              "      <th>assigned_sex</th>\n",
              "      <th>given_name</th>\n",
              "      <th>surname</th>\n",
              "      <th>address</th>\n",
              "      <th>city</th>\n",
              "      <th>state</th>\n",
              "      <th>zip_code</th>\n",
              "      <th>country</th>\n",
              "      <th>birthdate</th>\n",
              "      <th>weight</th>\n",
              "      <th>height</th>\n",
              "      <th>bmi</th>\n",
              "      <th>phone_number</th>\n",
              "      <th>email</th>\n",
              "    </tr>\n",
              "  </thead>\n",
              "  <tbody>\n",
              "    <tr>\n",
              "      <th>243</th>\n",
              "      <td>244</td>\n",
              "      <td>male</td>\n",
              "      <td>Mustafa</td>\n",
              "      <td>Adonay</td>\n",
              "      <td>1742 Tea Berry Lane</td>\n",
              "      <td>Superior</td>\n",
              "      <td>WI</td>\n",
              "      <td>54880</td>\n",
              "      <td>United States</td>\n",
              "      <td>1922-01-05</td>\n",
              "      <td>211.9</td>\n",
              "      <td>67</td>\n",
              "      <td>33.2</td>\n",
              "      <td>715-817-0134</td>\n",
              "      <td>MustafaAdonay@dayrep.com</td>\n",
              "    </tr>\n",
              "    <tr>\n",
              "      <th>66</th>\n",
              "      <td>67</td>\n",
              "      <td>male</td>\n",
              "      <td>Konstantyn</td>\n",
              "      <td>Kowalczyk</td>\n",
              "      <td>4707 Parkway Street</td>\n",
              "      <td>San Diego</td>\n",
              "      <td>CA</td>\n",
              "      <td>92103</td>\n",
              "      <td>United States</td>\n",
              "      <td>1938-03-02</td>\n",
              "      <td>194.3</td>\n",
              "      <td>67</td>\n",
              "      <td>30.4</td>\n",
              "      <td>760-287-8295</td>\n",
              "      <td>KonstantynKowalczyk@armyspy.com</td>\n",
              "    </tr>\n",
              "    <tr>\n",
              "      <th>158</th>\n",
              "      <td>159</td>\n",
              "      <td>male</td>\n",
              "      <td>Chibuzo</td>\n",
              "      <td>Okoli</td>\n",
              "      <td>4291 Patton Lane</td>\n",
              "      <td>Tulsa</td>\n",
              "      <td>OK</td>\n",
              "      <td>74136</td>\n",
              "      <td>United States</td>\n",
              "      <td>1983-06-14</td>\n",
              "      <td>142.8</td>\n",
              "      <td>73</td>\n",
              "      <td>18.8</td>\n",
              "      <td>+1 (918) 971-5864</td>\n",
              "      <td>ChibuzoOkoli@einrot.com</td>\n",
              "    </tr>\n",
              "    <tr>\n",
              "      <th>361</th>\n",
              "      <td>362</td>\n",
              "      <td>male</td>\n",
              "      <td>Hans Peter</td>\n",
              "      <td>Radislav</td>\n",
              "      <td>208 Birch  Street</td>\n",
              "      <td>El Paso</td>\n",
              "      <td>TX</td>\n",
              "      <td>79905</td>\n",
              "      <td>United States</td>\n",
              "      <td>1973-10-28</td>\n",
              "      <td>169.0</td>\n",
              "      <td>70</td>\n",
              "      <td>24.2</td>\n",
              "      <td>915-612-1462</td>\n",
              "      <td>HansPeterRadislav@gustr.com</td>\n",
              "    </tr>\n",
              "    <tr>\n",
              "      <th>398</th>\n",
              "      <td>399</td>\n",
              "      <td>male</td>\n",
              "      <td>Ilija</td>\n",
              "      <td>Horvat</td>\n",
              "      <td>4380 Riverside Drive</td>\n",
              "      <td>Cave Spring</td>\n",
              "      <td>GA</td>\n",
              "      <td>30124</td>\n",
              "      <td>United States</td>\n",
              "      <td>1941-01-21</td>\n",
              "      <td>193.8</td>\n",
              "      <td>72</td>\n",
              "      <td>26.3</td>\n",
              "      <td>+1 (706) 777-4981</td>\n",
              "      <td>IlijaHorvat@dayrep.com</td>\n",
              "    </tr>\n",
              "    <tr>\n",
              "      <th>254</th>\n",
              "      <td>255</td>\n",
              "      <td>male</td>\n",
              "      <td>Kang</td>\n",
              "      <td>Mai</td>\n",
              "      <td>1109 Beechwood Drive</td>\n",
              "      <td>Pittsburgh</td>\n",
              "      <td>PA</td>\n",
              "      <td>15205</td>\n",
              "      <td>United States</td>\n",
              "      <td>1986-09-16</td>\n",
              "      <td>200.4</td>\n",
              "      <td>70</td>\n",
              "      <td>28.8</td>\n",
              "      <td>412-274-6756</td>\n",
              "      <td>KangMai@jourrapide.com</td>\n",
              "    </tr>\n",
              "    <tr>\n",
              "      <th>232</th>\n",
              "      <td>233</td>\n",
              "      <td>female</td>\n",
              "      <td>Kyouko</td>\n",
              "      <td>Ono</td>\n",
              "      <td>435 Pike Street</td>\n",
              "      <td>San Diego</td>\n",
              "      <td>CA</td>\n",
              "      <td>92123</td>\n",
              "      <td>United States</td>\n",
              "      <td>1940-11-19</td>\n",
              "      <td>126.9</td>\n",
              "      <td>59</td>\n",
              "      <td>25.6</td>\n",
              "      <td>858 587 9945</td>\n",
              "      <td>KyoukoOno@superrito.com</td>\n",
              "    </tr>\n",
              "    <tr>\n",
              "      <th>285</th>\n",
              "      <td>286</td>\n",
              "      <td>male</td>\n",
              "      <td>Ayden</td>\n",
              "      <td>Allan</td>\n",
              "      <td>1384 Dovetail Estates</td>\n",
              "      <td>Oklahoma City</td>\n",
              "      <td>OK</td>\n",
              "      <td>73102</td>\n",
              "      <td>United States</td>\n",
              "      <td>1976-03-11</td>\n",
              "      <td>160.8</td>\n",
              "      <td>72</td>\n",
              "      <td>21.8</td>\n",
              "      <td>580-991-9678</td>\n",
              "      <td>AydenAllan@rhyta.com</td>\n",
              "    </tr>\n",
              "    <tr>\n",
              "      <th>247</th>\n",
              "      <td>248</td>\n",
              "      <td>male</td>\n",
              "      <td>Tuukka</td>\n",
              "      <td>Leppäluoto</td>\n",
              "      <td>1886 Bicetown Road</td>\n",
              "      <td>New York</td>\n",
              "      <td>NY</td>\n",
              "      <td>10011</td>\n",
              "      <td>United States</td>\n",
              "      <td>1978-03-07</td>\n",
              "      <td>211.0</td>\n",
              "      <td>73</td>\n",
              "      <td>27.8</td>\n",
              "      <td>917-408-8855</td>\n",
              "      <td>TuukkaLeppaluoto@teleworm.us</td>\n",
              "    </tr>\n",
              "    <tr>\n",
              "      <th>354</th>\n",
              "      <td>355</td>\n",
              "      <td>female</td>\n",
              "      <td>Vivian</td>\n",
              "      <td>House</td>\n",
              "      <td>4932 Goldleaf Lane</td>\n",
              "      <td>Newark</td>\n",
              "      <td>NJ</td>\n",
              "      <td>07102</td>\n",
              "      <td>United States</td>\n",
              "      <td>1936-08-13</td>\n",
              "      <td>130.2</td>\n",
              "      <td>62</td>\n",
              "      <td>23.8</td>\n",
              "      <td>201-586-2848</td>\n",
              "      <td>VivianRHouse@dayrep.com</td>\n",
              "    </tr>\n",
              "  </tbody>\n",
              "</table>\n",
              "</div>"
            ],
            "text/plain": [
              "     patient_id  ...                            email\n",
              "243         244  ...         MustafaAdonay@dayrep.com\n",
              "66           67  ...  KonstantynKowalczyk@armyspy.com\n",
              "158         159  ...          ChibuzoOkoli@einrot.com\n",
              "361         362  ...      HansPeterRadislav@gustr.com\n",
              "398         399  ...           IlijaHorvat@dayrep.com\n",
              "254         255  ...           KangMai@jourrapide.com\n",
              "232         233  ...          KyoukoOno@superrito.com\n",
              "285         286  ...             AydenAllan@rhyta.com\n",
              "247         248  ...     TuukkaLeppaluoto@teleworm.us\n",
              "354         355  ...          VivianRHouse@dayrep.com\n",
              "\n",
              "[10 rows x 15 columns]"
            ]
          },
          "metadata": {
            "tags": []
          },
          "execution_count": 231
        }
      ]
    },
    {
      "cell_type": "code",
      "metadata": {
        "id": "WLTtssEyevmd",
        "colab": {
          "base_uri": "https://localhost:8080/",
          "height": 284
        },
        "outputId": "a078464d-0dbf-46c0-e6cb-08bd5828eaed"
      },
      "source": [
        "patients_copy.describe()"
      ],
      "execution_count": null,
      "outputs": [
        {
          "output_type": "execute_result",
          "data": {
            "text/html": [
              "<div>\n",
              "<style scoped>\n",
              "    .dataframe tbody tr th:only-of-type {\n",
              "        vertical-align: middle;\n",
              "    }\n",
              "\n",
              "    .dataframe tbody tr th {\n",
              "        vertical-align: top;\n",
              "    }\n",
              "\n",
              "    .dataframe thead th {\n",
              "        text-align: right;\n",
              "    }\n",
              "</style>\n",
              "<table border=\"1\" class=\"dataframe\">\n",
              "  <thead>\n",
              "    <tr style=\"text-align: right;\">\n",
              "      <th></th>\n",
              "      <th>patient_id</th>\n",
              "      <th>weight</th>\n",
              "      <th>height</th>\n",
              "      <th>bmi</th>\n",
              "    </tr>\n",
              "  </thead>\n",
              "  <tbody>\n",
              "    <tr>\n",
              "      <th>count</th>\n",
              "      <td>503.000000</td>\n",
              "      <td>503.000000</td>\n",
              "      <td>503.000000</td>\n",
              "      <td>503.000000</td>\n",
              "    </tr>\n",
              "    <tr>\n",
              "      <th>mean</th>\n",
              "      <td>252.000000</td>\n",
              "      <td>173.434990</td>\n",
              "      <td>66.634195</td>\n",
              "      <td>27.483897</td>\n",
              "    </tr>\n",
              "    <tr>\n",
              "      <th>std</th>\n",
              "      <td>145.347859</td>\n",
              "      <td>33.916741</td>\n",
              "      <td>4.411297</td>\n",
              "      <td>5.276438</td>\n",
              "    </tr>\n",
              "    <tr>\n",
              "      <th>min</th>\n",
              "      <td>1.000000</td>\n",
              "      <td>48.800000</td>\n",
              "      <td>27.000000</td>\n",
              "      <td>17.100000</td>\n",
              "    </tr>\n",
              "    <tr>\n",
              "      <th>25%</th>\n",
              "      <td>126.500000</td>\n",
              "      <td>149.300000</td>\n",
              "      <td>63.000000</td>\n",
              "      <td>23.300000</td>\n",
              "    </tr>\n",
              "    <tr>\n",
              "      <th>50%</th>\n",
              "      <td>252.000000</td>\n",
              "      <td>175.300000</td>\n",
              "      <td>67.000000</td>\n",
              "      <td>27.200000</td>\n",
              "    </tr>\n",
              "    <tr>\n",
              "      <th>75%</th>\n",
              "      <td>377.500000</td>\n",
              "      <td>199.500000</td>\n",
              "      <td>70.000000</td>\n",
              "      <td>31.750000</td>\n",
              "    </tr>\n",
              "    <tr>\n",
              "      <th>max</th>\n",
              "      <td>503.000000</td>\n",
              "      <td>255.900000</td>\n",
              "      <td>79.000000</td>\n",
              "      <td>37.700000</td>\n",
              "    </tr>\n",
              "  </tbody>\n",
              "</table>\n",
              "</div>"
            ],
            "text/plain": [
              "       patient_id      weight      height         bmi\n",
              "count  503.000000  503.000000  503.000000  503.000000\n",
              "mean   252.000000  173.434990   66.634195   27.483897\n",
              "std    145.347859   33.916741    4.411297    5.276438\n",
              "min      1.000000   48.800000   27.000000   17.100000\n",
              "25%    126.500000  149.300000   63.000000   23.300000\n",
              "50%    252.000000  175.300000   67.000000   27.200000\n",
              "75%    377.500000  199.500000   70.000000   31.750000\n",
              "max    503.000000  255.900000   79.000000   37.700000"
            ]
          },
          "metadata": {
            "tags": []
          },
          "execution_count": 232
        }
      ]
    },
    {
      "cell_type": "markdown",
      "metadata": {
        "id": "mdJ5eFXjezrs"
      },
      "source": [
        "**Define**\n",
        "\n",
        "Correcting the outliers of weight by using formula and loc function."
      ]
    },
    {
      "cell_type": "markdown",
      "metadata": {
        "id": "t1-gYCP1e3v2"
      },
      "source": [
        "**Code**"
      ]
    },
    {
      "cell_type": "code",
      "metadata": {
        "id": "G-8SFQeMex1Q",
        "colab": {
          "base_uri": "https://localhost:8080/",
          "height": 118
        },
        "outputId": "d2f89c47-18f7-4f4c-b140-fadb4c7d21f2"
      },
      "source": [
        "patients_copy['weight'].sort_values().head()"
      ],
      "execution_count": null,
      "outputs": [
        {
          "output_type": "execute_result",
          "data": {
            "text/plain": [
              "210     48.8\n",
              "459    102.1\n",
              "335    102.7\n",
              "74     103.2\n",
              "317    106.0\n",
              "Name: weight, dtype: float64"
            ]
          },
          "metadata": {
            "tags": []
          },
          "execution_count": 233
        }
      ]
    },
    {
      "cell_type": "code",
      "metadata": {
        "id": "DW7V4vqwe8am",
        "colab": {
          "base_uri": "https://localhost:8080/",
          "height": 77
        },
        "outputId": "c79cfd73-d1eb-4b9a-fc3b-9c179bfcd128"
      },
      "source": [
        "patients_copy[patients_copy.weight == 48.8]"
      ],
      "execution_count": null,
      "outputs": [
        {
          "output_type": "execute_result",
          "data": {
            "text/html": [
              "<div>\n",
              "<style scoped>\n",
              "    .dataframe tbody tr th:only-of-type {\n",
              "        vertical-align: middle;\n",
              "    }\n",
              "\n",
              "    .dataframe tbody tr th {\n",
              "        vertical-align: top;\n",
              "    }\n",
              "\n",
              "    .dataframe thead th {\n",
              "        text-align: right;\n",
              "    }\n",
              "</style>\n",
              "<table border=\"1\" class=\"dataframe\">\n",
              "  <thead>\n",
              "    <tr style=\"text-align: right;\">\n",
              "      <th></th>\n",
              "      <th>patient_id</th>\n",
              "      <th>assigned_sex</th>\n",
              "      <th>given_name</th>\n",
              "      <th>surname</th>\n",
              "      <th>address</th>\n",
              "      <th>city</th>\n",
              "      <th>state</th>\n",
              "      <th>zip_code</th>\n",
              "      <th>country</th>\n",
              "      <th>birthdate</th>\n",
              "      <th>weight</th>\n",
              "      <th>height</th>\n",
              "      <th>bmi</th>\n",
              "      <th>phone_number</th>\n",
              "      <th>email</th>\n",
              "    </tr>\n",
              "  </thead>\n",
              "  <tbody>\n",
              "    <tr>\n",
              "      <th>210</th>\n",
              "      <td>211</td>\n",
              "      <td>female</td>\n",
              "      <td>Camilla</td>\n",
              "      <td>Zaitseva</td>\n",
              "      <td>4689 Briarhill Lane</td>\n",
              "      <td>Wooster</td>\n",
              "      <td>OH</td>\n",
              "      <td>44691</td>\n",
              "      <td>United States</td>\n",
              "      <td>1938-11-26</td>\n",
              "      <td>48.8</td>\n",
              "      <td>63</td>\n",
              "      <td>19.1</td>\n",
              "      <td>330-202-2145</td>\n",
              "      <td>CamillaZaitseva@superrito.com</td>\n",
              "    </tr>\n",
              "  </tbody>\n",
              "</table>\n",
              "</div>"
            ],
            "text/plain": [
              "     patient_id assigned_sex  ...  phone_number                          email\n",
              "210         211       female  ...  330-202-2145  CamillaZaitseva@superrito.com\n",
              "\n",
              "[1 rows x 15 columns]"
            ]
          },
          "metadata": {
            "tags": []
          },
          "execution_count": 234
        }
      ]
    },
    {
      "cell_type": "code",
      "metadata": {
        "id": "1BjamKKle-ta"
      },
      "source": [
        "weight_pounds=patients_copy[patients_copy.patient_id==211].weight*2.20462"
      ],
      "execution_count": null,
      "outputs": []
    },
    {
      "cell_type": "code",
      "metadata": {
        "id": "vwsBU6dlfBNu",
        "colab": {
          "base_uri": "https://localhost:8080/",
          "height": 34
        },
        "outputId": "e270384b-023c-47dd-8428-c56435de9dc5"
      },
      "source": [
        "weight_pounds.values"
      ],
      "execution_count": null,
      "outputs": [
        {
          "output_type": "execute_result",
          "data": {
            "text/plain": [
              "array([107.585456])"
            ]
          },
          "metadata": {
            "tags": []
          },
          "execution_count": 236
        }
      ]
    },
    {
      "cell_type": "code",
      "metadata": {
        "id": "n_Ql-_UrfDCe"
      },
      "source": [
        "patients_copy.loc[210, 'weight'] = weight_pounds.values"
      ],
      "execution_count": null,
      "outputs": []
    },
    {
      "cell_type": "code",
      "metadata": {
        "id": "OcTh1moxfFdN",
        "colab": {
          "base_uri": "https://localhost:8080/",
          "height": 77
        },
        "outputId": "c25c98d4-d738-446a-f12b-a2b0aabf8427"
      },
      "source": [
        "patients_copy[patients_copy.patient_id==211]"
      ],
      "execution_count": null,
      "outputs": [
        {
          "output_type": "execute_result",
          "data": {
            "text/html": [
              "<div>\n",
              "<style scoped>\n",
              "    .dataframe tbody tr th:only-of-type {\n",
              "        vertical-align: middle;\n",
              "    }\n",
              "\n",
              "    .dataframe tbody tr th {\n",
              "        vertical-align: top;\n",
              "    }\n",
              "\n",
              "    .dataframe thead th {\n",
              "        text-align: right;\n",
              "    }\n",
              "</style>\n",
              "<table border=\"1\" class=\"dataframe\">\n",
              "  <thead>\n",
              "    <tr style=\"text-align: right;\">\n",
              "      <th></th>\n",
              "      <th>patient_id</th>\n",
              "      <th>assigned_sex</th>\n",
              "      <th>given_name</th>\n",
              "      <th>surname</th>\n",
              "      <th>address</th>\n",
              "      <th>city</th>\n",
              "      <th>state</th>\n",
              "      <th>zip_code</th>\n",
              "      <th>country</th>\n",
              "      <th>birthdate</th>\n",
              "      <th>weight</th>\n",
              "      <th>height</th>\n",
              "      <th>bmi</th>\n",
              "      <th>phone_number</th>\n",
              "      <th>email</th>\n",
              "    </tr>\n",
              "  </thead>\n",
              "  <tbody>\n",
              "    <tr>\n",
              "      <th>210</th>\n",
              "      <td>211</td>\n",
              "      <td>female</td>\n",
              "      <td>Camilla</td>\n",
              "      <td>Zaitseva</td>\n",
              "      <td>4689 Briarhill Lane</td>\n",
              "      <td>Wooster</td>\n",
              "      <td>OH</td>\n",
              "      <td>44691</td>\n",
              "      <td>United States</td>\n",
              "      <td>1938-11-26</td>\n",
              "      <td>107.585456</td>\n",
              "      <td>63</td>\n",
              "      <td>19.1</td>\n",
              "      <td>330-202-2145</td>\n",
              "      <td>CamillaZaitseva@superrito.com</td>\n",
              "    </tr>\n",
              "  </tbody>\n",
              "</table>\n",
              "</div>"
            ],
            "text/plain": [
              "     patient_id assigned_sex  ...  phone_number                          email\n",
              "210         211       female  ...  330-202-2145  CamillaZaitseva@superrito.com\n",
              "\n",
              "[1 rows x 15 columns]"
            ]
          },
          "metadata": {
            "tags": []
          },
          "execution_count": 238
        }
      ]
    },
    {
      "cell_type": "markdown",
      "metadata": {
        "id": "QN_BTGHpfJG5"
      },
      "source": [
        "**Test**"
      ]
    },
    {
      "cell_type": "code",
      "metadata": {
        "id": "UpP74DFdfHvP",
        "colab": {
          "base_uri": "https://localhost:8080/",
          "height": 284
        },
        "outputId": "f055cb2e-1a6f-4e0e-f6ee-0301144485da"
      },
      "source": [
        "patients_copy.describe()"
      ],
      "execution_count": null,
      "outputs": [
        {
          "output_type": "execute_result",
          "data": {
            "text/html": [
              "<div>\n",
              "<style scoped>\n",
              "    .dataframe tbody tr th:only-of-type {\n",
              "        vertical-align: middle;\n",
              "    }\n",
              "\n",
              "    .dataframe tbody tr th {\n",
              "        vertical-align: top;\n",
              "    }\n",
              "\n",
              "    .dataframe thead th {\n",
              "        text-align: right;\n",
              "    }\n",
              "</style>\n",
              "<table border=\"1\" class=\"dataframe\">\n",
              "  <thead>\n",
              "    <tr style=\"text-align: right;\">\n",
              "      <th></th>\n",
              "      <th>patient_id</th>\n",
              "      <th>weight</th>\n",
              "      <th>height</th>\n",
              "      <th>bmi</th>\n",
              "    </tr>\n",
              "  </thead>\n",
              "  <tbody>\n",
              "    <tr>\n",
              "      <th>count</th>\n",
              "      <td>503.000000</td>\n",
              "      <td>503.00000</td>\n",
              "      <td>503.000000</td>\n",
              "      <td>503.000000</td>\n",
              "    </tr>\n",
              "    <tr>\n",
              "      <th>mean</th>\n",
              "      <td>252.000000</td>\n",
              "      <td>173.55186</td>\n",
              "      <td>66.634195</td>\n",
              "      <td>27.483897</td>\n",
              "    </tr>\n",
              "    <tr>\n",
              "      <th>std</th>\n",
              "      <td>145.347859</td>\n",
              "      <td>33.58609</td>\n",
              "      <td>4.411297</td>\n",
              "      <td>5.276438</td>\n",
              "    </tr>\n",
              "    <tr>\n",
              "      <th>min</th>\n",
              "      <td>1.000000</td>\n",
              "      <td>102.10000</td>\n",
              "      <td>27.000000</td>\n",
              "      <td>17.100000</td>\n",
              "    </tr>\n",
              "    <tr>\n",
              "      <th>25%</th>\n",
              "      <td>126.500000</td>\n",
              "      <td>149.30000</td>\n",
              "      <td>63.000000</td>\n",
              "      <td>23.300000</td>\n",
              "    </tr>\n",
              "    <tr>\n",
              "      <th>50%</th>\n",
              "      <td>252.000000</td>\n",
              "      <td>175.30000</td>\n",
              "      <td>67.000000</td>\n",
              "      <td>27.200000</td>\n",
              "    </tr>\n",
              "    <tr>\n",
              "      <th>75%</th>\n",
              "      <td>377.500000</td>\n",
              "      <td>199.50000</td>\n",
              "      <td>70.000000</td>\n",
              "      <td>31.750000</td>\n",
              "    </tr>\n",
              "    <tr>\n",
              "      <th>max</th>\n",
              "      <td>503.000000</td>\n",
              "      <td>255.90000</td>\n",
              "      <td>79.000000</td>\n",
              "      <td>37.700000</td>\n",
              "    </tr>\n",
              "  </tbody>\n",
              "</table>\n",
              "</div>"
            ],
            "text/plain": [
              "       patient_id     weight      height         bmi\n",
              "count  503.000000  503.00000  503.000000  503.000000\n",
              "mean   252.000000  173.55186   66.634195   27.483897\n",
              "std    145.347859   33.58609    4.411297    5.276438\n",
              "min      1.000000  102.10000   27.000000   17.100000\n",
              "25%    126.500000  149.30000   63.000000   23.300000\n",
              "50%    252.000000  175.30000   67.000000   27.200000\n",
              "75%    377.500000  199.50000   70.000000   31.750000\n",
              "max    503.000000  255.90000   79.000000   37.700000"
            ]
          },
          "metadata": {
            "tags": []
          },
          "execution_count": 239
        }
      ]
    },
    {
      "cell_type": "markdown",
      "metadata": {
        "id": "NXzU4XbMfTlm"
      },
      "source": [
        "**Define**\n",
        "\n",
        "Replacing the outlier of height by replace function."
      ]
    },
    {
      "cell_type": "markdown",
      "metadata": {
        "id": "6rZWdcIafWFz"
      },
      "source": [
        "**Code**"
      ]
    },
    {
      "cell_type": "code",
      "metadata": {
        "id": "LTtmWULmfM2h"
      },
      "source": [
        "height_inches=patients_copy['height'].replace(27,72)"
      ],
      "execution_count": null,
      "outputs": []
    },
    {
      "cell_type": "code",
      "metadata": {
        "id": "84vUndz9faTM",
        "colab": {
          "base_uri": "https://localhost:8080/",
          "height": 218
        },
        "outputId": "28b482a2-de2c-447f-a572-565fd6a3b8ae"
      },
      "source": [
        "height_inches"
      ],
      "execution_count": null,
      "outputs": [
        {
          "output_type": "execute_result",
          "data": {
            "text/plain": [
              "0      66\n",
              "1      66\n",
              "2      71\n",
              "3      70\n",
              "4      72\n",
              "       ..\n",
              "498    72\n",
              "499    70\n",
              "500    67\n",
              "501    67\n",
              "502    71\n",
              "Name: height, Length: 503, dtype: int64"
            ]
          },
          "metadata": {
            "tags": []
          },
          "execution_count": 241
        }
      ]
    },
    {
      "cell_type": "code",
      "metadata": {
        "id": "Q4Ah2-g-fchE"
      },
      "source": [
        "patients_copy.loc[:,'height']=height_inches.values"
      ],
      "execution_count": null,
      "outputs": []
    },
    {
      "cell_type": "markdown",
      "metadata": {
        "id": "EaK7C6Yafg_T"
      },
      "source": [
        "**Test**"
      ]
    },
    {
      "cell_type": "code",
      "metadata": {
        "id": "flCZ_pYhffxJ",
        "colab": {
          "base_uri": "https://localhost:8080/",
          "height": 284
        },
        "outputId": "ce3b821d-becd-4cb1-d742-2e062bd934ee"
      },
      "source": [
        "patients_copy.describe()"
      ],
      "execution_count": null,
      "outputs": [
        {
          "output_type": "execute_result",
          "data": {
            "text/html": [
              "<div>\n",
              "<style scoped>\n",
              "    .dataframe tbody tr th:only-of-type {\n",
              "        vertical-align: middle;\n",
              "    }\n",
              "\n",
              "    .dataframe tbody tr th {\n",
              "        vertical-align: top;\n",
              "    }\n",
              "\n",
              "    .dataframe thead th {\n",
              "        text-align: right;\n",
              "    }\n",
              "</style>\n",
              "<table border=\"1\" class=\"dataframe\">\n",
              "  <thead>\n",
              "    <tr style=\"text-align: right;\">\n",
              "      <th></th>\n",
              "      <th>patient_id</th>\n",
              "      <th>weight</th>\n",
              "      <th>height</th>\n",
              "      <th>bmi</th>\n",
              "    </tr>\n",
              "  </thead>\n",
              "  <tbody>\n",
              "    <tr>\n",
              "      <th>count</th>\n",
              "      <td>503.000000</td>\n",
              "      <td>503.00000</td>\n",
              "      <td>503.000000</td>\n",
              "      <td>503.000000</td>\n",
              "    </tr>\n",
              "    <tr>\n",
              "      <th>mean</th>\n",
              "      <td>252.000000</td>\n",
              "      <td>173.55186</td>\n",
              "      <td>66.723658</td>\n",
              "      <td>27.483897</td>\n",
              "    </tr>\n",
              "    <tr>\n",
              "      <th>std</th>\n",
              "      <td>145.347859</td>\n",
              "      <td>33.58609</td>\n",
              "      <td>4.047179</td>\n",
              "      <td>5.276438</td>\n",
              "    </tr>\n",
              "    <tr>\n",
              "      <th>min</th>\n",
              "      <td>1.000000</td>\n",
              "      <td>102.10000</td>\n",
              "      <td>59.000000</td>\n",
              "      <td>17.100000</td>\n",
              "    </tr>\n",
              "    <tr>\n",
              "      <th>25%</th>\n",
              "      <td>126.500000</td>\n",
              "      <td>149.30000</td>\n",
              "      <td>63.000000</td>\n",
              "      <td>23.300000</td>\n",
              "    </tr>\n",
              "    <tr>\n",
              "      <th>50%</th>\n",
              "      <td>252.000000</td>\n",
              "      <td>175.30000</td>\n",
              "      <td>67.000000</td>\n",
              "      <td>27.200000</td>\n",
              "    </tr>\n",
              "    <tr>\n",
              "      <th>75%</th>\n",
              "      <td>377.500000</td>\n",
              "      <td>199.50000</td>\n",
              "      <td>70.000000</td>\n",
              "      <td>31.750000</td>\n",
              "    </tr>\n",
              "    <tr>\n",
              "      <th>max</th>\n",
              "      <td>503.000000</td>\n",
              "      <td>255.90000</td>\n",
              "      <td>79.000000</td>\n",
              "      <td>37.700000</td>\n",
              "    </tr>\n",
              "  </tbody>\n",
              "</table>\n",
              "</div>"
            ],
            "text/plain": [
              "       patient_id     weight      height         bmi\n",
              "count  503.000000  503.00000  503.000000  503.000000\n",
              "mean   252.000000  173.55186   66.723658   27.483897\n",
              "std    145.347859   33.58609    4.047179    5.276438\n",
              "min      1.000000  102.10000   59.000000   17.100000\n",
              "25%    126.500000  149.30000   63.000000   23.300000\n",
              "50%    252.000000  175.30000   67.000000   27.200000\n",
              "75%    377.500000  199.50000   70.000000   31.750000\n",
              "max    503.000000  255.90000   79.000000   37.700000"
            ]
          },
          "metadata": {
            "tags": []
          },
          "execution_count": 243
        }
      ]
    },
    {
      "cell_type": "markdown",
      "metadata": {
        "id": "kz-GXXY5foLD"
      },
      "source": [
        "**Define**\n",
        "\n",
        "The bmi will be affected as the weight and height has been corrected."
      ]
    },
    {
      "cell_type": "markdown",
      "metadata": {
        "id": "44hSwmA4frHB"
      },
      "source": [
        "**Code**"
      ]
    },
    {
      "cell_type": "code",
      "metadata": {
        "id": "1ntgJTrZfk6m"
      },
      "source": [
        "patients_copy['bmi']=703*patients_copy['weight']/(patients_copy['height']*patients_copy['height'])"
      ],
      "execution_count": null,
      "outputs": []
    },
    {
      "cell_type": "code",
      "metadata": {
        "id": "Y16n7kkjfzQO"
      },
      "source": [
        "patients_copy['bmi']=patients_copy['bmi'].round(1)"
      ],
      "execution_count": null,
      "outputs": []
    },
    {
      "cell_type": "markdown",
      "metadata": {
        "id": "XoMj9YZXf3Lo"
      },
      "source": [
        "**Test**"
      ]
    },
    {
      "cell_type": "code",
      "metadata": {
        "id": "8VGW5dv3f2ad",
        "colab": {
          "base_uri": "https://localhost:8080/",
          "height": 284
        },
        "outputId": "6df1967a-3464-414f-8fc7-1d196d91eb40"
      },
      "source": [
        "patients_copy.describe()"
      ],
      "execution_count": null,
      "outputs": [
        {
          "output_type": "execute_result",
          "data": {
            "text/html": [
              "<div>\n",
              "<style scoped>\n",
              "    .dataframe tbody tr th:only-of-type {\n",
              "        vertical-align: middle;\n",
              "    }\n",
              "\n",
              "    .dataframe tbody tr th {\n",
              "        vertical-align: top;\n",
              "    }\n",
              "\n",
              "    .dataframe thead th {\n",
              "        text-align: right;\n",
              "    }\n",
              "</style>\n",
              "<table border=\"1\" class=\"dataframe\">\n",
              "  <thead>\n",
              "    <tr style=\"text-align: right;\">\n",
              "      <th></th>\n",
              "      <th>patient_id</th>\n",
              "      <th>weight</th>\n",
              "      <th>height</th>\n",
              "      <th>bmi</th>\n",
              "    </tr>\n",
              "  </thead>\n",
              "  <tbody>\n",
              "    <tr>\n",
              "      <th>count</th>\n",
              "      <td>503.000000</td>\n",
              "      <td>503.00000</td>\n",
              "      <td>503.000000</td>\n",
              "      <td>503.000000</td>\n",
              "    </tr>\n",
              "    <tr>\n",
              "      <th>mean</th>\n",
              "      <td>252.000000</td>\n",
              "      <td>173.55186</td>\n",
              "      <td>66.723658</td>\n",
              "      <td>27.483897</td>\n",
              "    </tr>\n",
              "    <tr>\n",
              "      <th>std</th>\n",
              "      <td>145.347859</td>\n",
              "      <td>33.58609</td>\n",
              "      <td>4.047179</td>\n",
              "      <td>5.276438</td>\n",
              "    </tr>\n",
              "    <tr>\n",
              "      <th>min</th>\n",
              "      <td>1.000000</td>\n",
              "      <td>102.10000</td>\n",
              "      <td>59.000000</td>\n",
              "      <td>17.100000</td>\n",
              "    </tr>\n",
              "    <tr>\n",
              "      <th>25%</th>\n",
              "      <td>126.500000</td>\n",
              "      <td>149.30000</td>\n",
              "      <td>63.000000</td>\n",
              "      <td>23.300000</td>\n",
              "    </tr>\n",
              "    <tr>\n",
              "      <th>50%</th>\n",
              "      <td>252.000000</td>\n",
              "      <td>175.30000</td>\n",
              "      <td>67.000000</td>\n",
              "      <td>27.200000</td>\n",
              "    </tr>\n",
              "    <tr>\n",
              "      <th>75%</th>\n",
              "      <td>377.500000</td>\n",
              "      <td>199.50000</td>\n",
              "      <td>70.000000</td>\n",
              "      <td>31.750000</td>\n",
              "    </tr>\n",
              "    <tr>\n",
              "      <th>max</th>\n",
              "      <td>503.000000</td>\n",
              "      <td>255.90000</td>\n",
              "      <td>79.000000</td>\n",
              "      <td>37.700000</td>\n",
              "    </tr>\n",
              "  </tbody>\n",
              "</table>\n",
              "</div>"
            ],
            "text/plain": [
              "       patient_id     weight      height         bmi\n",
              "count  503.000000  503.00000  503.000000  503.000000\n",
              "mean   252.000000  173.55186   66.723658   27.483897\n",
              "std    145.347859   33.58609    4.047179    5.276438\n",
              "min      1.000000  102.10000   59.000000   17.100000\n",
              "25%    126.500000  149.30000   63.000000   23.300000\n",
              "50%    252.000000  175.30000   67.000000   27.200000\n",
              "75%    377.500000  199.50000   70.000000   31.750000\n",
              "max    503.000000  255.90000   79.000000   37.700000"
            ]
          },
          "metadata": {
            "tags": []
          },
          "execution_count": 246
        }
      ]
    },
    {
      "cell_type": "markdown",
      "metadata": {
        "id": "MQkJ_14ff9XP"
      },
      "source": [
        "**Define**\n",
        "\n",
        "Reducing some memory usage."
      ]
    },
    {
      "cell_type": "markdown",
      "metadata": {
        "id": "3zfqmOPqgAqt"
      },
      "source": [
        "**Code**"
      ]
    },
    {
      "cell_type": "code",
      "metadata": {
        "id": "TSKLS823f7ta"
      },
      "source": [
        "patients_copy['patient_id']=patients_copy['patient_id'].astype('int32')"
      ],
      "execution_count": null,
      "outputs": []
    },
    {
      "cell_type": "code",
      "metadata": {
        "id": "8GTIDdNBgFUO"
      },
      "source": [
        "patients_copy['country']=patients_copy['country'].astype('category')"
      ],
      "execution_count": null,
      "outputs": []
    },
    {
      "cell_type": "code",
      "metadata": {
        "id": "cBcbd211gHXV"
      },
      "source": [
        "patients_copy['height']=patients_copy['height'].astype('int32')"
      ],
      "execution_count": null,
      "outputs": []
    },
    {
      "cell_type": "markdown",
      "metadata": {
        "id": "Gr7dRPZigNqE"
      },
      "source": [
        "**Test**"
      ]
    },
    {
      "cell_type": "code",
      "metadata": {
        "id": "DeRT3wkegMph",
        "colab": {
          "base_uri": "https://localhost:8080/",
          "height": 386
        },
        "outputId": "3cba5254-8948-4ced-c569-675671a5f717"
      },
      "source": [
        "patients_copy.info()"
      ],
      "execution_count": null,
      "outputs": [
        {
          "output_type": "stream",
          "text": [
            "<class 'pandas.core.frame.DataFrame'>\n",
            "RangeIndex: 503 entries, 0 to 502\n",
            "Data columns (total 15 columns):\n",
            " #   Column        Non-Null Count  Dtype         \n",
            "---  ------        --------------  -----         \n",
            " 0   patient_id    503 non-null    int32         \n",
            " 1   assigned_sex  503 non-null    category      \n",
            " 2   given_name    503 non-null    object        \n",
            " 3   surname       503 non-null    object        \n",
            " 4   address       491 non-null    object        \n",
            " 5   city          491 non-null    object        \n",
            " 6   state         491 non-null    object        \n",
            " 7   zip_code      491 non-null    object        \n",
            " 8   country       491 non-null    category      \n",
            " 9   birthdate     503 non-null    datetime64[ns]\n",
            " 10  weight        503 non-null    float64       \n",
            " 11  height        503 non-null    int32         \n",
            " 12  bmi           503 non-null    float64       \n",
            " 13  phone_number  491 non-null    object        \n",
            " 14  email         491 non-null    object        \n",
            "dtypes: category(2), datetime64[ns](1), float64(2), int32(2), object(8)\n",
            "memory usage: 48.4+ KB\n"
          ],
          "name": "stdout"
        }
      ]
    },
    {
      "cell_type": "code",
      "metadata": {
        "id": "FIphbM6hgSdB",
        "colab": {
          "base_uri": "https://localhost:8080/",
          "height": 195
        },
        "outputId": "99629431-851d-45c2-ca62-840ea84c9902"
      },
      "source": [
        "treatment_copy.sample(5)"
      ],
      "execution_count": null,
      "outputs": [
        {
          "output_type": "execute_result",
          "data": {
            "text/html": [
              "<div>\n",
              "<style scoped>\n",
              "    .dataframe tbody tr th:only-of-type {\n",
              "        vertical-align: middle;\n",
              "    }\n",
              "\n",
              "    .dataframe tbody tr th {\n",
              "        vertical-align: top;\n",
              "    }\n",
              "\n",
              "    .dataframe thead th {\n",
              "        text-align: right;\n",
              "    }\n",
              "</style>\n",
              "<table border=\"1\" class=\"dataframe\">\n",
              "  <thead>\n",
              "    <tr style=\"text-align: right;\">\n",
              "      <th></th>\n",
              "      <th>given_name</th>\n",
              "      <th>surname</th>\n",
              "      <th>hba1c_start</th>\n",
              "      <th>hba1c_end</th>\n",
              "      <th>hba1c_change</th>\n",
              "      <th>treatment</th>\n",
              "      <th>start</th>\n",
              "      <th>end</th>\n",
              "      <th>adverse_reaction</th>\n",
              "    </tr>\n",
              "  </thead>\n",
              "  <tbody>\n",
              "    <tr>\n",
              "      <th>64</th>\n",
              "      <td>johana</td>\n",
              "      <td>hrdá</td>\n",
              "      <td>7.79</td>\n",
              "      <td>7.49</td>\n",
              "      <td>0.30</td>\n",
              "      <td>auralin</td>\n",
              "      <td>54u</td>\n",
              "      <td>54u</td>\n",
              "      <td>NaN</td>\n",
              "    </tr>\n",
              "    <tr>\n",
              "      <th>131</th>\n",
              "      <td>kate</td>\n",
              "      <td>wilkinson</td>\n",
              "      <td>7.72</td>\n",
              "      <td>7.20</td>\n",
              "      <td>0.52</td>\n",
              "      <td>auralin</td>\n",
              "      <td>36u</td>\n",
              "      <td>39u</td>\n",
              "      <td>NaN</td>\n",
              "    </tr>\n",
              "    <tr>\n",
              "      <th>80</th>\n",
              "      <td>annie</td>\n",
              "      <td>allen</td>\n",
              "      <td>9.95</td>\n",
              "      <td>9.58</td>\n",
              "      <td>0.37</td>\n",
              "      <td>auralin</td>\n",
              "      <td>36u</td>\n",
              "      <td>42u</td>\n",
              "      <td>NaN</td>\n",
              "    </tr>\n",
              "    <tr>\n",
              "      <th>53</th>\n",
              "      <td>burrell</td>\n",
              "      <td>mathieu</td>\n",
              "      <td>8.71</td>\n",
              "      <td>8.39</td>\n",
              "      <td>0.32</td>\n",
              "      <td>auralin</td>\n",
              "      <td>46u</td>\n",
              "      <td>58u</td>\n",
              "      <td>NaN</td>\n",
              "    </tr>\n",
              "    <tr>\n",
              "      <th>306</th>\n",
              "      <td>csilla</td>\n",
              "      <td>herczegh</td>\n",
              "      <td>7.71</td>\n",
              "      <td>7.27</td>\n",
              "      <td>0.44</td>\n",
              "      <td>novodra</td>\n",
              "      <td>43u</td>\n",
              "      <td>46u</td>\n",
              "      <td>NaN</td>\n",
              "    </tr>\n",
              "  </tbody>\n",
              "</table>\n",
              "</div>"
            ],
            "text/plain": [
              "    given_name    surname  hba1c_start  ...  start   end adverse_reaction\n",
              "64      johana       hrdá         7.79  ...   54u    54u              NaN\n",
              "131       kate  wilkinson         7.72  ...   36u    39u              NaN\n",
              "80       annie      allen         9.95  ...   36u    42u              NaN\n",
              "53     burrell    mathieu         8.71  ...   46u    58u              NaN\n",
              "306     csilla   herczegh         7.71  ...   43u    46u              NaN\n",
              "\n",
              "[5 rows x 9 columns]"
            ]
          },
          "metadata": {
            "tags": []
          },
          "execution_count": 251
        }
      ]
    },
    {
      "cell_type": "code",
      "metadata": {
        "id": "5jQ2vdBggVN4",
        "colab": {
          "base_uri": "https://localhost:8080/",
          "height": 286
        },
        "outputId": "77401ca9-ae6c-469c-83ee-796e6296323c"
      },
      "source": [
        "treatment_copy.info()"
      ],
      "execution_count": null,
      "outputs": [
        {
          "output_type": "stream",
          "text": [
            "<class 'pandas.core.frame.DataFrame'>\n",
            "Int64Index: 350 entries, 0 to 349\n",
            "Data columns (total 9 columns):\n",
            " #   Column            Non-Null Count  Dtype  \n",
            "---  ------            --------------  -----  \n",
            " 0   given_name        350 non-null    object \n",
            " 1   surname           350 non-null    object \n",
            " 2   hba1c_start       350 non-null    float64\n",
            " 3   hba1c_end         350 non-null    float64\n",
            " 4   hba1c_change      350 non-null    float64\n",
            " 5   treatment         350 non-null    object \n",
            " 6   start             350 non-null    object \n",
            " 7   end               350 non-null    object \n",
            " 8   adverse_reaction  35 non-null     object \n",
            "dtypes: float64(3), object(6)\n",
            "memory usage: 27.3+ KB\n"
          ],
          "name": "stdout"
        }
      ]
    },
    {
      "cell_type": "markdown",
      "metadata": {
        "id": "keTHu78egZT9"
      },
      "source": [
        "**Define**\n",
        "\n",
        "Removing one duplicate row in treatment dataframe with the help of drop_duplicates()."
      ]
    },
    {
      "cell_type": "markdown",
      "metadata": {
        "id": "rc7uaueYgemD"
      },
      "source": [
        "**Code**"
      ]
    },
    {
      "cell_type": "code",
      "metadata": {
        "id": "mJ2FXHi7gXUz",
        "colab": {
          "base_uri": "https://localhost:8080/",
          "height": 34
        },
        "outputId": "7e1911b4-455f-47db-e008-89a34b1fa73c"
      },
      "source": [
        "treatment_copy.duplicated().sum()"
      ],
      "execution_count": null,
      "outputs": [
        {
          "output_type": "execute_result",
          "data": {
            "text/plain": [
              "1"
            ]
          },
          "metadata": {
            "tags": []
          },
          "execution_count": 253
        }
      ]
    },
    {
      "cell_type": "code",
      "metadata": {
        "id": "jma9R35kgiad"
      },
      "source": [
        "treatment_copy=treatment_copy.drop_duplicates()"
      ],
      "execution_count": null,
      "outputs": []
    },
    {
      "cell_type": "markdown",
      "metadata": {
        "id": "R4nlC2RpglDo"
      },
      "source": [
        "**Test**"
      ]
    },
    {
      "cell_type": "code",
      "metadata": {
        "id": "LO5Lg6nQgkOi",
        "colab": {
          "base_uri": "https://localhost:8080/",
          "height": 34
        },
        "outputId": "73cc484f-a5d4-450a-c49a-ca3a326aac26"
      },
      "source": [
        "treatment_copy.shape"
      ],
      "execution_count": null,
      "outputs": [
        {
          "output_type": "execute_result",
          "data": {
            "text/plain": [
              "(349, 9)"
            ]
          },
          "metadata": {
            "tags": []
          },
          "execution_count": 255
        }
      ]
    },
    {
      "cell_type": "markdown",
      "metadata": {
        "id": "NyvRLldPgqUu"
      },
      "source": [
        "**Define**\n",
        "\n",
        "Making the first letter of the given_name and surname in capital letter using str.capitalize()."
      ]
    },
    {
      "cell_type": "markdown",
      "metadata": {
        "id": "0Cxtxhz0gtkB"
      },
      "source": [
        "**Code**"
      ]
    },
    {
      "cell_type": "code",
      "metadata": {
        "id": "-zdDVRJTgpDT"
      },
      "source": [
        "treatment_copy['given_name']=treatment_copy['given_name'].str.capitalize()"
      ],
      "execution_count": null,
      "outputs": []
    },
    {
      "cell_type": "code",
      "metadata": {
        "id": "_wv9t14ZgyTx"
      },
      "source": [
        "treatment_copy['surname']=treatment_copy['surname'].str.capitalize()"
      ],
      "execution_count": null,
      "outputs": []
    },
    {
      "cell_type": "markdown",
      "metadata": {
        "id": "3vBeogGdg15G"
      },
      "source": [
        "**Test**"
      ]
    },
    {
      "cell_type": "code",
      "metadata": {
        "id": "sAMa3ctng0o_",
        "colab": {
          "base_uri": "https://localhost:8080/",
          "height": 195
        },
        "outputId": "b940f696-f7e9-4884-aff0-218bd65b2261"
      },
      "source": [
        "treatment_copy.head()"
      ],
      "execution_count": null,
      "outputs": [
        {
          "output_type": "execute_result",
          "data": {
            "text/html": [
              "<div>\n",
              "<style scoped>\n",
              "    .dataframe tbody tr th:only-of-type {\n",
              "        vertical-align: middle;\n",
              "    }\n",
              "\n",
              "    .dataframe tbody tr th {\n",
              "        vertical-align: top;\n",
              "    }\n",
              "\n",
              "    .dataframe thead th {\n",
              "        text-align: right;\n",
              "    }\n",
              "</style>\n",
              "<table border=\"1\" class=\"dataframe\">\n",
              "  <thead>\n",
              "    <tr style=\"text-align: right;\">\n",
              "      <th></th>\n",
              "      <th>given_name</th>\n",
              "      <th>surname</th>\n",
              "      <th>hba1c_start</th>\n",
              "      <th>hba1c_end</th>\n",
              "      <th>hba1c_change</th>\n",
              "      <th>treatment</th>\n",
              "      <th>start</th>\n",
              "      <th>end</th>\n",
              "      <th>adverse_reaction</th>\n",
              "    </tr>\n",
              "  </thead>\n",
              "  <tbody>\n",
              "    <tr>\n",
              "      <th>0</th>\n",
              "      <td>Veronika</td>\n",
              "      <td>Jindrová</td>\n",
              "      <td>7.63</td>\n",
              "      <td>7.20</td>\n",
              "      <td>0.43</td>\n",
              "      <td>auralin</td>\n",
              "      <td>41u</td>\n",
              "      <td>48u</td>\n",
              "      <td>NaN</td>\n",
              "    </tr>\n",
              "    <tr>\n",
              "      <th>1</th>\n",
              "      <td>Skye</td>\n",
              "      <td>Gormanston</td>\n",
              "      <td>7.97</td>\n",
              "      <td>7.62</td>\n",
              "      <td>0.35</td>\n",
              "      <td>auralin</td>\n",
              "      <td>33u</td>\n",
              "      <td>36u</td>\n",
              "      <td>NaN</td>\n",
              "    </tr>\n",
              "    <tr>\n",
              "      <th>2</th>\n",
              "      <td>Sophia</td>\n",
              "      <td>Haugen</td>\n",
              "      <td>7.65</td>\n",
              "      <td>7.27</td>\n",
              "      <td>0.38</td>\n",
              "      <td>auralin</td>\n",
              "      <td>37u</td>\n",
              "      <td>42u</td>\n",
              "      <td>NaN</td>\n",
              "    </tr>\n",
              "    <tr>\n",
              "      <th>3</th>\n",
              "      <td>Eddie</td>\n",
              "      <td>Archer</td>\n",
              "      <td>7.89</td>\n",
              "      <td>7.55</td>\n",
              "      <td>0.34</td>\n",
              "      <td>auralin</td>\n",
              "      <td>31u</td>\n",
              "      <td>38u</td>\n",
              "      <td>NaN</td>\n",
              "    </tr>\n",
              "    <tr>\n",
              "      <th>4</th>\n",
              "      <td>Asia</td>\n",
              "      <td>Woźniak</td>\n",
              "      <td>7.76</td>\n",
              "      <td>7.37</td>\n",
              "      <td>0.39</td>\n",
              "      <td>auralin</td>\n",
              "      <td>30u</td>\n",
              "      <td>36u</td>\n",
              "      <td>NaN</td>\n",
              "    </tr>\n",
              "  </tbody>\n",
              "</table>\n",
              "</div>"
            ],
            "text/plain": [
              "  given_name     surname  hba1c_start  ...  start   end adverse_reaction\n",
              "0   Veronika    Jindrová         7.63  ...   41u    48u              NaN\n",
              "1       Skye  Gormanston         7.97  ...   33u    36u              NaN\n",
              "2     Sophia      Haugen         7.65  ...   37u    42u              NaN\n",
              "3      Eddie      Archer         7.89  ...   31u    38u              NaN\n",
              "4       Asia     Woźniak         7.76  ...   30u    36u              NaN\n",
              "\n",
              "[5 rows x 9 columns]"
            ]
          },
          "metadata": {
            "tags": []
          },
          "execution_count": 258
        }
      ]
    },
    {
      "cell_type": "markdown",
      "metadata": {
        "id": "1om5_ZW6g-hL"
      },
      "source": [
        "**Define**\n",
        "\n",
        "Removing the given_name and surname from the treatment column and merging the patient_id column with the help of merge function."
      ]
    },
    {
      "cell_type": "markdown",
      "metadata": {
        "id": "KIAO_Pi-hAAr"
      },
      "source": [
        "**Code**"
      ]
    },
    {
      "cell_type": "code",
      "metadata": {
        "id": "PgUfAEz1g7RU"
      },
      "source": [
        "id_names=patients_copy[['patient_id','given_name','surname']]"
      ],
      "execution_count": null,
      "outputs": []
    },
    {
      "cell_type": "code",
      "metadata": {
        "id": "Hs9ODqKQhEjR",
        "colab": {
          "base_uri": "https://localhost:8080/",
          "height": 402
        },
        "outputId": "c3dc231a-92a3-4350-f9d4-daf8538fc965"
      },
      "source": [
        "id_names"
      ],
      "execution_count": null,
      "outputs": [
        {
          "output_type": "execute_result",
          "data": {
            "text/html": [
              "<div>\n",
              "<style scoped>\n",
              "    .dataframe tbody tr th:only-of-type {\n",
              "        vertical-align: middle;\n",
              "    }\n",
              "\n",
              "    .dataframe tbody tr th {\n",
              "        vertical-align: top;\n",
              "    }\n",
              "\n",
              "    .dataframe thead th {\n",
              "        text-align: right;\n",
              "    }\n",
              "</style>\n",
              "<table border=\"1\" class=\"dataframe\">\n",
              "  <thead>\n",
              "    <tr style=\"text-align: right;\">\n",
              "      <th></th>\n",
              "      <th>patient_id</th>\n",
              "      <th>given_name</th>\n",
              "      <th>surname</th>\n",
              "    </tr>\n",
              "  </thead>\n",
              "  <tbody>\n",
              "    <tr>\n",
              "      <th>0</th>\n",
              "      <td>1</td>\n",
              "      <td>Zoe</td>\n",
              "      <td>Wellish</td>\n",
              "    </tr>\n",
              "    <tr>\n",
              "      <th>1</th>\n",
              "      <td>2</td>\n",
              "      <td>Pamela</td>\n",
              "      <td>Hill</td>\n",
              "    </tr>\n",
              "    <tr>\n",
              "      <th>2</th>\n",
              "      <td>3</td>\n",
              "      <td>Jae</td>\n",
              "      <td>Debord</td>\n",
              "    </tr>\n",
              "    <tr>\n",
              "      <th>3</th>\n",
              "      <td>4</td>\n",
              "      <td>Liêm</td>\n",
              "      <td>Phan</td>\n",
              "    </tr>\n",
              "    <tr>\n",
              "      <th>4</th>\n",
              "      <td>5</td>\n",
              "      <td>Tim</td>\n",
              "      <td>Neudorf</td>\n",
              "    </tr>\n",
              "    <tr>\n",
              "      <th>...</th>\n",
              "      <td>...</td>\n",
              "      <td>...</td>\n",
              "      <td>...</td>\n",
              "    </tr>\n",
              "    <tr>\n",
              "      <th>498</th>\n",
              "      <td>499</td>\n",
              "      <td>Mustafa</td>\n",
              "      <td>Lindström</td>\n",
              "    </tr>\n",
              "    <tr>\n",
              "      <th>499</th>\n",
              "      <td>500</td>\n",
              "      <td>Ruman</td>\n",
              "      <td>Bisliev</td>\n",
              "    </tr>\n",
              "    <tr>\n",
              "      <th>500</th>\n",
              "      <td>501</td>\n",
              "      <td>Jinke</td>\n",
              "      <td>de Keizer</td>\n",
              "    </tr>\n",
              "    <tr>\n",
              "      <th>501</th>\n",
              "      <td>502</td>\n",
              "      <td>Chidalu</td>\n",
              "      <td>Onyekaozulu</td>\n",
              "    </tr>\n",
              "    <tr>\n",
              "      <th>502</th>\n",
              "      <td>503</td>\n",
              "      <td>Pat</td>\n",
              "      <td>Gersten</td>\n",
              "    </tr>\n",
              "  </tbody>\n",
              "</table>\n",
              "<p>503 rows × 3 columns</p>\n",
              "</div>"
            ],
            "text/plain": [
              "     patient_id given_name      surname\n",
              "0             1        Zoe      Wellish\n",
              "1             2     Pamela         Hill\n",
              "2             3        Jae       Debord\n",
              "3             4       Liêm         Phan\n",
              "4             5        Tim      Neudorf\n",
              "..          ...        ...          ...\n",
              "498         499    Mustafa    Lindström\n",
              "499         500      Ruman      Bisliev\n",
              "500         501      Jinke    de Keizer\n",
              "501         502    Chidalu  Onyekaozulu\n",
              "502         503        Pat      Gersten\n",
              "\n",
              "[503 rows x 3 columns]"
            ]
          },
          "metadata": {
            "tags": []
          },
          "execution_count": 260
        }
      ]
    },
    {
      "cell_type": "code",
      "metadata": {
        "id": "wkcUFcGPhF6t"
      },
      "source": [
        "treatment_copy=pd.merge(treatment_copy, id_names, on=['given_name', 'surname'])"
      ],
      "execution_count": null,
      "outputs": []
    },
    {
      "cell_type": "code",
      "metadata": {
        "id": "BrPlTmW_hIst"
      },
      "source": [
        "treatment_copy = treatment_copy.drop(['given_name', 'surname'], axis=1)"
      ],
      "execution_count": null,
      "outputs": []
    },
    {
      "cell_type": "markdown",
      "metadata": {
        "id": "I4Qv0QdvhMH2"
      },
      "source": [
        "**Test**"
      ]
    },
    {
      "cell_type": "code",
      "metadata": {
        "id": "NzrUexMJhLHn",
        "colab": {
          "base_uri": "https://localhost:8080/",
          "height": 195
        },
        "outputId": "3a903f60-1057-4faa-c58e-f0b927cb7be6"
      },
      "source": [
        "treatment_copy.head()"
      ],
      "execution_count": null,
      "outputs": [
        {
          "output_type": "execute_result",
          "data": {
            "text/html": [
              "<div>\n",
              "<style scoped>\n",
              "    .dataframe tbody tr th:only-of-type {\n",
              "        vertical-align: middle;\n",
              "    }\n",
              "\n",
              "    .dataframe tbody tr th {\n",
              "        vertical-align: top;\n",
              "    }\n",
              "\n",
              "    .dataframe thead th {\n",
              "        text-align: right;\n",
              "    }\n",
              "</style>\n",
              "<table border=\"1\" class=\"dataframe\">\n",
              "  <thead>\n",
              "    <tr style=\"text-align: right;\">\n",
              "      <th></th>\n",
              "      <th>hba1c_start</th>\n",
              "      <th>hba1c_end</th>\n",
              "      <th>hba1c_change</th>\n",
              "      <th>treatment</th>\n",
              "      <th>start</th>\n",
              "      <th>end</th>\n",
              "      <th>adverse_reaction</th>\n",
              "      <th>patient_id</th>\n",
              "    </tr>\n",
              "  </thead>\n",
              "  <tbody>\n",
              "    <tr>\n",
              "      <th>0</th>\n",
              "      <td>7.63</td>\n",
              "      <td>7.20</td>\n",
              "      <td>0.43</td>\n",
              "      <td>auralin</td>\n",
              "      <td>41u</td>\n",
              "      <td>48u</td>\n",
              "      <td>NaN</td>\n",
              "      <td>225</td>\n",
              "    </tr>\n",
              "    <tr>\n",
              "      <th>1</th>\n",
              "      <td>7.97</td>\n",
              "      <td>7.62</td>\n",
              "      <td>0.35</td>\n",
              "      <td>auralin</td>\n",
              "      <td>33u</td>\n",
              "      <td>36u</td>\n",
              "      <td>NaN</td>\n",
              "      <td>242</td>\n",
              "    </tr>\n",
              "    <tr>\n",
              "      <th>2</th>\n",
              "      <td>7.65</td>\n",
              "      <td>7.27</td>\n",
              "      <td>0.38</td>\n",
              "      <td>auralin</td>\n",
              "      <td>37u</td>\n",
              "      <td>42u</td>\n",
              "      <td>NaN</td>\n",
              "      <td>345</td>\n",
              "    </tr>\n",
              "    <tr>\n",
              "      <th>3</th>\n",
              "      <td>7.89</td>\n",
              "      <td>7.55</td>\n",
              "      <td>0.34</td>\n",
              "      <td>auralin</td>\n",
              "      <td>31u</td>\n",
              "      <td>38u</td>\n",
              "      <td>NaN</td>\n",
              "      <td>276</td>\n",
              "    </tr>\n",
              "    <tr>\n",
              "      <th>4</th>\n",
              "      <td>7.76</td>\n",
              "      <td>7.37</td>\n",
              "      <td>0.39</td>\n",
              "      <td>auralin</td>\n",
              "      <td>30u</td>\n",
              "      <td>36u</td>\n",
              "      <td>NaN</td>\n",
              "      <td>15</td>\n",
              "    </tr>\n",
              "  </tbody>\n",
              "</table>\n",
              "</div>"
            ],
            "text/plain": [
              "   hba1c_start  hba1c_end  hba1c_change  ...   end adverse_reaction patient_id\n",
              "0         7.63       7.20          0.43  ...   48u              NaN        225\n",
              "1         7.97       7.62          0.35  ...   36u              NaN        242\n",
              "2         7.65       7.27          0.38  ...   42u              NaN        345\n",
              "3         7.89       7.55          0.34  ...   38u              NaN        276\n",
              "4         7.76       7.37          0.39  ...   36u              NaN         15\n",
              "\n",
              "[5 rows x 8 columns]"
            ]
          },
          "metadata": {
            "tags": []
          },
          "execution_count": 263
        }
      ]
    },
    {
      "cell_type": "markdown",
      "metadata": {
        "id": "l2ejGYh1hVLl"
      },
      "source": [
        "**Define**\n",
        "\n",
        "Removing all the John Doe records from the patients_copy dataframe."
      ]
    },
    {
      "cell_type": "markdown",
      "metadata": {
        "id": "CXikNRushWjn"
      },
      "source": [
        "**Code**"
      ]
    },
    {
      "cell_type": "code",
      "metadata": {
        "id": "xegO_M5ehQdc"
      },
      "source": [
        "patients_copy=patients_copy[patients_copy['surname']!='Doe']"
      ],
      "execution_count": null,
      "outputs": []
    },
    {
      "cell_type": "markdown",
      "metadata": {
        "id": "kVn5sFpFhcO2"
      },
      "source": [
        "**Test**"
      ]
    },
    {
      "cell_type": "code",
      "metadata": {
        "id": "_HIukTcuhaWr",
        "colab": {
          "base_uri": "https://localhost:8080/",
          "height": 386
        },
        "outputId": "842ef4d8-9aca-41fb-d902-7052f91d4199"
      },
      "source": [
        "patients_copy.info()"
      ],
      "execution_count": null,
      "outputs": [
        {
          "output_type": "stream",
          "text": [
            "<class 'pandas.core.frame.DataFrame'>\n",
            "Int64Index: 497 entries, 0 to 502\n",
            "Data columns (total 15 columns):\n",
            " #   Column        Non-Null Count  Dtype         \n",
            "---  ------        --------------  -----         \n",
            " 0   patient_id    497 non-null    int32         \n",
            " 1   assigned_sex  497 non-null    category      \n",
            " 2   given_name    497 non-null    object        \n",
            " 3   surname       497 non-null    object        \n",
            " 4   address       485 non-null    object        \n",
            " 5   city          485 non-null    object        \n",
            " 6   state         485 non-null    object        \n",
            " 7   zip_code      485 non-null    object        \n",
            " 8   country       485 non-null    category      \n",
            " 9   birthdate     497 non-null    datetime64[ns]\n",
            " 10  weight        497 non-null    float64       \n",
            " 11  height        497 non-null    int32         \n",
            " 12  bmi           497 non-null    float64       \n",
            " 13  phone_number  485 non-null    object        \n",
            " 14  email         485 non-null    object        \n",
            "dtypes: category(2), datetime64[ns](1), float64(2), int32(2), object(8)\n",
            "memory usage: 51.6+ KB\n"
          ],
          "name": "stdout"
        }
      ]
    },
    {
      "cell_type": "code",
      "metadata": {
        "id": "_qRvmML8hfev",
        "colab": {
          "base_uri": "https://localhost:8080/",
          "height": 279
        },
        "outputId": "ccb1f780-d733-4f0b-d629-aa36ad394491"
      },
      "source": [
        "patients_copy.sample(5)"
      ],
      "execution_count": null,
      "outputs": [
        {
          "output_type": "execute_result",
          "data": {
            "text/html": [
              "<div>\n",
              "<style scoped>\n",
              "    .dataframe tbody tr th:only-of-type {\n",
              "        vertical-align: middle;\n",
              "    }\n",
              "\n",
              "    .dataframe tbody tr th {\n",
              "        vertical-align: top;\n",
              "    }\n",
              "\n",
              "    .dataframe thead th {\n",
              "        text-align: right;\n",
              "    }\n",
              "</style>\n",
              "<table border=\"1\" class=\"dataframe\">\n",
              "  <thead>\n",
              "    <tr style=\"text-align: right;\">\n",
              "      <th></th>\n",
              "      <th>patient_id</th>\n",
              "      <th>assigned_sex</th>\n",
              "      <th>given_name</th>\n",
              "      <th>surname</th>\n",
              "      <th>address</th>\n",
              "      <th>city</th>\n",
              "      <th>state</th>\n",
              "      <th>zip_code</th>\n",
              "      <th>country</th>\n",
              "      <th>birthdate</th>\n",
              "      <th>weight</th>\n",
              "      <th>height</th>\n",
              "      <th>bmi</th>\n",
              "      <th>phone_number</th>\n",
              "      <th>email</th>\n",
              "    </tr>\n",
              "  </thead>\n",
              "  <tbody>\n",
              "    <tr>\n",
              "      <th>291</th>\n",
              "      <td>292</td>\n",
              "      <td>male</td>\n",
              "      <td>Enco</td>\n",
              "      <td>Žibrik</td>\n",
              "      <td>4792 Maud Street</td>\n",
              "      <td>Camden Wyoming</td>\n",
              "      <td>DE</td>\n",
              "      <td>19934</td>\n",
              "      <td>United States</td>\n",
              "      <td>1983-01-25</td>\n",
              "      <td>203.9</td>\n",
              "      <td>74</td>\n",
              "      <td>26.2</td>\n",
              "      <td>302-698-2057</td>\n",
              "      <td>EncoZibrik@superrito.com</td>\n",
              "    </tr>\n",
              "    <tr>\n",
              "      <th>110</th>\n",
              "      <td>111</td>\n",
              "      <td>male</td>\n",
              "      <td>Miroslav</td>\n",
              "      <td>Štěpánek</td>\n",
              "      <td>2625 Romines Mill Road</td>\n",
              "      <td>Dallas</td>\n",
              "      <td>TX</td>\n",
              "      <td>75247</td>\n",
              "      <td>United States</td>\n",
              "      <td>1935-09-23</td>\n",
              "      <td>146.1</td>\n",
              "      <td>68</td>\n",
              "      <td>22.2</td>\n",
              "      <td>+1 (214) 637-0855</td>\n",
              "      <td>MiroslavStepanek@teleworm.us</td>\n",
              "    </tr>\n",
              "    <tr>\n",
              "      <th>311</th>\n",
              "      <td>312</td>\n",
              "      <td>female</td>\n",
              "      <td>Erica</td>\n",
              "      <td>MacDonald</td>\n",
              "      <td>2011 Eastland Avenue</td>\n",
              "      <td>Philadelphia</td>\n",
              "      <td>MS</td>\n",
              "      <td>39350</td>\n",
              "      <td>United States</td>\n",
              "      <td>1937-05-04</td>\n",
              "      <td>171.4</td>\n",
              "      <td>63</td>\n",
              "      <td>30.4</td>\n",
              "      <td>601-389-7682</td>\n",
              "      <td>EricaMacDonald@teleworm.us</td>\n",
              "    </tr>\n",
              "    <tr>\n",
              "      <th>453</th>\n",
              "      <td>454</td>\n",
              "      <td>male</td>\n",
              "      <td>Wu</td>\n",
              "      <td>Sung</td>\n",
              "      <td>1072 Bird Spring Lane</td>\n",
              "      <td>Houston</td>\n",
              "      <td>TX</td>\n",
              "      <td>77077</td>\n",
              "      <td>United States</td>\n",
              "      <td>1993-10-31</td>\n",
              "      <td>181.3</td>\n",
              "      <td>74</td>\n",
              "      <td>23.3</td>\n",
              "      <td>281-556-4376</td>\n",
              "      <td>WuSung@gustr.com</td>\n",
              "    </tr>\n",
              "    <tr>\n",
              "      <th>240</th>\n",
              "      <td>241</td>\n",
              "      <td>female</td>\n",
              "      <td>Marphisa</td>\n",
              "      <td>Compagnon</td>\n",
              "      <td>3391 Marcus Street</td>\n",
              "      <td>Huntsville</td>\n",
              "      <td>AL</td>\n",
              "      <td>35806</td>\n",
              "      <td>United States</td>\n",
              "      <td>1967-03-09</td>\n",
              "      <td>198.0</td>\n",
              "      <td>63</td>\n",
              "      <td>35.1</td>\n",
              "      <td>+1 (256) 615-5522</td>\n",
              "      <td>MarphisaCompagnon@cuvox.de</td>\n",
              "    </tr>\n",
              "  </tbody>\n",
              "</table>\n",
              "</div>"
            ],
            "text/plain": [
              "     patient_id assigned_sex  ...       phone_number                         email\n",
              "291         292         male  ...       302-698-2057      EncoZibrik@superrito.com\n",
              "110         111         male  ...  +1 (214) 637-0855  MiroslavStepanek@teleworm.us\n",
              "311         312       female  ...       601-389-7682    EricaMacDonald@teleworm.us\n",
              "453         454         male  ...       281-556-4376              WuSung@gustr.com\n",
              "240         241       female  ...  +1 (256) 615-5522    MarphisaCompagnon@cuvox.de\n",
              "\n",
              "[5 rows x 15 columns]"
            ]
          },
          "metadata": {
            "tags": []
          },
          "execution_count": 266
        }
      ]
    },
    {
      "cell_type": "code",
      "metadata": {
        "id": "T1ag99O9hhvc",
        "colab": {
          "base_uri": "https://localhost:8080/",
          "height": 195
        },
        "outputId": "df8c232c-680f-4cff-8bac-719cf061397e"
      },
      "source": [
        "treatment_copy.sample(5)"
      ],
      "execution_count": null,
      "outputs": [
        {
          "output_type": "execute_result",
          "data": {
            "text/html": [
              "<div>\n",
              "<style scoped>\n",
              "    .dataframe tbody tr th:only-of-type {\n",
              "        vertical-align: middle;\n",
              "    }\n",
              "\n",
              "    .dataframe tbody tr th {\n",
              "        vertical-align: top;\n",
              "    }\n",
              "\n",
              "    .dataframe thead th {\n",
              "        text-align: right;\n",
              "    }\n",
              "</style>\n",
              "<table border=\"1\" class=\"dataframe\">\n",
              "  <thead>\n",
              "    <tr style=\"text-align: right;\">\n",
              "      <th></th>\n",
              "      <th>hba1c_start</th>\n",
              "      <th>hba1c_end</th>\n",
              "      <th>hba1c_change</th>\n",
              "      <th>treatment</th>\n",
              "      <th>start</th>\n",
              "      <th>end</th>\n",
              "      <th>adverse_reaction</th>\n",
              "      <th>patient_id</th>\n",
              "    </tr>\n",
              "  </thead>\n",
              "  <tbody>\n",
              "    <tr>\n",
              "      <th>31</th>\n",
              "      <td>7.63</td>\n",
              "      <td>7.30</td>\n",
              "      <td>0.33</td>\n",
              "      <td>auralin</td>\n",
              "      <td>39u</td>\n",
              "      <td>46u</td>\n",
              "      <td>NaN</td>\n",
              "      <td>160</td>\n",
              "    </tr>\n",
              "    <tr>\n",
              "      <th>89</th>\n",
              "      <td>7.82</td>\n",
              "      <td>7.28</td>\n",
              "      <td>0.54</td>\n",
              "      <td>auralin</td>\n",
              "      <td>41u</td>\n",
              "      <td>50u</td>\n",
              "      <td>NaN</td>\n",
              "      <td>361</td>\n",
              "    </tr>\n",
              "    <tr>\n",
              "      <th>98</th>\n",
              "      <td>7.99</td>\n",
              "      <td>7.72</td>\n",
              "      <td>0.27</td>\n",
              "      <td>auralin</td>\n",
              "      <td>43u</td>\n",
              "      <td>51u</td>\n",
              "      <td>NaN</td>\n",
              "      <td>66</td>\n",
              "    </tr>\n",
              "    <tr>\n",
              "      <th>190</th>\n",
              "      <td>7.62</td>\n",
              "      <td>7.16</td>\n",
              "      <td>0.46</td>\n",
              "      <td>novodra</td>\n",
              "      <td>29u</td>\n",
              "      <td>30u</td>\n",
              "      <td>NaN</td>\n",
              "      <td>185</td>\n",
              "    </tr>\n",
              "    <tr>\n",
              "      <th>109</th>\n",
              "      <td>7.64</td>\n",
              "      <td>7.31</td>\n",
              "      <td>0.33</td>\n",
              "      <td>auralin</td>\n",
              "      <td>52u</td>\n",
              "      <td>61u</td>\n",
              "      <td>hypoglycemia</td>\n",
              "      <td>14</td>\n",
              "    </tr>\n",
              "  </tbody>\n",
              "</table>\n",
              "</div>"
            ],
            "text/plain": [
              "     hba1c_start  hba1c_end  hba1c_change  ...   end adverse_reaction patient_id\n",
              "31          7.63       7.30          0.33  ...   46u              NaN        160\n",
              "89          7.82       7.28          0.54  ...   50u              NaN        361\n",
              "98          7.99       7.72          0.27  ...   51u              NaN         66\n",
              "190         7.62       7.16          0.46  ...   30u              NaN        185\n",
              "109         7.64       7.31          0.33  ...   61u     hypoglycemia         14\n",
              "\n",
              "[5 rows x 8 columns]"
            ]
          },
          "metadata": {
            "tags": []
          },
          "execution_count": 267
        }
      ]
    },
    {
      "cell_type": "markdown",
      "metadata": {
        "id": "wJp0-a_Thl9S"
      },
      "source": [
        "**Define**\n",
        "\n",
        "Removing the same person with nicknames by drop method."
      ]
    },
    {
      "cell_type": "markdown",
      "metadata": {
        "id": "zT0EMcyUhpK4"
      },
      "source": [
        "**Code**"
      ]
    },
    {
      "cell_type": "code",
      "metadata": {
        "id": "pYIVROXOhkR_",
        "colab": {
          "base_uri": "https://localhost:8080/",
          "height": 218
        },
        "outputId": "c232a003-a0b2-4c27-b085-a86b246e305d"
      },
      "source": [
        "patients_copy['surname'].value_counts()"
      ],
      "execution_count": null,
      "outputs": [
        {
          "output_type": "execute_result",
          "data": {
            "text/plain": [
              "Jakobsen       3\n",
              "Taylor         3\n",
              "Batukayev      2\n",
              "Johnson        2\n",
              "Lương          2\n",
              "              ..\n",
              "Maslov         1\n",
              "Teichelmann    1\n",
              "Nakahara       1\n",
              "Glockner       1\n",
              "Bisliev        1\n",
              "Name: surname, Length: 465, dtype: int64"
            ]
          },
          "metadata": {
            "tags": []
          },
          "execution_count": 268
        }
      ]
    },
    {
      "cell_type": "code",
      "metadata": {
        "id": "gdfBmbR5hs5H",
        "colab": {
          "base_uri": "https://localhost:8080/",
          "height": 136
        },
        "outputId": "93eb00a9-acbe-4eb4-c1ad-3b98f4faca93"
      },
      "source": [
        "patients_copy[patients_copy.surname == 'Taylor']"
      ],
      "execution_count": null,
      "outputs": [
        {
          "output_type": "execute_result",
          "data": {
            "text/html": [
              "<div>\n",
              "<style scoped>\n",
              "    .dataframe tbody tr th:only-of-type {\n",
              "        vertical-align: middle;\n",
              "    }\n",
              "\n",
              "    .dataframe tbody tr th {\n",
              "        vertical-align: top;\n",
              "    }\n",
              "\n",
              "    .dataframe thead th {\n",
              "        text-align: right;\n",
              "    }\n",
              "</style>\n",
              "<table border=\"1\" class=\"dataframe\">\n",
              "  <thead>\n",
              "    <tr style=\"text-align: right;\">\n",
              "      <th></th>\n",
              "      <th>patient_id</th>\n",
              "      <th>assigned_sex</th>\n",
              "      <th>given_name</th>\n",
              "      <th>surname</th>\n",
              "      <th>address</th>\n",
              "      <th>city</th>\n",
              "      <th>state</th>\n",
              "      <th>zip_code</th>\n",
              "      <th>country</th>\n",
              "      <th>birthdate</th>\n",
              "      <th>weight</th>\n",
              "      <th>height</th>\n",
              "      <th>bmi</th>\n",
              "      <th>phone_number</th>\n",
              "      <th>email</th>\n",
              "    </tr>\n",
              "  </thead>\n",
              "  <tbody>\n",
              "    <tr>\n",
              "      <th>131</th>\n",
              "      <td>132</td>\n",
              "      <td>female</td>\n",
              "      <td>Sandra</td>\n",
              "      <td>Taylor</td>\n",
              "      <td>2476 Fulton Street</td>\n",
              "      <td>Rainelle</td>\n",
              "      <td>WV</td>\n",
              "      <td>25962</td>\n",
              "      <td>United States</td>\n",
              "      <td>1960-10-23</td>\n",
              "      <td>206.1</td>\n",
              "      <td>64</td>\n",
              "      <td>35.4</td>\n",
              "      <td>304-438-2648</td>\n",
              "      <td>SandraCTaylor@dayrep.com</td>\n",
              "    </tr>\n",
              "    <tr>\n",
              "      <th>282</th>\n",
              "      <td>283</td>\n",
              "      <td>female</td>\n",
              "      <td>Sandy</td>\n",
              "      <td>Taylor</td>\n",
              "      <td>2476 Fulton Street</td>\n",
              "      <td>Rainelle</td>\n",
              "      <td>WV</td>\n",
              "      <td>25962</td>\n",
              "      <td>United States</td>\n",
              "      <td>1960-10-23</td>\n",
              "      <td>206.1</td>\n",
              "      <td>64</td>\n",
              "      <td>35.4</td>\n",
              "      <td>304-438-2648</td>\n",
              "      <td>SandraCTaylor@dayrep.com</td>\n",
              "    </tr>\n",
              "    <tr>\n",
              "      <th>426</th>\n",
              "      <td>427</td>\n",
              "      <td>male</td>\n",
              "      <td>Rogelio</td>\n",
              "      <td>Taylor</td>\n",
              "      <td>4064 Marigold Lane</td>\n",
              "      <td>Miami</td>\n",
              "      <td>FL</td>\n",
              "      <td>33179</td>\n",
              "      <td>United States</td>\n",
              "      <td>1992-09-02</td>\n",
              "      <td>186.6</td>\n",
              "      <td>69</td>\n",
              "      <td>27.6</td>\n",
              "      <td>305-434-6299</td>\n",
              "      <td>RogelioJTaylor@teleworm.us</td>\n",
              "    </tr>\n",
              "  </tbody>\n",
              "</table>\n",
              "</div>"
            ],
            "text/plain": [
              "     patient_id assigned_sex  ...  phone_number                       email\n",
              "131         132       female  ...  304-438-2648    SandraCTaylor@dayrep.com\n",
              "282         283       female  ...  304-438-2648    SandraCTaylor@dayrep.com\n",
              "426         427         male  ...  305-434-6299  RogelioJTaylor@teleworm.us\n",
              "\n",
              "[3 rows x 15 columns]"
            ]
          },
          "metadata": {
            "tags": []
          },
          "execution_count": 269
        }
      ]
    },
    {
      "cell_type": "code",
      "metadata": {
        "id": "g04Vs-u9hvWv",
        "colab": {
          "base_uri": "https://localhost:8080/",
          "height": 186
        },
        "outputId": "662884fd-f233-4a7f-aa00-0516aa1efc68"
      },
      "source": [
        "patients_copy[patients_copy.surname == 'Jakobsen']"
      ],
      "execution_count": null,
      "outputs": [
        {
          "output_type": "execute_result",
          "data": {
            "text/html": [
              "<div>\n",
              "<style scoped>\n",
              "    .dataframe tbody tr th:only-of-type {\n",
              "        vertical-align: middle;\n",
              "    }\n",
              "\n",
              "    .dataframe tbody tr th {\n",
              "        vertical-align: top;\n",
              "    }\n",
              "\n",
              "    .dataframe thead th {\n",
              "        text-align: right;\n",
              "    }\n",
              "</style>\n",
              "<table border=\"1\" class=\"dataframe\">\n",
              "  <thead>\n",
              "    <tr style=\"text-align: right;\">\n",
              "      <th></th>\n",
              "      <th>patient_id</th>\n",
              "      <th>assigned_sex</th>\n",
              "      <th>given_name</th>\n",
              "      <th>surname</th>\n",
              "      <th>address</th>\n",
              "      <th>city</th>\n",
              "      <th>state</th>\n",
              "      <th>zip_code</th>\n",
              "      <th>country</th>\n",
              "      <th>birthdate</th>\n",
              "      <th>weight</th>\n",
              "      <th>height</th>\n",
              "      <th>bmi</th>\n",
              "      <th>phone_number</th>\n",
              "      <th>email</th>\n",
              "    </tr>\n",
              "  </thead>\n",
              "  <tbody>\n",
              "    <tr>\n",
              "      <th>24</th>\n",
              "      <td>25</td>\n",
              "      <td>male</td>\n",
              "      <td>Jakob</td>\n",
              "      <td>Jakobsen</td>\n",
              "      <td>648 Old Dear Lane</td>\n",
              "      <td>Port Jervis</td>\n",
              "      <td>NY</td>\n",
              "      <td>12771</td>\n",
              "      <td>United States</td>\n",
              "      <td>1985-08-01</td>\n",
              "      <td>155.8</td>\n",
              "      <td>67</td>\n",
              "      <td>24.4</td>\n",
              "      <td>+1 (845) 858-7707</td>\n",
              "      <td>JakobCJakobsen@einrot.com</td>\n",
              "    </tr>\n",
              "    <tr>\n",
              "      <th>29</th>\n",
              "      <td>30</td>\n",
              "      <td>male</td>\n",
              "      <td>Jake</td>\n",
              "      <td>Jakobsen</td>\n",
              "      <td>648 Old Dear Lane</td>\n",
              "      <td>Port Jervis</td>\n",
              "      <td>NY</td>\n",
              "      <td>12771</td>\n",
              "      <td>United States</td>\n",
              "      <td>1985-08-01</td>\n",
              "      <td>155.8</td>\n",
              "      <td>67</td>\n",
              "      <td>24.4</td>\n",
              "      <td>+1 (845) 858-7707</td>\n",
              "      <td>JakobCJakobsen@einrot.com</td>\n",
              "    </tr>\n",
              "    <tr>\n",
              "      <th>432</th>\n",
              "      <td>433</td>\n",
              "      <td>female</td>\n",
              "      <td>Karen</td>\n",
              "      <td>Jakobsen</td>\n",
              "      <td>1690 Fannie Street</td>\n",
              "      <td>Houston</td>\n",
              "      <td>TX</td>\n",
              "      <td>77020</td>\n",
              "      <td>United States</td>\n",
              "      <td>1962-11-25</td>\n",
              "      <td>185.2</td>\n",
              "      <td>67</td>\n",
              "      <td>29.0</td>\n",
              "      <td>979 203 0438</td>\n",
              "      <td>KarenJakobsen@jourrapide.com</td>\n",
              "    </tr>\n",
              "  </tbody>\n",
              "</table>\n",
              "</div>"
            ],
            "text/plain": [
              "     patient_id assigned_sex  ...       phone_number                         email\n",
              "24           25         male  ...  +1 (845) 858-7707     JakobCJakobsen@einrot.com\n",
              "29           30         male  ...  +1 (845) 858-7707     JakobCJakobsen@einrot.com\n",
              "432         433       female  ...       979 203 0438  KarenJakobsen@jourrapide.com\n",
              "\n",
              "[3 rows x 15 columns]"
            ]
          },
          "metadata": {
            "tags": []
          },
          "execution_count": 270
        }
      ]
    },
    {
      "cell_type": "code",
      "metadata": {
        "id": "4Dfa2ksahx6p",
        "colab": {
          "base_uri": "https://localhost:8080/",
          "height": 106
        },
        "outputId": "43da1da1-6a22-4ca0-bc6f-073f12cd52b7"
      },
      "source": [
        "patients_copy[patients_copy.surname == 'Gersten']"
      ],
      "execution_count": null,
      "outputs": [
        {
          "output_type": "execute_result",
          "data": {
            "text/html": [
              "<div>\n",
              "<style scoped>\n",
              "    .dataframe tbody tr th:only-of-type {\n",
              "        vertical-align: middle;\n",
              "    }\n",
              "\n",
              "    .dataframe tbody tr th {\n",
              "        vertical-align: top;\n",
              "    }\n",
              "\n",
              "    .dataframe thead th {\n",
              "        text-align: right;\n",
              "    }\n",
              "</style>\n",
              "<table border=\"1\" class=\"dataframe\">\n",
              "  <thead>\n",
              "    <tr style=\"text-align: right;\">\n",
              "      <th></th>\n",
              "      <th>patient_id</th>\n",
              "      <th>assigned_sex</th>\n",
              "      <th>given_name</th>\n",
              "      <th>surname</th>\n",
              "      <th>address</th>\n",
              "      <th>city</th>\n",
              "      <th>state</th>\n",
              "      <th>zip_code</th>\n",
              "      <th>country</th>\n",
              "      <th>birthdate</th>\n",
              "      <th>weight</th>\n",
              "      <th>height</th>\n",
              "      <th>bmi</th>\n",
              "      <th>phone_number</th>\n",
              "      <th>email</th>\n",
              "    </tr>\n",
              "  </thead>\n",
              "  <tbody>\n",
              "    <tr>\n",
              "      <th>97</th>\n",
              "      <td>98</td>\n",
              "      <td>male</td>\n",
              "      <td>Patrick</td>\n",
              "      <td>Gersten</td>\n",
              "      <td>2778 North Avenue</td>\n",
              "      <td>Burr</td>\n",
              "      <td>NE</td>\n",
              "      <td>68324</td>\n",
              "      <td>United States</td>\n",
              "      <td>1954-05-03</td>\n",
              "      <td>138.2</td>\n",
              "      <td>71</td>\n",
              "      <td>19.3</td>\n",
              "      <td>402-848-4923</td>\n",
              "      <td>PatrickGersten@rhyta.com</td>\n",
              "    </tr>\n",
              "    <tr>\n",
              "      <th>502</th>\n",
              "      <td>503</td>\n",
              "      <td>male</td>\n",
              "      <td>Pat</td>\n",
              "      <td>Gersten</td>\n",
              "      <td>2778 North Avenue</td>\n",
              "      <td>Burr</td>\n",
              "      <td>NE</td>\n",
              "      <td>68324</td>\n",
              "      <td>United States</td>\n",
              "      <td>1954-05-03</td>\n",
              "      <td>138.2</td>\n",
              "      <td>71</td>\n",
              "      <td>19.3</td>\n",
              "      <td>402-848-4923</td>\n",
              "      <td>PatrickGersten@rhyta.com</td>\n",
              "    </tr>\n",
              "  </tbody>\n",
              "</table>\n",
              "</div>"
            ],
            "text/plain": [
              "     patient_id assigned_sex  ...  phone_number                     email\n",
              "97           98         male  ...  402-848-4923  PatrickGersten@rhyta.com\n",
              "502         503         male  ...  402-848-4923  PatrickGersten@rhyta.com\n",
              "\n",
              "[2 rows x 15 columns]"
            ]
          },
          "metadata": {
            "tags": []
          },
          "execution_count": 271
        }
      ]
    },
    {
      "cell_type": "code",
      "metadata": {
        "id": "vqWgLP3Rh0GJ"
      },
      "source": [
        "patients_copy=patients_copy.drop([282, 29, 502])"
      ],
      "execution_count": null,
      "outputs": []
    },
    {
      "cell_type": "markdown",
      "metadata": {
        "id": "1ZOz1WMfh3S4"
      },
      "source": [
        "**Test**"
      ]
    },
    {
      "cell_type": "code",
      "metadata": {
        "id": "RHXK_EkAh2il",
        "colab": {
          "base_uri": "https://localhost:8080/",
          "height": 218
        },
        "outputId": "f67439ad-236c-4b9d-994f-27b74797688b"
      },
      "source": [
        "patients_copy['surname'].value_counts()"
      ],
      "execution_count": null,
      "outputs": [
        {
          "output_type": "execute_result",
          "data": {
            "text/plain": [
              "Collins        2\n",
              "Grímsdóttir    2\n",
              "Nilsen         2\n",
              "Aranda         2\n",
              "Silva          2\n",
              "              ..\n",
              "Maslov         1\n",
              "Teichelmann    1\n",
              "Nakahara       1\n",
              "Glockner       1\n",
              "Bisliev        1\n",
              "Name: surname, Length: 465, dtype: int64"
            ]
          },
          "metadata": {
            "tags": []
          },
          "execution_count": 273
        }
      ]
    },
    {
      "cell_type": "markdown",
      "metadata": {
        "id": "u7V5kfsxh9o0"
      },
      "source": [
        "**Define**\n",
        "\n",
        "Filling the NaN values of the columns with a proper statement and the NaN values for the country as 'United States'."
      ]
    },
    {
      "cell_type": "markdown",
      "metadata": {
        "id": "4MIZloAmh-6w"
      },
      "source": [
        "**Code**"
      ]
    },
    {
      "cell_type": "code",
      "metadata": {
        "id": "jvM8DEBah66q"
      },
      "source": [
        "patients_copy['email']=patients_copy['email'].fillna('Email not found')"
      ],
      "execution_count": null,
      "outputs": []
    },
    {
      "cell_type": "code",
      "metadata": {
        "id": "FalNT8SyiCzo"
      },
      "source": [
        "patients_copy['address']=patients_copy['address'].fillna('Address not found')"
      ],
      "execution_count": null,
      "outputs": []
    },
    {
      "cell_type": "code",
      "metadata": {
        "id": "Jzt-r0JJiEqJ"
      },
      "source": [
        "patients_copy['city']=patients_copy['city'].fillna('City not found')"
      ],
      "execution_count": null,
      "outputs": []
    },
    {
      "cell_type": "code",
      "metadata": {
        "id": "kL2SKlXBiGhy"
      },
      "source": [
        "patients_copy['state']=patients_copy['state'].fillna('State not found')"
      ],
      "execution_count": null,
      "outputs": []
    },
    {
      "cell_type": "code",
      "metadata": {
        "id": "Ytqt84xjiI7J"
      },
      "source": [
        "patients_copy['zip_code']=patients_copy['zip_code'].fillna('Zip code not found')"
      ],
      "execution_count": null,
      "outputs": []
    },
    {
      "cell_type": "code",
      "metadata": {
        "id": "egIfqKX_iKyO"
      },
      "source": [
        "patients_copy['country']=patients_copy['country'].fillna('United States')"
      ],
      "execution_count": null,
      "outputs": []
    },
    {
      "cell_type": "code",
      "metadata": {
        "id": "Tj4ctE1qiM4m"
      },
      "source": [
        "patients_copy['phone_number']=patients_copy['phone_number'].fillna('Phone number not found')"
      ],
      "execution_count": null,
      "outputs": []
    },
    {
      "cell_type": "code",
      "metadata": {
        "id": "8FWklWRKiPTg"
      },
      "source": [
        "treatment_copy['adverse_reaction']=treatment_copy['adverse_reaction'].fillna('Information Not Available')"
      ],
      "execution_count": null,
      "outputs": []
    },
    {
      "cell_type": "markdown",
      "metadata": {
        "id": "QFTaalX0iSoD"
      },
      "source": [
        "**Test**"
      ]
    },
    {
      "cell_type": "code",
      "metadata": {
        "id": "1Ca9SeQOiRS3",
        "colab": {
          "base_uri": "https://localhost:8080/",
          "height": 330
        },
        "outputId": "dbb6c492-f6fe-49cc-8f51-bd50be33e989"
      },
      "source": [
        "patients_copy.sample(5)"
      ],
      "execution_count": null,
      "outputs": [
        {
          "output_type": "execute_result",
          "data": {
            "text/html": [
              "<div>\n",
              "<style scoped>\n",
              "    .dataframe tbody tr th:only-of-type {\n",
              "        vertical-align: middle;\n",
              "    }\n",
              "\n",
              "    .dataframe tbody tr th {\n",
              "        vertical-align: top;\n",
              "    }\n",
              "\n",
              "    .dataframe thead th {\n",
              "        text-align: right;\n",
              "    }\n",
              "</style>\n",
              "<table border=\"1\" class=\"dataframe\">\n",
              "  <thead>\n",
              "    <tr style=\"text-align: right;\">\n",
              "      <th></th>\n",
              "      <th>patient_id</th>\n",
              "      <th>assigned_sex</th>\n",
              "      <th>given_name</th>\n",
              "      <th>surname</th>\n",
              "      <th>address</th>\n",
              "      <th>city</th>\n",
              "      <th>state</th>\n",
              "      <th>zip_code</th>\n",
              "      <th>country</th>\n",
              "      <th>birthdate</th>\n",
              "      <th>weight</th>\n",
              "      <th>height</th>\n",
              "      <th>bmi</th>\n",
              "      <th>phone_number</th>\n",
              "      <th>email</th>\n",
              "    </tr>\n",
              "  </thead>\n",
              "  <tbody>\n",
              "    <tr>\n",
              "      <th>70</th>\n",
              "      <td>71</td>\n",
              "      <td>male</td>\n",
              "      <td>Alexander</td>\n",
              "      <td>Mathiesen</td>\n",
              "      <td>3130 Jessie Street</td>\n",
              "      <td>Athens</td>\n",
              "      <td>OH</td>\n",
              "      <td>45701</td>\n",
              "      <td>United States</td>\n",
              "      <td>1955-12-02</td>\n",
              "      <td>195.6</td>\n",
              "      <td>68</td>\n",
              "      <td>29.7</td>\n",
              "      <td>740 629 5172</td>\n",
              "      <td>AlexanderEMathiesen@superrito.com</td>\n",
              "    </tr>\n",
              "    <tr>\n",
              "      <th>241</th>\n",
              "      <td>242</td>\n",
              "      <td>female</td>\n",
              "      <td>Skye</td>\n",
              "      <td>Gormanston</td>\n",
              "      <td>936 Lightning Point Drive</td>\n",
              "      <td>Arlington</td>\n",
              "      <td>TN</td>\n",
              "      <td>38002</td>\n",
              "      <td>United States</td>\n",
              "      <td>1934-01-20</td>\n",
              "      <td>139.7</td>\n",
              "      <td>60</td>\n",
              "      <td>27.3</td>\n",
              "      <td>901-484-5225</td>\n",
              "      <td>SkyeGormanston@dayrep.com</td>\n",
              "    </tr>\n",
              "    <tr>\n",
              "      <th>358</th>\n",
              "      <td>359</td>\n",
              "      <td>female</td>\n",
              "      <td>Amalie</td>\n",
              "      <td>Christensen</td>\n",
              "      <td>3077 Colony Street</td>\n",
              "      <td>Meriden</td>\n",
              "      <td>CT</td>\n",
              "      <td>06450</td>\n",
              "      <td>United States</td>\n",
              "      <td>1941-10-01</td>\n",
              "      <td>160.8</td>\n",
              "      <td>63</td>\n",
              "      <td>28.5</td>\n",
              "      <td>203 235 1076</td>\n",
              "      <td>AmalieJChristensen@einrot.com</td>\n",
              "    </tr>\n",
              "    <tr>\n",
              "      <th>336</th>\n",
              "      <td>337</td>\n",
              "      <td>female</td>\n",
              "      <td>Sharon</td>\n",
              "      <td>Collins</td>\n",
              "      <td>1240 Summit Park Avenue</td>\n",
              "      <td>Pontiac</td>\n",
              "      <td>MI</td>\n",
              "      <td>48342</td>\n",
              "      <td>United States</td>\n",
              "      <td>1932-09-03</td>\n",
              "      <td>164.8</td>\n",
              "      <td>67</td>\n",
              "      <td>25.8</td>\n",
              "      <td>248-978-1574</td>\n",
              "      <td>SharonLCollins@jourrapide.com</td>\n",
              "    </tr>\n",
              "    <tr>\n",
              "      <th>257</th>\n",
              "      <td>258</td>\n",
              "      <td>male</td>\n",
              "      <td>Jin</td>\n",
              "      <td>Kung</td>\n",
              "      <td>Address not found</td>\n",
              "      <td>City not found</td>\n",
              "      <td>State not found</td>\n",
              "      <td>Zip code not found</td>\n",
              "      <td>United States</td>\n",
              "      <td>1995-05-17</td>\n",
              "      <td>231.7</td>\n",
              "      <td>69</td>\n",
              "      <td>34.2</td>\n",
              "      <td>Phone number not found</td>\n",
              "      <td>Email not found</td>\n",
              "    </tr>\n",
              "  </tbody>\n",
              "</table>\n",
              "</div>"
            ],
            "text/plain": [
              "     patient_id  ...                              email\n",
              "70           71  ...  AlexanderEMathiesen@superrito.com\n",
              "241         242  ...          SkyeGormanston@dayrep.com\n",
              "358         359  ...      AmalieJChristensen@einrot.com\n",
              "336         337  ...      SharonLCollins@jourrapide.com\n",
              "257         258  ...                    Email not found\n",
              "\n",
              "[5 rows x 15 columns]"
            ]
          },
          "metadata": {
            "tags": []
          },
          "execution_count": 282
        }
      ]
    },
    {
      "cell_type": "code",
      "metadata": {
        "id": "RGWMK_DFiWDh",
        "colab": {
          "base_uri": "https://localhost:8080/",
          "height": 195
        },
        "outputId": "6d9b3033-3707-4499-9095-ab6f722198df"
      },
      "source": [
        "treatment_copy.sample(5)"
      ],
      "execution_count": null,
      "outputs": [
        {
          "output_type": "execute_result",
          "data": {
            "text/html": [
              "<div>\n",
              "<style scoped>\n",
              "    .dataframe tbody tr th:only-of-type {\n",
              "        vertical-align: middle;\n",
              "    }\n",
              "\n",
              "    .dataframe tbody tr th {\n",
              "        vertical-align: top;\n",
              "    }\n",
              "\n",
              "    .dataframe thead th {\n",
              "        text-align: right;\n",
              "    }\n",
              "</style>\n",
              "<table border=\"1\" class=\"dataframe\">\n",
              "  <thead>\n",
              "    <tr style=\"text-align: right;\">\n",
              "      <th></th>\n",
              "      <th>hba1c_start</th>\n",
              "      <th>hba1c_end</th>\n",
              "      <th>hba1c_change</th>\n",
              "      <th>treatment</th>\n",
              "      <th>start</th>\n",
              "      <th>end</th>\n",
              "      <th>adverse_reaction</th>\n",
              "      <th>patient_id</th>\n",
              "    </tr>\n",
              "  </thead>\n",
              "  <tbody>\n",
              "    <tr>\n",
              "      <th>120</th>\n",
              "      <td>9.48</td>\n",
              "      <td>9.06</td>\n",
              "      <td>0.42</td>\n",
              "      <td>auralin</td>\n",
              "      <td>39u</td>\n",
              "      <td>47u</td>\n",
              "      <td>Information Not Available</td>\n",
              "      <td>53</td>\n",
              "    </tr>\n",
              "    <tr>\n",
              "      <th>219</th>\n",
              "      <td>7.88</td>\n",
              "      <td>7.50</td>\n",
              "      <td>0.38</td>\n",
              "      <td>novodra</td>\n",
              "      <td>38u</td>\n",
              "      <td>39u</td>\n",
              "      <td>cough</td>\n",
              "      <td>259</td>\n",
              "    </tr>\n",
              "    <tr>\n",
              "      <th>234</th>\n",
              "      <td>7.50</td>\n",
              "      <td>7.08</td>\n",
              "      <td>0.42</td>\n",
              "      <td>novodra</td>\n",
              "      <td>22u</td>\n",
              "      <td>23u</td>\n",
              "      <td>Information Not Available</td>\n",
              "      <td>271</td>\n",
              "    </tr>\n",
              "    <tr>\n",
              "      <th>222</th>\n",
              "      <td>7.73</td>\n",
              "      <td>7.32</td>\n",
              "      <td>0.41</td>\n",
              "      <td>novodra</td>\n",
              "      <td>41u</td>\n",
              "      <td>40u</td>\n",
              "      <td>Information Not Available</td>\n",
              "      <td>123</td>\n",
              "    </tr>\n",
              "    <tr>\n",
              "      <th>326</th>\n",
              "      <td>7.68</td>\n",
              "      <td>7.36</td>\n",
              "      <td>0.32</td>\n",
              "      <td>novodra</td>\n",
              "      <td>52u</td>\n",
              "      <td>52u</td>\n",
              "      <td>Information Not Available</td>\n",
              "      <td>262</td>\n",
              "    </tr>\n",
              "  </tbody>\n",
              "</table>\n",
              "</div>"
            ],
            "text/plain": [
              "     hba1c_start  hba1c_end  ...           adverse_reaction patient_id\n",
              "120         9.48       9.06  ...  Information Not Available         53\n",
              "219         7.88       7.50  ...                      cough        259\n",
              "234         7.50       7.08  ...  Information Not Available        271\n",
              "222         7.73       7.32  ...  Information Not Available        123\n",
              "326         7.68       7.36  ...  Information Not Available        262\n",
              "\n",
              "[5 rows x 8 columns]"
            ]
          },
          "metadata": {
            "tags": []
          },
          "execution_count": 287
        }
      ]
    }
  ]
}